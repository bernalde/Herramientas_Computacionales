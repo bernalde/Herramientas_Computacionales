{
 "metadata": {
  "name": ""
 },
 "nbformat": 3,
 "nbformat_minor": 0,
 "worksheets": [
  {
   "cells": [
    {
     "cell_type": "code",
     "collapsed": false,
     "input": [
      "%pylab inline\n",
      "import os"
     ],
     "language": "python",
     "metadata": {},
     "outputs": [
      {
       "output_type": "stream",
       "stream": "stdout",
       "text": [
        "Populating the interactive namespace from numpy and matplotlib\n"
       ]
      }
     ],
     "prompt_number": 29
    },
    {
     "cell_type": "code",
     "collapsed": false,
     "input": [
      "#Importar datos en un array y eliminar primera fila\n",
      "if(os.path.isfile('cromX.dat')):\n",
      "    os.remove('cromX.dat')\n",
      "!wget https://raw.githubusercontent.com/jngaravitoc/HerramientasComputacionales/master/Homeworks/HW9/cromX.dat"
     ],
     "language": "python",
     "metadata": {},
     "outputs": [
      {
       "output_type": "stream",
       "stream": "stdout",
       "text": [
        "--2014-10-21 12:02:54--  https://raw.githubusercontent.com/jngaravitoc/HerramientasComputacionales/master/Homeworks/HW9/cromX.dat\r\n",
        "Resolviendo raw.githubusercontent.com (raw.githubusercontent.com)... "
       ]
      },
      {
       "output_type": "stream",
       "stream": "stdout",
       "text": [
        "23.235.46.133\r\n",
        "Conectando con raw.githubusercontent.com (raw.githubusercontent.com)[23.235.46.133]:443... "
       ]
      },
      {
       "output_type": "stream",
       "stream": "stdout",
       "text": [
        "conectado.\r\n"
       ]
      },
      {
       "output_type": "stream",
       "stream": "stdout",
       "text": [
        "Petici\u00f3n HTTP enviada, esperando respuesta... "
       ]
      },
      {
       "output_type": "stream",
       "stream": "stdout",
       "text": [
        "200 OK\r\n",
        "Longitud: 6968734 (6,6M) [text/plain]\r\n",
        "Grabando a: \u201ccromX.dat\u201d\r\n",
        "\r\n",
        "\r",
        " 0% [                                       ] 0           --.-K/s              "
       ]
      },
      {
       "output_type": "stream",
       "stream": "stdout",
       "text": [
        "\r",
        " 0% [                                       ] 63.334       283K/s              "
       ]
      },
      {
       "output_type": "stream",
       "stream": "stdout",
       "text": [
        "\r",
        " 3% [>                                      ] 237.568      531K/s              "
       ]
      },
      {
       "output_type": "stream",
       "stream": "stdout",
       "text": [
        "\r",
        " 6% [=>                                     ] 471.334      698K/s              "
       ]
      },
      {
       "output_type": "stream",
       "stream": "stdout",
       "text": [
        "\r",
        "13% [====>                                  ] 966.656     1,06M/s              "
       ]
      },
      {
       "output_type": "stream",
       "stream": "stdout",
       "text": [
        "\r",
        "29% [==========>                            ] 2.087.334   1,82M/s              "
       ]
      },
      {
       "output_type": "stream",
       "stream": "stdout",
       "text": [
        "\r",
        "60% [======================>                ] 4.231.334   2,91M/s              "
       ]
      },
      {
       "output_type": "stream",
       "stream": "stdout",
       "text": [
        "\r",
        "60% [======================>                ] 4.239.334   2,41M/s              "
       ]
      },
      {
       "output_type": "stream",
       "stream": "stdout",
       "text": [
        "\r",
        "63% [=======================>               ] 4.431.334   2,00M/s              "
       ]
      },
      {
       "output_type": "stream",
       "stream": "stdout",
       "text": [
        "\r",
        "63% [=======================>               ] 4.439.334   1,71M/s              "
       ]
      },
      {
       "output_type": "stream",
       "stream": "stdout",
       "text": [
        "\r",
        "63% [=======================>               ] 4.447.334   1,49M/s              "
       ]
      },
      {
       "output_type": "stream",
       "stream": "stdout",
       "text": [
        "\r",
        "63% [=======================>               ] 4.455.334   1,29M/s  T.E. 2s     "
       ]
      },
      {
       "output_type": "stream",
       "stream": "stdout",
       "text": [
        "\r",
        "64% [=======================>               ] 4.463.334   1,14M/s  T.E. 2s     "
       ]
      },
      {
       "output_type": "stream",
       "stream": "stdout",
       "text": [
        "\r",
        "66% [=========================>             ] 4.655.334   1,13M/s  T.E. 2s     "
       ]
      },
      {
       "output_type": "stream",
       "stream": "stdout",
       "text": [
        "\r",
        "69% [==========================>            ] 4.871.334   1,06M/s  T.E. 2s     "
       ]
      },
      {
       "output_type": "stream",
       "stream": "stdout",
       "text": [
        "\r",
        "70% [==========================>            ] 4.879.334   1005K/s  T.E. 2s     "
       ]
      },
      {
       "output_type": "stream",
       "stream": "stdout",
       "text": [
        "\r",
        "70% [==========================>            ] 4.882.432    961K/s  T.E. 2s     "
       ]
      },
      {
       "output_type": "stream",
       "stream": "stdout",
       "text": [
        "\r",
        "70% [==========================>            ] 4.887.334    922K/s  T.E. 2s     "
       ]
      },
      {
       "output_type": "stream",
       "stream": "stdout",
       "text": [
        "\r",
        "70% [==========================>            ] 4.890.624    885K/s  T.E. 2s     "
       ]
      },
      {
       "output_type": "stream",
       "stream": "stdout",
       "text": [
        "\r",
        "70% [==========================>            ] 4.895.334    874K/s  T.E. 2s     "
       ]
      },
      {
       "output_type": "stream",
       "stream": "stdout",
       "text": [
        "\r",
        "70% [==========================>            ] 4.898.816    844K/s  T.E. 2s     "
       ]
      },
      {
       "output_type": "stream",
       "stream": "stdout",
       "text": [
        "\r",
        "70% [==========================>            ] 4.903.334    798K/s  T.E. 2s     "
       ]
      },
      {
       "output_type": "stream",
       "stream": "stdout",
       "text": [
        "\r",
        "70% [==========================>            ] 4.907.008    740K/s  T.E. 2s     "
       ]
      },
      {
       "output_type": "stream",
       "stream": "stdout",
       "text": [
        "\r",
        "70% [==========================>            ] 4.911.334    625K/s  T.E. 3s     "
       ]
      },
      {
       "output_type": "stream",
       "stream": "stdout",
       "text": [
        "\r",
        "70% [==========================>            ] 4.915.200    481K/s  T.E. 3s     "
       ]
      },
      {
       "output_type": "stream",
       "stream": "stdout",
       "text": [
        "\r",
        "70% [==========================>            ] 4.919.334    218K/s  T.E. 3s     "
       ]
      },
      {
       "output_type": "stream",
       "stream": "stdout",
       "text": [
        "\r",
        "70% [==========================>            ] 4.923.392    118K/s  T.E. 3s     "
       ]
      },
      {
       "output_type": "stream",
       "stream": "stdout",
       "text": [
        "\r",
        "70% [==========================>            ] 4.931.584    119K/s  T.E. 3s     "
       ]
      },
      {
       "output_type": "stream",
       "stream": "stdout",
       "text": [
        "\r",
        "71% [==========================>            ] 4.980.736   98,1K/s  T.E. 3s     "
       ]
      },
      {
       "output_type": "stream",
       "stream": "stdout",
       "text": [
        "\r",
        "71% [==========================>            ] 4.988.928    101K/s  T.E. 3s     "
       ]
      },
      {
       "output_type": "stream",
       "stream": "stdout",
       "text": [
        "\r",
        "73% [===========================>           ] 5.095.334    122K/s  T.E. 3s     "
       ]
      },
      {
       "output_type": "stream",
       "stream": "stdout",
       "text": [
        "\r",
        "73% [===========================>           ] 5.103.334    124K/s  T.E. 3s     "
       ]
      },
      {
       "output_type": "stream",
       "stream": "stdout",
       "text": [
        "\r",
        "73% [===========================>           ] 5.111.334    124K/s  T.E. 3s     "
       ]
      },
      {
       "output_type": "stream",
       "stream": "stdout",
       "text": [
        "\r",
        "73% [===========================>           ] 5.119.334   85,3K/s  T.E. 3s     "
       ]
      },
      {
       "output_type": "stream",
       "stream": "stdout",
       "text": [
        "\r",
        "73% [===========================>           ] 5.127.334   47,0K/s  T.E. 3s     "
       ]
      },
      {
       "output_type": "stream",
       "stream": "stdout",
       "text": [
        "\r",
        "73% [===========================>           ] 5.135.334   47,0K/s  T.E. 4s     "
       ]
      },
      {
       "output_type": "stream",
       "stream": "stdout",
       "text": [
        "\r",
        "77% [=============================>         ] 5.398.528   91,1K/s  T.E. 4s     "
       ]
      },
      {
       "output_type": "stream",
       "stream": "stdout",
       "text": [
        "\r",
        "77% [=============================>         ] 5.406.720   88,2K/s  T.E. 4s     "
       ]
      },
      {
       "output_type": "stream",
       "stream": "stdout",
       "text": [
        "\r",
        "93% [===================================>   ] 6.529.024    278K/s  T.E. 1s     "
       ]
      },
      {
       "output_type": "stream",
       "stream": "stdout",
       "text": [
        "\r",
        "93% [===================================>   ] 6.543.334    283K/s  T.E. 1s     "
       ]
      },
      {
       "output_type": "stream",
       "stream": "stdout",
       "text": [
        "\r",
        "94% [===================================>   ] 6.551.334    273K/s  T.E. 1s     "
       ]
      },
      {
       "output_type": "stream",
       "stream": "stdout",
       "text": [
        "\r",
        "94% [===================================>   ] 6.559.334    264K/s  T.E. 1s     "
       ]
      },
      {
       "output_type": "stream",
       "stream": "stdout",
       "text": [
        "\r",
        "94% [===================================>   ] 6.567.334    255K/s  T.E. 1s     "
       ]
      },
      {
       "output_type": "stream",
       "stream": "stdout",
       "text": [
        "\r",
        "94% [===================================>   ] 6.575.334    250K/s  T.E. 1s     "
       ]
      },
      {
       "output_type": "stream",
       "stream": "stdout",
       "text": [
        "\r",
        "94% [===================================>   ] 6.578.176    250K/s  T.E. 1s     "
       ]
      },
      {
       "output_type": "stream",
       "stream": "stdout",
       "text": [
        "\r",
        "94% [===================================>   ] 6.583.334    250K/s  T.E. 1s     "
       ]
      },
      {
       "output_type": "stream",
       "stream": "stdout",
       "text": [
        "\r",
        "94% [===================================>   ] 6.586.368    249K/s  T.E. 1s     "
       ]
      },
      {
       "output_type": "stream",
       "stream": "stdout",
       "text": [
        "\r",
        "94% [===================================>   ] 6.591.334    242K/s  T.E. 1s     "
       ]
      },
      {
       "output_type": "stream",
       "stream": "stdout",
       "text": [
        "\r",
        "94% [===================================>   ] 6.599.334    234K/s  T.E. 1s     "
       ]
      },
      {
       "output_type": "stream",
       "stream": "stdout",
       "text": [
        "\r",
        "94% [===================================>   ] 6.607.334    218K/s  T.E. 1s     "
       ]
      },
      {
       "output_type": "stream",
       "stream": "stdout",
       "text": [
        "\r",
        "94% [====================================>  ] 6.615.334    218K/s  T.E. 1s     "
       ]
      },
      {
       "output_type": "stream",
       "stream": "stdout",
       "text": [
        "\r",
        "95% [====================================>  ] 6.623.334    225K/s  T.E. 1s     "
       ]
      },
      {
       "output_type": "stream",
       "stream": "stdout",
       "text": [
        "\r",
        "95% [====================================>  ] 6.631.334    230K/s  T.E. 1s     "
       ]
      },
      {
       "output_type": "stream",
       "stream": "stdout",
       "text": [
        "\r",
        "95% [====================================>  ] 6.639.334    236K/s  T.E. 1s     "
       ]
      },
      {
       "output_type": "stream",
       "stream": "stdout",
       "text": [
        "\r",
        "95% [====================================>  ] 6.647.334    241K/s  T.E. 1s     "
       ]
      },
      {
       "output_type": "stream",
       "stream": "stdout",
       "text": [
        "\r",
        "95% [====================================>  ] 6.687.334    213K/s  T.E. 1s     "
       ]
      },
      {
       "output_type": "stream",
       "stream": "stdout",
       "text": [
        "\r",
        "96% [====================================>  ] 6.701.056    219K/s  T.E. 1s     "
       ]
      },
      {
       "output_type": "stream",
       "stream": "stdout",
       "text": [
        "\r",
        "96% [====================================>  ] 6.711.334   30,8K/s  T.E. 1s     "
       ]
      },
      {
       "output_type": "stream",
       "stream": "stdout",
       "text": [
        "\r",
        "96% [====================================>  ] 6.725.632   31,2K/s  T.E. 1s     "
       ]
      },
      {
       "output_type": "stream",
       "stream": "stdout",
       "text": [
        "\r",
        "96% [====================================>  ] 6.733.824   31,5K/s  T.E. 1s     "
       ]
      },
      {
       "output_type": "stream",
       "stream": "stdout",
       "text": [
        "\r",
        "96% [====================================>  ] 6.742.016   31,9K/s  T.E. 1s     "
       ]
      },
      {
       "output_type": "stream",
       "stream": "stdout",
       "text": [
        "\r",
        "96% [====================================>  ] 6.750.208   32,0K/s  T.E. 1s     "
       ]
      },
      {
       "output_type": "stream",
       "stream": "stdout",
       "text": [
        "\r",
        "96% [====================================>  ] 6.758.400   32,0K/s  T.E. 1s     "
       ]
      },
      {
       "output_type": "stream",
       "stream": "stdout",
       "text": [
        "\r",
        "97% [====================================>  ] 6.766.592   31,7K/s  T.E. 1s     "
       ]
      },
      {
       "output_type": "stream",
       "stream": "stdout",
       "text": [
        "\r",
        "97% [====================================>  ] 6.774.784   31,8K/s  T.E. 1s     "
       ]
      },
      {
       "output_type": "stream",
       "stream": "stdout",
       "text": [
        "\r",
        "97% [====================================>  ] 6.782.976   31,5K/s  T.E. 1s     "
       ]
      },
      {
       "output_type": "stream",
       "stream": "stdout",
       "text": [
        "\r",
        "97% [=====================================> ] 6.791.168   32,3K/s  T.E. 1s     "
       ]
      },
      {
       "output_type": "stream",
       "stream": "stdout",
       "text": [
        "\r",
        "97% [=====================================> ] 6.799.334   32,8K/s  T.E. 1s     "
       ]
      },
      {
       "output_type": "stream",
       "stream": "stdout",
       "text": [
        "\r",
        "97% [=====================================> ] 6.807.334   33,6K/s  T.E. 1s     "
       ]
      },
      {
       "output_type": "stream",
       "stream": "stdout",
       "text": [
        "\r",
        "97% [=====================================> ] 6.815.334   33,6K/s  T.E. 1s     "
       ]
      },
      {
       "output_type": "stream",
       "stream": "stdout",
       "text": [
        "\r",
        "97% [=====================================> ] 6.823.334   34,4K/s  T.E. 1s     "
       ]
      },
      {
       "output_type": "stream",
       "stream": "stdout",
       "text": [
        "\r",
        "98% [=====================================> ] 6.831.334   33,6K/s  T.E. 0s     "
       ]
      },
      {
       "output_type": "stream",
       "stream": "stdout",
       "text": [
        "\r",
        "98% [=====================================> ] 6.839.334   33,6K/s  T.E. 0s     "
       ]
      },
      {
       "output_type": "stream",
       "stream": "stdout",
       "text": [
        "\r",
        "98% [=====================================> ] 6.847.334   33,6K/s  T.E. 0s     "
       ]
      },
      {
       "output_type": "stream",
       "stream": "stdout",
       "text": [
        "\r",
        "98% [=====================================> ] 6.855.334   33,6K/s  T.E. 0s     "
       ]
      },
      {
       "output_type": "stream",
       "stream": "stdout",
       "text": [
        "\r",
        "98% [=====================================> ] 6.863.334   28,4K/s  T.E. 0s     "
       ]
      },
      {
       "output_type": "stream",
       "stream": "stdout",
       "text": [
        "\r",
        "98% [=====================================> ] 6.879.334   29,2K/s  T.E. 0s     "
       ]
      },
      {
       "output_type": "stream",
       "stream": "stdout",
       "text": [
        "\r",
        "98% [=====================================> ] 6.887.334   28,8K/s  T.E. 0s     "
       ]
      },
      {
       "output_type": "stream",
       "stream": "stdout",
       "text": [
        "\r",
        "99% [=====================================> ] 6.903.334   29,1K/s  T.E. 0s     "
       ]
      },
      {
       "output_type": "stream",
       "stream": "stdout",
       "text": [
        "\r",
        "99% [=====================================> ] 6.914.048   29,5K/s  T.E. 0s     "
       ]
      },
      {
       "output_type": "stream",
       "stream": "stdout",
       "text": [
        "\r",
        "99% [=====================================> ] 6.927.334   31,1K/s  T.E. 0s     "
       ]
      },
      {
       "output_type": "stream",
       "stream": "stdout",
       "text": [
        "\r",
        "99% [=====================================> ] 6.935.334   31,4K/s  T.E. 0s     "
       ]
      },
      {
       "output_type": "stream",
       "stream": "stdout",
       "text": [
        "\r",
        "99% [=====================================> ] 6.938.624   31,8K/s  T.E. 0s     "
       ]
      },
      {
       "output_type": "stream",
       "stream": "stdout",
       "text": [
        "\r",
        "99% [=====================================> ] 6.946.816   32,7K/s  T.E. 0s     "
       ]
      },
      {
       "output_type": "stream",
       "stream": "stdout",
       "text": [
        "\r",
        "99% [=====================================> ] 6.955.008   33,1K/s  T.E. 0s     "
       ]
      },
      {
       "output_type": "stream",
       "stream": "stdout",
       "text": [
        "\r",
        "99% [=====================================> ] 6.967.334   34,3K/s  T.E. 0s     \r",
        "100%[======================================>] 6.968.734   34,6K/s   en 25s     \r\n",
        "\r\n",
        "2014-10-21 12:03:20 (272 KB/s) - \u201ccromX.dat\u201d guardado [6968734/6968734]\r\n",
        "\r\n"
       ]
      }
     ],
     "prompt_number": 30
    },
    {
     "cell_type": "code",
     "collapsed": false,
     "input": [
      "countA=empty(0)\n",
      "countT=empty(0)\n",
      "countG=empty(0)\n",
      "countC=empty(0)\n",
      "f=open('cromX.dat','r')\n",
      "for line in f.xreadlines():\n",
      "    countA=np.append(countA,line.count('A'))\n",
      "    countT=np.append(countT,line.count('T'))\n",
      "    countG=np.append(countG,line.count('G'))\n",
      "    countC=np.append(countC,line.count('C'))"
     ],
     "language": "python",
     "metadata": {},
     "outputs": [],
     "prompt_number": 31
    },
    {
     "cell_type": "code",
     "collapsed": false,
     "input": [
      "print 'Adenina'\n",
      "print 'media:',np.mean(countA)\n",
      "print 'mediana:',np.median(countA)\n",
      "print 'desviaci\u00f3n est\u00e1ndar:',np.std(countA)\n",
      "print 'Timina'\n",
      "print 'media:',np.mean(countT)\n",
      "print 'mediana:',np.median(countT)\n",
      "print 'desviaci\u00f3n est\u00e1ndar:',np.std(countT)\n",
      "print 'Citocina'\n",
      "print 'media:',np.mean(countC)\n",
      "print 'mediana:',np.median(countC)\n",
      "print 'desviaci\u00f3n est\u00e1ndar:',np.std(countC)\n",
      "print 'Guanina'\n",
      "print 'media:',np.mean(countG)\n",
      "print 'mediana:',np.median(countG)\n",
      "print 'desviaci\u00f3n est\u00e1ndar:',np.std(countG)"
     ],
     "language": "python",
     "metadata": {},
     "outputs": [
      {
       "output_type": "stream",
       "stream": "stdout",
       "text": [
        "Adenina\n",
        "media: 19.5769103608\n",
        "mediana: 19.0\n",
        "desviaci\u00f3n est\u00e1ndar: 6.87390974593\n",
        "Timina\n",
        "media: 19.5007128983\n",
        "mediana: 19.0\n",
        "desviaci\u00f3n est\u00e1ndar: 6.87724757342\n",
        "Citocina\n",
        "media: 15.495154358\n",
        "mediana: 15.0\n",
        "desviaci\u00f3n est\u00e1ndar: 6.04670995151\n",
        "Guanina\n",
        "media: 15.4272223829\n",
        "mediana: 15.0\n",
        "desviaci\u00f3n est\u00e1ndar: 5.99559042485\n"
       ]
      }
     ],
     "prompt_number": 32
    },
    {
     "cell_type": "code",
     "collapsed": false,
     "input": [
      "plt.figure(figsize=(10,10))\n",
      "plt.subplot(311)\n",
      "plt.hist((countG,countC),cumulative='True',normed='True',bins=40,hold='on',color=('blue','red'),range=(0,40))\n",
      "ylim(0,1.1)\n",
      "plt.legend(['Guanina','Citocina'])\n",
      "title('Estudio de la frecuencia de las bases nitrogenadas \\n en fragmentos del cromosoma X')\n",
      "plt.subplot(312)\n",
      "plt.hist((countA,countT),cumulative='True',normed='True',bins=40,hold='on',color=('yellow','black'),range=(0,40))\n",
      "ylim(0,1.1)\n",
      "plt.legend(['Adenina','Timina'])\n",
      "ylabel('$f_a$')\n",
      "plt.subplot(313)\n",
      "plt.hist((countG,countA),cumulative='True',normed='True',bins=40,hold='on',color=('blue','yellow'),range=(0,40))\n",
      "ylim(0,1.1)\n",
      "plt.legend(['Guanina','Adenina'])\n",
      "\n",
      "xlabel('N')"
     ],
     "language": "python",
     "metadata": {},
     "outputs": [
      {
       "metadata": {},
       "output_type": "pyout",
       "prompt_number": 33,
       "text": [
        "<matplotlib.text.Text at 0xbdea190>"
       ]
      },
      {
       "metadata": {},
       "output_type": "display_data",
       "png": "[encoded data removed]",
       "text": [
        "<matplotlib.figure.Figure at 0x8ef8bd0>"
       ]
      }
     ],
     "prompt_number": 33
    },
    {
     "cell_type": "code",
     "collapsed": false,
     "input": [],
     "language": "python",
     "metadata": {},
     "outputs": []
    }
   ],
   "metadata": {}
  }
 ]
}