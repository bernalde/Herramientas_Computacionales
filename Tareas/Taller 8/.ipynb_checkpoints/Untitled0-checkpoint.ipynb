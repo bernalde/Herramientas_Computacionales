{
 "metadata": {
  "name": ""
 },
 "nbformat": 3,
 "nbformat_minor": 0,
 "worksheets": [
  {
   "cells": [
    {
     "cell_type": "code",
     "collapsed": false,
     "input": [
      "#David Bernal 200921359 Tarea 8 Punto 1 Herramientas computacionales\n",
      "%pylab inline\n",
      "import csv\n",
      "import os"
     ],
     "language": "python",
     "metadata": {},
     "outputs": [
      {
       "output_type": "stream",
       "stream": "stdout",
       "text": [
        "Populating the interactive namespace from numpy and matplotlib\n"
       ]
      },
      {
       "output_type": "stream",
       "stream": "stderr",
       "text": [
        "WARNING: pylab import has clobbered these variables: ['figure', 'xlim', 'ylim']\n",
        "`%pylab --no-import-all` prevents importing * from pylab and numpy\n"
       ]
      }
     ],
     "prompt_number": 142
    },
    {
     "cell_type": "code",
     "collapsed": false,
     "input": [
      "#Importar datos en un array y eliminar primera fila\n",
      "if(os.path.isfile('quakes.csv')):\n",
      "    os.remove('quakes.csv')\n",
      "!wget https://raw.githubusercontent.com/jngaravitoc/HerramientasComputacionales/master/Homeworks/HW8/quakes.csv\n",
      "!ex -c ':1d' -c ':wq' 'quakes.csv'"
     ],
     "language": "python",
     "metadata": {},
     "outputs": [
      {
       "output_type": "stream",
       "stream": "stdout",
       "text": [
        "--2014-10-07 15:34:43--  https://raw.githubusercontent.com/jngaravitoc/HerramientasComputacionales/master/Homeworks/HW8/quakes.csv\r\n",
        "Resolviendo raw.githubusercontent.com (raw.githubusercontent.com)... "
       ]
      },
      {
       "output_type": "stream",
       "stream": "stdout",
       "text": [
        "23.235.39.133\r\n",
        "Conectando con raw.githubusercontent.com (raw.githubusercontent.com)[23.235.39.133]:443... "
       ]
      },
      {
       "output_type": "stream",
       "stream": "stdout",
       "text": [
        "conectado.\r\n"
       ]
      },
      {
       "output_type": "stream",
       "stream": "stdout",
       "text": [
        "Petici\u00f3n HTTP enviada, esperando respuesta... "
       ]
      },
      {
       "output_type": "stream",
       "stream": "stdout",
       "text": [
        "200 OK\r\n",
        "Longitud: 6890226 (6,6M) [text/plain]\r\n",
        "Grabando a: \u201cquakes.csv\u201d\r\n",
        "\r\n",
        "\r",
        " 0% [                                       ] 0           --.-K/s              "
       ]
      },
      {
       "output_type": "stream",
       "stream": "stdout",
       "text": [
        "\r",
        " 0% [                                       ] 55.334       214K/s              "
       ]
      },
      {
       "output_type": "stream",
       "stream": "stdout",
       "text": [
        "\r",
        " 1% [                                       ] 90.112       174K/s              "
       ]
      },
      {
       "output_type": "stream",
       "stream": "stdout",
       "text": [
        "\r",
        " 2% [                                       ] 139.264      179K/s              "
       ]
      },
      {
       "output_type": "stream",
       "stream": "stdout",
       "text": [
        "\r",
        " 2% [>                                      ] 188.416      182K/s              "
       ]
      },
      {
       "output_type": "stream",
       "stream": "stdout",
       "text": [
        "\r",
        " 3% [>                                      ] 247.334      191K/s              "
       ]
      },
      {
       "output_type": "stream",
       "stream": "stdout",
       "text": [
        "\r",
        " 4% [>                                      ] 311.296      201K/s              "
       ]
      },
      {
       "output_type": "stream",
       "stream": "stdout",
       "text": [
        "\r",
        " 5% [=>                                     ] 383.334      212K/s              "
       ]
      },
      {
       "output_type": "stream",
       "stream": "stdout",
       "text": [
        "\r",
        " 6% [=>                                     ] 455.334      220K/s              "
       ]
      },
      {
       "output_type": "stream",
       "stream": "stdout",
       "text": [
        "\r",
        " 7% [==>                                    ] 532.480      229K/s              "
       ]
      },
      {
       "output_type": "stream",
       "stream": "stdout",
       "text": [
        "\r",
        " 9% [==>                                    ] 622.592      241K/s              "
       ]
      },
      {
       "output_type": "stream",
       "stream": "stdout",
       "text": [
        "\r",
        "10% [===>                                   ] 711.334      250K/s              "
       ]
      },
      {
       "output_type": "stream",
       "stream": "stdout",
       "text": [
        "\r",
        "11% [===>                                   ] 783.334      252K/s  T.E. 24s    "
       ]
      },
      {
       "output_type": "stream",
       "stream": "stdout",
       "text": [
        "\r",
        "12% [===>                                   ] 868.352      258K/s  T.E. 24s    "
       ]
      },
      {
       "output_type": "stream",
       "stream": "stdout",
       "text": [
        "\r",
        "13% [====>                                  ] 958.464      264K/s  T.E. 24s    "
       ]
      },
      {
       "output_type": "stream",
       "stream": "stdout",
       "text": [
        "\r",
        "15% [====>                                  ] 1.047.334    270K/s  T.E. 24s    "
       ]
      },
      {
       "output_type": "stream",
       "stream": "stdout",
       "text": [
        "\r",
        "16% [=====>                                 ] 1.143.334    280K/s  T.E. 20s    "
       ]
      },
      {
       "output_type": "stream",
       "stream": "stdout",
       "text": [
        "\r",
        "18% [======>                                ] 1.245.184    293K/s  T.E. 20s    "
       ]
      },
      {
       "output_type": "stream",
       "stream": "stdout",
       "text": [
        "\r",
        "19% [======>                                ] 1.343.488    310K/s  T.E. 20s    "
       ]
      },
      {
       "output_type": "stream",
       "stream": "stdout",
       "text": [
        "\r",
        "21% [=======>                               ] 1.455.334    324K/s  T.E. 20s    "
       ]
      },
      {
       "output_type": "stream",
       "stream": "stdout",
       "text": [
        "\r",
        "22% [=======>                               ] 1.564.672    335K/s  T.E. 17s    "
       ]
      },
      {
       "output_type": "stream",
       "stream": "stdout",
       "text": [
        "\r",
        "24% [========>                              ] 1.687.334    354K/s  T.E. 17s    "
       ]
      },
      {
       "output_type": "stream",
       "stream": "stdout",
       "text": [
        "\r",
        "26% [=========>                             ] 1.807.334    365K/s  T.E. 17s    "
       ]
      },
      {
       "output_type": "stream",
       "stream": "stdout",
       "text": [
        "\r",
        "28% [=========>                             ] 1.933.312    378K/s  T.E. 17s    "
       ]
      },
      {
       "output_type": "stream",
       "stream": "stdout",
       "text": [
        "\r",
        "30% [==========>                            ] 2.072.576    396K/s  T.E. 14s    "
       ]
      },
      {
       "output_type": "stream",
       "stream": "stdout",
       "text": [
        "\r",
        "32% [===========>                           ] 2.211.840    409K/s  T.E. 14s    "
       ]
      },
      {
       "output_type": "stream",
       "stream": "stdout",
       "text": [
        "\r",
        "34% [============>                          ] 2.359.296    420K/s  T.E. 14s    "
       ]
      },
      {
       "output_type": "stream",
       "stream": "stdout",
       "text": [
        "\r",
        "36% [=============>                         ] 2.511.334    445K/s  T.E. 14s    "
       ]
      },
      {
       "output_type": "stream",
       "stream": "stdout",
       "text": [
        "\r",
        "38% [==============>                        ] 2.670.592    462K/s  T.E. 11s    "
       ]
      },
      {
       "output_type": "stream",
       "stream": "stdout",
       "text": [
        "\r",
        "41% [===============>                       ] 2.834.432    480K/s  T.E. 11s    "
       ]
      },
      {
       "output_type": "stream",
       "stream": "stdout",
       "text": [
        "\r",
        "43% [================>                      ] 3.006.464    504K/s  T.E. 11s    "
       ]
      },
      {
       "output_type": "stream",
       "stream": "stdout",
       "text": [
        "\r",
        "46% [=================>                     ] 3.186.688    523K/s  T.E. 11s    "
       ]
      },
      {
       "output_type": "stream",
       "stream": "stdout",
       "text": [
        "\r",
        "48% [==================>                    ] 3.366.912    542K/s  T.E. 8s     "
       ]
      },
      {
       "output_type": "stream",
       "stream": "stdout",
       "text": [
        "\r",
        "51% [===================>                   ] 3.555.328    569K/s  T.E. 8s     "
       ]
      },
      {
       "output_type": "stream",
       "stream": "stdout",
       "text": [
        "\r",
        "54% [====================>                  ] 3.751.334    589K/s  T.E. 8s     "
       ]
      },
      {
       "output_type": "stream",
       "stream": "stdout",
       "text": [
        "\r",
        "57% [=====================>                 ] 3.948.544    608K/s  T.E. 8s     "
       ]
      },
      {
       "output_type": "stream",
       "stream": "stdout",
       "text": [
        "\r",
        "59% [======================>                ] 4.127.334    628K/s  T.E. 6s     "
       ]
      },
      {
       "output_type": "stream",
       "stream": "stdout",
       "text": [
        "\r",
        "61% [======================>                ] 4.218.880    619K/s  T.E. 6s     "
       ]
      },
      {
       "output_type": "stream",
       "stream": "stdout",
       "text": [
        "\r",
        "62% [=======================>               ] 4.308.992    608K/s  T.E. 6s     "
       ]
      },
      {
       "output_type": "stream",
       "stream": "stdout",
       "text": [
        "\r",
        "63% [=======================>               ] 4.399.104    599K/s  T.E. 6s     "
       ]
      },
      {
       "output_type": "stream",
       "stream": "stdout",
       "text": [
        "\r",
        "65% [========================>              ] 4.489.216    585K/s  T.E. 5s     "
       ]
      },
      {
       "output_type": "stream",
       "stream": "stdout",
       "text": [
        "\r",
        "66% [=========================>             ] 4.595.712    575K/s  T.E. 5s     "
       ]
      },
      {
       "output_type": "stream",
       "stream": "stdout",
       "text": [
        "\r",
        "68% [=========================>             ] 4.702.208    564K/s  T.E. 5s     "
       ]
      },
      {
       "output_type": "stream",
       "stream": "stdout",
       "text": [
        "\r",
        "69% [==========================>            ] 4.815.334    553K/s  T.E. 5s     "
       ]
      },
      {
       "output_type": "stream",
       "stream": "stdout",
       "text": [
        "\r",
        "71% [==========================>            ] 4.927.334    540K/s  T.E. 4s     "
       ]
      },
      {
       "output_type": "stream",
       "stream": "stdout",
       "text": [
        "\r",
        "73% [===========================>           ] 5.055.334    527K/s  T.E. 4s     "
       ]
      },
      {
       "output_type": "stream",
       "stream": "stdout",
       "text": [
        "\r",
        "74% [============================>          ] 5.151.334    502K/s  T.E. 4s     "
       ]
      },
      {
       "output_type": "stream",
       "stream": "stdout",
       "text": [
        "\r",
        "76% [============================>          ] 5.292.032    494K/s  T.E. 4s     "
       ]
      },
      {
       "output_type": "stream",
       "stream": "stdout",
       "text": [
        "\r",
        "78% [=============================>         ] 5.406.720    480K/s  T.E. 3s     "
       ]
      },
      {
       "output_type": "stream",
       "stream": "stdout",
       "text": [
        "\r",
        "80% [==============================>        ] 5.519.334    452K/s  T.E. 3s     "
       ]
      },
      {
       "output_type": "stream",
       "stream": "stdout",
       "text": [
        "\r",
        "81% [==============================>        ] 5.644.288    440K/s  T.E. 3s     "
       ]
      },
      {
       "output_type": "stream",
       "stream": "stdout",
       "text": [
        "\r",
        "83% [===============================>       ] 5.767.168    425K/s  T.E. 3s     "
       ]
      },
      {
       "output_type": "stream",
       "stream": "stdout",
       "text": [
        "\r",
        "85% [================================>      ] 5.898.240    423K/s  T.E. 2s     "
       ]
      },
      {
       "output_type": "stream",
       "stream": "stdout",
       "text": [
        "\r",
        "87% [=================================>     ] 6.031.334    434K/s  T.E. 2s     "
       ]
      },
      {
       "output_type": "stream",
       "stream": "stdout",
       "text": [
        "\r",
        "89% [=================================>     ] 6.167.334    443K/s  T.E. 2s     "
       ]
      },
      {
       "output_type": "stream",
       "stream": "stdout",
       "text": [
        "\r",
        "91% [==================================>    ] 6.303.334    458K/s  T.E. 2s     "
       ]
      },
      {
       "output_type": "stream",
       "stream": "stdout",
       "text": [
        "\r",
        "93% [===================================>   ] 6.447.104    467K/s  T.E. 1s     "
       ]
      },
      {
       "output_type": "stream",
       "stream": "stdout",
       "text": [
        "\r",
        "95% [====================================>  ] 6.591.334    476K/s  T.E. 1s     "
       ]
      },
      {
       "output_type": "stream",
       "stream": "stdout",
       "text": [
        "\r",
        "97% [=====================================> ] 6.742.016    486K/s  T.E. 1s     "
       ]
      },
      {
       "output_type": "stream",
       "stream": "stdout",
       "text": [
        "\r",
        "100%[======================================>] 6.890.226    503K/s   en 15s     \r\n",
        "\r\n",
        "2014-10-07 15:34:59 (451 KB/s) - \u201cquakes.csv\u201d guardado [6890226/6890226]\r\n",
        "\r\n"
       ]
      },
      {
       "output_type": "stream",
       "stream": "stdout",
       "text": [
        "\u001b7\u001b[?47h\u001b[?1h\u001b=\u001b[1;24r\u001b[24;1H\"quakes.csv\" "
       ]
      },
      {
       "output_type": "stream",
       "stream": "stdout",
       "text": [
        "\r",
        "\"quakes.csv\" 110697L, 6890226C\r",
        "\r",
        "\r\n",
        "\"quakes.csv\" "
       ]
      },
      {
       "output_type": "stream",
       "stream": "stdout",
       "text": [
        "\r",
        "\"quakes.csv\" 110696L, 6890163C written\r",
        "\r",
        "\r\n",
        "\u001b[?1l\u001b>\u001b[2J\u001b[?47l\u001b8"
       ]
      }
     ],
     "prompt_number": 143
    },
    {
     "cell_type": "code",
     "collapsed": false,
     "input": [
      "#Definir arrays de datos necesarios\n",
      "EVENTID=np.zeros(0)\n",
      "DATETIME=np.zeros(0)\n",
      "LAT=np.zeros(0)\n",
      "LON=np.zeros(0)\n",
      "DEPTH=np.zeros(0)\n",
      "MAG0=np.zeros(0)\n",
      "\n",
      "with open('quakes.csv', 'rb') as csvfile:\n",
      "     spamreader = csv.reader(csvfile, delimiter=',', quotechar='|')\n",
      "     for row in spamreader:\n",
      "        EVENTID=np.append(EVENTID,float(row[0]))\n",
      "        DATETIME=np.append(DATETIME,float(row[2]))\n",
      "        LAT=np.append(LAT,float(row[3]))\n",
      "        LON=np.append(LON,float(row[4]))\n",
      "        DEPTH=np.append(DEPTH,float(row[5]))\n",
      "        MAG0=np.append(MAG0,float(row[9]))"
     ],
     "language": "python",
     "metadata": {},
     "outputs": [],
     "prompt_number": 144
    },
    {
     "cell_type": "code",
     "collapsed": false,
     "input": [
      "#Punto a.\n",
      "scatter(LON,LAT,s=0.1)\n",
      "plt.xlabel('longitud')\n",
      "plt.ylabel('latitud')\n",
      "plt.grid() "
     ],
     "language": "python",
     "metadata": {},
     "outputs": [
      {
       "metadata": {},
       "output_type": "display_data",
       "png": "[encoded data removed]",
       "text": [
        "<matplotlib.figure.Figure at 0x4b768f50>"
       ]
      }
     ],
     "prompt_number": 145
    },
    {
     "cell_type": "code",
     "collapsed": false,
     "input": [
      "#Punto b.\n",
      "hist(MAG0, normed=True, bins=50, range=(1.999, 7.001))\n",
      "plt.xlabel('Magnitud')\n",
      "plt.ylabel('Frecuencia relativa')\n",
      "title('Frecuencia relativa de la magnitud de terremotos entre el 2000 y 2005')\n",
      "plt.grid() "
     ],
     "language": "python",
     "metadata": {},
     "outputs": [
      {
       "metadata": {},
       "output_type": "display_data",
       "png": "[encoded data removed]",
       "text": [
        "<matplotlib.figure.Figure at 0x4b768090>"
       ]
      }
     ],
     "prompt_number": 146
    },
    {
     "cell_type": "code",
     "collapsed": false,
     "input": [
      "#Punto c.\n",
      "t=np.zeros(0)\n",
      "for i in range(0,len(DATETIME)-1):\n",
      "    t=np.append(t,DATETIME[i+1]-DATETIME[i])"
     ],
     "language": "python",
     "metadata": {},
     "outputs": [],
     "prompt_number": 147
    },
    {
     "cell_type": "code",
     "collapsed": false,
     "input": [
      "#Punto d.\n",
      "t_star=np.mean(t)\n",
      "print t_star"
     ],
     "language": "python",
     "metadata": {},
     "outputs": [
      {
       "output_type": "stream",
       "stream": "stdout",
       "text": [
        "1710.85566936\n"
       ]
      }
     ],
     "prompt_number": 148
    },
    {
     "cell_type": "code",
     "collapsed": false,
     "input": [
      "#Punto e.\n",
      "import matplotlib.pyplot as plt\n",
      "font = {'size'   : 10}\n",
      "matplotlib.rc('font', **font)\n",
      "hist(t,bins=50,range=(0,10000),normed=True,alpha=0.5)\n",
      "plt.xlabel('Tiempo de espera [s]')\n",
      "plt.ylabel('Probabilidad')"
     ],
     "language": "python",
     "metadata": {},
     "outputs": [
      {
       "metadata": {},
       "output_type": "pyout",
       "prompt_number": 151,
       "text": [
        "<matplotlib.text.Text at 0x4bbab110>"
       ]
      },
      {
       "metadata": {},
       "output_type": "display_data",
       "png": "[encoded data removed]",
       "text": [
        "<matplotlib.figure.Figure at 0x85285dd0>"
       ]
      }
     ],
     "prompt_number": 151
    },
    {
     "cell_type": "code",
     "collapsed": false,
     "input": [
      "#Definici\u00f3n del array con la distribuci\u00f3n exponencial\n",
      "Fexp=exp(-t/t_star)/t_star"
     ],
     "language": "python",
     "metadata": {},
     "outputs": [],
     "prompt_number": 152
    },
    {
     "cell_type": "code",
     "collapsed": false,
     "input": [
      "#Punto f.\n",
      "import matplotlib.pyplot as plt\n",
      "font = {'size'   : 10}\n",
      "matplotlib.rc('font', **font)\n",
      "hist(t,bins=50,range=(0,10000),normed=True,alpha=0.5)\n",
      "scatter(t,Fexp,color='red',s=0.5)\n",
      "plt.legend(['Distribucion exponencial','Datos experientales'])\n",
      "plt.xlabel('Tiempo de espera [s]')\n",
      "plt.ylabel('Probabilidad')\n",
      "plt.axis([0,10000,0,0.0007])"
     ],
     "language": "python",
     "metadata": {},
     "outputs": [
      {
       "metadata": {},
       "output_type": "pyout",
       "prompt_number": 153,
       "text": [
        "[0, 10000, 0, 0.0007]"
       ]
      },
      {
       "metadata": {},
       "output_type": "display_data",
       "png": "[encoded data removed]",
       "text": [
        "<matplotlib.figure.Figure at 0x4bb99690>"
       ]
      }
     ],
     "prompt_number": 153
    }
   ],
   "metadata": {}
  }
 ]
}