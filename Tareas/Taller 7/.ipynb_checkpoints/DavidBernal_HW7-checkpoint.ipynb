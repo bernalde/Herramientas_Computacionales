{
 "metadata": {
  "name": ""
 },
 "nbformat": 3,
 "nbformat_minor": 0,
 "worksheets": [
  {
   "cells": [
    {
     "cell_type": "code",
     "collapsed": false,
     "input": [
      "#David Bernal 200921359 Taller 7 Herramientas computacionales\n",
      "%pylab inline"
     ],
     "language": "python",
     "metadata": {},
     "outputs": [
      {
       "output_type": "stream",
       "stream": "stdout",
       "text": [
        "Populating the interactive namespace from numpy and matplotlib\n"
       ]
      }
     ],
     "prompt_number": 1
    },
    {
     "cell_type": "code",
     "collapsed": false,
     "input": [
      "#Parte a.\n",
      "def f(z): #Funci\u00f3n a evaluar\n",
      "    return z*z*z-1.0\n",
      "def df(z): #Derivada de la funci\u00f3n a evaluar\n",
      "    return 3*z*z"
     ],
     "language": "python",
     "metadata": {},
     "outputs": [],
     "prompt_number": 2
    },
    {
     "cell_type": "code",
     "collapsed": false,
     "input": [
      "#Parte b\n",
      "def newton(z): #Funci\u00f3n que lleva a cabo el algoritmo de Newton-Raphson 10 veces\n",
      "    maxiter=10\n",
      "    for i in range(maxiter):\n",
      "        z0 = z - f(z) / df(z)\n",
      "        z = z0\n",
      "    return z0"
     ],
     "language": "python",
     "metadata": {},
     "outputs": [],
     "prompt_number": 3
    },
    {
     "cell_type": "code",
     "collapsed": false,
     "input": [
      "#Parte c\n",
      "def raiz(z): #Funci\u00f3n que asigna un n\u00famero seg\u00fan la cercan\u00eda del valor a cierta ra\u00edz\n",
      "    root_1=1\n",
      "    root_2=complex(-1/2,(sqrt(3)/2))\n",
      "    root_3=complex(-1/2,-(sqrt(3)/2))\n",
      "    d_1=abs(z-root_1)\n",
      "    d_2=abs(z-root_2)\n",
      "    d_3=abs(z-root_3)\n",
      "    if(min(d_1,d_2,d_3)==d_1):\n",
      "        return 1\n",
      "    elif(min(d_1,d_2,d_3)==d_2):\n",
      "        return 2\n",
      "    else:\n",
      "        return 3"
     ],
     "language": "python",
     "metadata": {},
     "outputs": [],
     "prompt_number": 4
    },
    {
     "cell_type": "code",
     "collapsed": false,
     "input": [
      "#Parte d\n",
      "X=500\n",
      "Y=500\n",
      "x0=-1.0\n",
      "x1=1.0\n",
      "y0=1.0\n",
      "y1=-1.0\n",
      "number=np.zeros(shape=(500,500))\n",
      "for i in range(Y):\n",
      "    zy=i*(y1-y0)/(Y-1)+y0\n",
      "    for j in range(X):\n",
      "        zx=j*(x1-x0)/(X-1)+x0\n",
      "        z =complex(zx,zy)\n",
      "        resp=newton(z)\n",
      "        number[i][j]=raiz(resp)"
     ],
     "language": "python",
     "metadata": {},
     "outputs": [],
     "prompt_number": 5
    },
    {
     "cell_type": "code",
     "collapsed": false,
     "input": [
      "#Parte e\n",
      "imshow(number,extent=[-1,1,-1,1])"
     ],
     "language": "python",
     "metadata": {},
     "outputs": [
      {
       "metadata": {},
       "output_type": "pyout",
       "prompt_number": 6,
       "text": [
        "<matplotlib.image.AxesImage at 0x39d8ad0>"
       ]
      },
      {
       "metadata": {},
       "output_type": "display_data",
       "png": "[encoded data removed]",
       "text": [
        "<matplotlib.figure.Figure at 0x3949e50>"
       ]
      }
     ],
     "prompt_number": 6
    },
    {
     "cell_type": "code",
     "collapsed": false,
     "input": [],
     "language": "python",
     "metadata": {},
     "outputs": []
    }
   ],
   "metadata": {}
  }
 ]
}