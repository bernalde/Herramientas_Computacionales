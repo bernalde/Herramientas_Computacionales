{
 "metadata": {
  "name": "Ejemplos"
 },
 "nbformat": 3,
 "nbformat_minor": 0,
 "worksheets": [
  {
   "cells": [
    {
     "cell_type": "code",
     "collapsed": false,
     "input": [
      "%pylab inline \n",
      "# (%pylab == import numpy as np && import matplotlib as plt), (inline == graficas dentro del notebook)"
     ],
     "language": "python",
     "metadata": {},
     "outputs": [
      {
       "output_type": "stream",
       "stream": "stdout",
       "text": [
        "\n",
        "Welcome to pylab, a matplotlib-based Python environment [backend: module://IPython.zmq.pylab.backend_inline].\n",
        "For more information, type 'help(pylab)'.\n"
       ]
      }
     ],
     "prompt_number": 1
    },
    {
     "cell_type": "heading",
     "level": 1,
     "metadata": {},
     "source": [
      "Numpy"
     ]
    },
    {
     "cell_type": "raw",
     "metadata": {},
     "source": [
      "Referencias:"
     ]
    },
    {
     "cell_type": "markdown",
     "metadata": {},
     "source": [
      "http://docs.scipy.org/doc/numpy/reference/"
     ]
    },
    {
     "cell_type": "raw",
     "metadata": {},
     "source": [
      "Caracteristicas principales:\n",
      "   - Arrays\n",
      "   - Funciones Trigonometricas\n",
      "   - Numeros aleatorios"
     ]
    },
    {
     "cell_type": "heading",
     "level": 2,
     "metadata": {},
     "source": [
      "Arrays"
     ]
    },
    {
     "cell_type": "code",
     "collapsed": false,
     "input": [
      "a = np.array([2, 5, 6, 3])\n",
      "\n",
      "print a\n",
      "print type(a)\n",
      "print dtype(a[0])"
     ],
     "language": "python",
     "metadata": {},
     "outputs": [
      {
       "output_type": "stream",
       "stream": "stdout",
       "text": [
        "[2 5 6 3]\n",
        "<type 'numpy.ndarray'>\n",
        "int64\n"
       ]
      }
     ],
     "prompt_number": 2
    },
    {
     "cell_type": "code",
     "collapsed": false,
     "input": [
      "b = np.array([3, 9999, 32, 1])\n",
      "\n",
      "c = a*b\n",
      "d = a+b\n",
      "e = a/b\n",
      "\n",
      "print c\n",
      "print d\n",
      "print e"
     ],
     "language": "python",
     "metadata": {},
     "outputs": [
      {
       "output_type": "stream",
       "stream": "stdout",
       "text": [
        "[    6 49995   192     3]\n",
        "[    5 10004    38     4]\n",
        "[0 0 0 3]\n"
       ]
      }
     ],
     "prompt_number": 3
    },
    {
     "cell_type": "raw",
     "metadata": {},
     "source": [
      "2D Arrays"
     ]
    },
    {
     "cell_type": "code",
     "collapsed": false,
     "input": [
      "x = np.array([[1, 2],[3, 4],[5, 6]])\n",
      "print x, shape(x)"
     ],
     "language": "python",
     "metadata": {},
     "outputs": [
      {
       "output_type": "stream",
       "stream": "stdout",
       "text": [
        "[[1 2]\n",
        " [3 4]\n",
        " [5 6]] (3, 2)\n"
       ]
      }
     ],
     "prompt_number": 4
    },
    {
     "cell_type": "code",
     "collapsed": false,
     "input": [
      "a = arange(18).reshape(9, 2)\n",
      "b = x.reshape(2, 3)\n",
      "print a, shape(b)\n",
      "print b"
     ],
     "language": "python",
     "metadata": {},
     "outputs": [
      {
       "output_type": "stream",
       "stream": "stdout",
       "text": [
        "[[ 0  1]\n",
        " [ 2  3]\n",
        " [ 4  5]\n",
        " [ 6  7]\n",
        " [ 8  9]\n",
        " [10 11]\n",
        " [12 13]\n",
        " [14 15]\n",
        " [16 17]] (2, 3)\n",
        "[[1 2 3]\n",
        " [4 5 6]]\n"
       ]
      }
     ],
     "prompt_number": 5
    },
    {
     "cell_type": "code",
     "collapsed": false,
     "input": [
      "a = np.array([[8, 3],[5, 7],[2, 3]])\n",
      "x = np.array([[1, 2, 3],[4, 5, 6]])\n",
      "\n",
      "print a\n",
      "print x\n",
      "np.dot(a, x)"
     ],
     "language": "python",
     "metadata": {},
     "outputs": [
      {
       "output_type": "stream",
       "stream": "stdout",
       "text": [
        "[[8 3]\n",
        " [5 7]\n",
        " [2 3]]\n",
        "[[1 2 3]\n",
        " [4 5 6]]\n"
       ]
      },
      {
       "output_type": "pyout",
       "prompt_number": 6,
       "text": [
        "array([[20, 31, 42],\n",
        "       [33, 45, 57],\n",
        "       [14, 19, 24]])"
       ]
      }
     ],
     "prompt_number": 6
    },
    {
     "cell_type": "heading",
     "level": 2,
     "metadata": {},
     "source": [
      "Funciones Trigonometricas"
     ]
    },
    {
     "cell_type": "raw",
     "metadata": {},
     "source": [
      "Esta en raidanes!"
     ]
    },
    {
     "cell_type": "code",
     "collapsed": false,
     "input": [
      "a = [0, pi/4., pi/2., pi, 3*pi/2., 2*pi]\n",
      "\n",
      "c = [cos(a[3]), sin(a[5])]\n",
      "\n",
      "print c"
     ],
     "language": "python",
     "metadata": {},
     "outputs": [
      {
       "output_type": "stream",
       "stream": "stdout",
       "text": [
        "[-1.0, -2.4492935982947064e-16]\n"
       ]
      }
     ],
     "prompt_number": 46
    },
    {
     "cell_type": "code",
     "collapsed": false,
     "input": [
      "a = log(10)\n",
      "b = log10(10)\n",
      "\n",
      "print a, b"
     ],
     "language": "python",
     "metadata": {},
     "outputs": [
      {
       "output_type": "stream",
       "stream": "stdout",
       "text": [
        "2.30258509299 1.0\n"
       ]
      }
     ],
     "prompt_number": 48
    },
    {
     "cell_type": "heading",
     "level": 2,
     "metadata": {},
     "source": [
      "Random Numbers:"
     ]
    },
    {
     "cell_type": "code",
     "collapsed": false,
     "input": [
      "a = np.random.random(10)\n",
      "print a"
     ],
     "language": "python",
     "metadata": {},
     "outputs": [
      {
       "output_type": "stream",
       "stream": "stdout",
       "text": [
        "[ 0.23690972  0.6807861   0.09426582  0.42184034  0.1651214   0.96464363\n",
        "  0.0747882   0.24697529  0.2102769   0.01262764]\n"
       ]
      }
     ],
     "prompt_number": 38
    },
    {
     "cell_type": "raw",
     "metadata": {},
     "source": [
      "ahm se me olvido como funciona una funcion!! "
     ]
    },
    {
     "cell_type": "code",
     "collapsed": false,
     "input": [
      "np.random.normal?"
     ],
     "language": "python",
     "metadata": {},
     "outputs": [],
     "prompt_number": 35
    },
    {
     "cell_type": "code",
     "collapsed": false,
     "input": [
      "np.random.normal(1, 10, 20)"
     ],
     "language": "python",
     "metadata": {},
     "outputs": [
      {
       "output_type": "pyout",
       "prompt_number": 36,
       "text": [
        "array([  6.68302695,   1.6390467 ,  22.03937694,   8.4670656 ,\n",
        "        -1.15571003,  11.07339944,  16.65828757, -12.73562635,\n",
        "         2.4526621 ,  -0.05864488,  13.03944944,  -9.2126895 ,\n",
        "        -6.50862958,  19.61356232,   2.73428709,   4.60661847,\n",
        "        10.3366445 ,   2.50495766, -10.88662768,   8.99566979])"
       ]
      }
     ],
     "prompt_number": 36
    },
    {
     "cell_type": "code",
     "collapsed": false,
     "input": [
      "np.linspace(1, 10, 10)"
     ],
     "language": "python",
     "metadata": {},
     "outputs": [
      {
       "output_type": "pyout",
       "prompt_number": 41,
       "text": [
        "array([  1.,   2.,   3.,   4.,   5.,   6.,   7.,   8.,   9.,  10.])"
       ]
      }
     ],
     "prompt_number": 41
    },
    {
     "cell_type": "heading",
     "level": 1,
     "metadata": {},
     "source": [
      "Scipy"
     ]
    },
    {
     "cell_type": "raw",
     "metadata": {},
     "source": [
      "Referencias:\n",
      "    algebra lineal: http://docs.scipy.org/doc/scipy/reference/tutorial/linalg.html\n",
      "    funciones especiales: http://docs.scipy.org/doc/scipy/reference/tutorial/special.html\n",
      "    "
     ]
    },
    {
     "cell_type": "heading",
     "level": 1,
     "metadata": {},
     "source": [
      "Como leer archivos?"
     ]
    },
    {
     "cell_type": "code",
     "collapsed": false,
     "input": [
      "f = open('../data/text.txt', 'r')\n",
      "text=f.readlines()\n",
      "line = text[0]\n",
      "print line\n",
      "print text"
     ],
     "language": "python",
     "metadata": {},
     "outputs": [
      {
       "output_type": "stream",
       "stream": "stdout",
       "text": [
        "hola que mas\n",
        "\n",
        "['hola que mas\\n']\n"
       ]
      }
     ],
     "prompt_number": 30
    },
    {
     "cell_type": "code",
     "collapsed": false,
     "input": [
      "data = np.loadtxt(\"../data/data.ascii\")\n",
      "\n",
      "x = data[:,0]\n",
      "\n",
      "print x"
     ],
     "language": "python",
     "metadata": {},
     "outputs": [
      {
       "output_type": "stream",
       "stream": "stdout",
       "text": [
        "[  1.66337700e+12   2.99292900e+12   1.75295300e+12 ...,   3.82121000e+12\n",
        "   2.71291800e+12  -9.33362700e+12]\n"
       ]
      }
     ],
     "prompt_number": 24
    },
    {
     "cell_type": "heading",
     "level": 1,
     "metadata": {},
     "source": [
      "Funciones"
     ]
    },
    {
     "cell_type": "code",
     "collapsed": false,
     "input": [
      "def pitagoras(x, y):\n",
      "    z = np.sqrt(x**2 + y**2)\n",
      "    return z"
     ],
     "language": "python",
     "metadata": {},
     "outputs": [],
     "prompt_number": 91
    },
    {
     "cell_type": "code",
     "collapsed": false,
     "input": [
      "def trigo():\n",
      "    h = 10*pitagoras(1, 2)\n",
      "    return h"
     ],
     "language": "python",
     "metadata": {},
     "outputs": [],
     "prompt_number": 93
    },
    {
     "cell_type": "code",
     "collapsed": false,
     "input": [
      "trigo()"
     ],
     "language": "python",
     "metadata": {},
     "outputs": [
      {
       "output_type": "pyout",
       "prompt_number": 94,
       "text": [
        "22.360679774997898"
       ]
      }
     ],
     "prompt_number": 94
    },
    {
     "cell_type": "code",
     "collapsed": false,
     "input": [],
     "language": "python",
     "metadata": {},
     "outputs": []
    }
   ],
   "metadata": {}
  }
 ]
}