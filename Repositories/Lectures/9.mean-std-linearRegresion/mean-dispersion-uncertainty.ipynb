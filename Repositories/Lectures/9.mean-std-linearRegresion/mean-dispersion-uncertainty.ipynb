{
 "metadata": {
  "name": "mean-dispersion-uncertainty"
 },
 "nbformat": 3,
 "nbformat_minor": 0,
 "worksheets": [
  {
   "cells": [
    {
     "cell_type": "code",
     "collapsed": false,
     "input": [
      "%pylab inline"
     ],
     "language": "python",
     "metadata": {},
     "outputs": [
      {
       "output_type": "stream",
       "stream": "stdout",
       "text": [
        "\n",
        "Welcome to pylab, a matplotlib-based Python environment [backend: module://IPython.zmq.pylab.backend_inline].\n",
        "For more information, type 'help(pylab)'.\n"
       ]
      }
     ],
     "prompt_number": 1
    },
    {
     "cell_type": "markdown",
     "metadata": {},
     "source": [
      "#Mean or Average\n",
      "\n",
      "\n",
      "$\\bar{x} = \\dfrac{\\sum{x_i}}{N} $"
     ]
    },
    {
     "cell_type": "markdown",
     "metadata": {},
     "source": [
      "#Standar Deviation \n",
      "\n",
      "Es un promedio de las incertidumbres de las mediciones $x_i$\n",
      "\n",
      "$\\sigma = \\sqrt{\\dfrac{1}{N-1} \\sum(x_{i} - \\bar{x})^2}$\n",
      "\n",
      "\u00bfCual sera la incertidumbre de una medida de 0.45 fracciones de cara?\n"
     ]
    },
    {
     "cell_type": "markdown",
     "metadata": {},
     "source": [
      "#Valores de confianza"
     ]
    },
    {
     "cell_type": "code",
     "collapsed": false,
     "input": [
      "def coinflip(N):\n",
      "    cara = 0\n",
      "    sello = 0\n",
      "    i=0\n",
      "    while i < N:\n",
      "        x = np.random.randint(0, 10)/5.0\n",
      "        if x >= 1.0:\n",
      "            cara+=1\n",
      "        elif x<1.0:\n",
      "            sello+=1\n",
      "        i+=1\n",
      "    return cara, sello\n"
     ],
     "language": "python",
     "metadata": {},
     "outputs": [],
     "prompt_number": 3
    },
    {
     "cell_type": "code",
     "collapsed": false,
     "input": [
      "caras = []\n",
      "sello = []\n",
      "intentos = []\n",
      "for i in range(10000):\n",
      "    x,y = coinflip(1000)\n",
      "    caras.append(x/1000.0)\n",
      "    sello.append(y/1000.0)\n",
      "    intentos.append(i)\n",
      "std(caras)"
     ],
     "language": "python",
     "metadata": {},
     "outputs": [
      {
       "output_type": "pyout",
       "prompt_number": 4,
       "text": [
        "0.01561262120081067"
       ]
      }
     ],
     "prompt_number": 4
    },
    {
     "cell_type": "code",
     "collapsed": false,
     "input": [
      "data = hist(caras, bins=12)\n",
      "axvline(0.5+0.015617, c='y', linewidth=2.5)\n",
      "axvline(0.5-0.015617, c ='y', linewidth=2.5)\n",
      "axvline(0.5+2*0.015617, c='r', linewidth=2.5)\n",
      "axvline(0.5-2*0.015617, c ='r', linewidth=2.5)\n",
      "axvline(0.5+3*0.015617, c='g', linewidth=2.5)\n",
      "axvline(0.5-3*0.015617, c ='g', linewidth=2.5)"
     ],
     "language": "python",
     "metadata": {},
     "outputs": [
      {
       "output_type": "pyout",
       "prompt_number": 5,
       "text": [
        "<matplotlib.lines.Line2D at 0x402c310>"
       ]
      },
      {
       "output_type": "display_data",
       "png": "[encoded data removed]"
      }
     ],
     "prompt_number": 5
    },
    {
     "cell_type": "markdown",
     "metadata": {},
     "source": [
      "#Ejercicio:"
     ]
    },
    {
     "cell_type": "markdown",
     "metadata": {},
     "source": [
      "1. Realize graficas de:\n",
      "    1. Diferencia de Caras - Sellos para 40 y 20 mediciones cada una con mayor numero de lanzamientos que la anterior. (abs(cara-sello)vs Numero de lanzamientos)\n",
      "    2. La razon (sara/sello) en funcion del Numero de lanzamientos.\n",
      "    Comente los resultados.\n",
      "2. Repita los graficos anteriores pero ahora hagalos en escala logaritmica.\n",
      "    Comente los resultados.\n",
      "3. Haga graficos de el promedio de abs(cara - sello) en funcion del numero de lanzamientos en escala logaritmica.\n",
      "y otro con el promedio de (cara/sello).\n",
      "    Comente los reultados.\n",
      "4. Repita el punto anterior pero esta vez con la desviaci\u00f3n estandar.\n",
      "    comente los resultados.\n",
      "    \n",
      "\n"
     ]
    },
    {
     "cell_type": "code",
     "collapsed": false,
     "input": [],
     "language": "python",
     "metadata": {},
     "outputs": []
    }
   ],
   "metadata": {}
  }
 ]
}