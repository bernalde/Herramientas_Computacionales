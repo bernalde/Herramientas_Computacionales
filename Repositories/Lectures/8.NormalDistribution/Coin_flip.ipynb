{
 "metadata": {
  "name": "Coin_flip"
 },
 "nbformat": 3,
 "nbformat_minor": 0,
 "worksheets": [
  {
   "cells": [
    {
     "cell_type": "code",
     "collapsed": false,
     "input": [
      "%pylab inline"
     ],
     "language": "python",
     "metadata": {},
     "outputs": [
      {
       "output_type": "stream",
       "stream": "stdout",
       "text": [
        "\n",
        "Welcome to pylab, a matplotlib-based Python environment [backend: module://IPython.zmq.pylab.backend_inline].\n",
        "For more information, type 'help(pylab)'.\n"
       ]
      }
     ],
     "prompt_number": 27
    },
    {
     "cell_type": "code",
     "collapsed": false,
     "input": [
      "def coinflip(N):\n",
      "    cara = 0\n",
      "    sello = 0\n",
      "    i=0\n",
      "    while i < N:\n",
      "        x = np.random.randint(0, 10)/5.0\n",
      "        if x >= 1.0:\n",
      "            cara+=1\n",
      "        elif x<1.0:\n",
      "            sello+=1\n",
      "        i+=1\n",
      "    return cara, sello"
     ],
     "language": "python",
     "metadata": {},
     "outputs": [],
     "prompt_number": 61
    },
    {
     "cell_type": "code",
     "collapsed": false,
     "input": [
      "def numbers(flips):\n",
      "    mean_caras = []\n",
      "    mean_sello = []\n",
      "    trials = []\n",
      "    N=1000\n",
      "    while N<flips:\n",
      "        N+=100\n",
      "        trials.append(N)\n",
      "        caras = []\n",
      "        sello = []\n",
      "        intentos = []\n",
      "        for i in range(20):\n",
      "            x,y = coinflip(N)\n",
      "            caras.append(x)\n",
      "            sello.append(y)\n",
      "            intentos.append(i)\n",
      "        #print caras\n",
      "        mean_caras.append(mean(caras))\n",
      "        mean_sello.append(mean(sello))\n",
      "        #print mean(caras)\n",
      "    return mean_caras, mean_sello, trials\n",
      "#std(caras)"
     ],
     "language": "python",
     "metadata": {},
     "outputs": [],
     "prompt_number": 84
    },
    {
     "cell_type": "code",
     "collapsed": false,
     "input": [
      "x,  y, z = numbers(2000)\n",
      "\n",
      "print len(x), len(z)\n",
      "\n",
      "X = []\n",
      "for i in range(len(x)):\n",
      "    X.append(abs(x[i]-y[i]))\n",
      "\n",
      "scatter(z, X)\n",
      "yscale('log')\n",
      "xscale('log')"
     ],
     "language": "python",
     "metadata": {},
     "outputs": [
      {
       "output_type": "stream",
       "stream": "stdout",
       "text": [
        "10 10\n"
       ]
      },
      {
       "output_type": "display_data",
       "png": "[encoded data removed]"
      }
     ],
     "prompt_number": 95
    },
    {
     "cell_type": "code",
     "collapsed": false,
     "input": [
      "data = hist(caras, bins=12)\n",
      "axvline(0.5+0.015617, c='y', linewidth=2.5)\n",
      "axvline(0.5-0.015617, c ='y', linewidth=2.5)\n",
      "axvline(0.5+2*0.015617, c='r', linewidth=2.5)\n",
      "axvline(0.5-2*0.015617, c ='r', linewidth=2.5)\n",
      "axvline(0.5+3*0.015617, c='g', linewidth=2.5)\n",
      "axvline(0.5-3*0.015617, c ='g', linewidth=2.5)"
     ],
     "language": "python",
     "metadata": {},
     "outputs": [
      {
       "output_type": "pyout",
       "prompt_number": 30,
       "text": [
        "<matplotlib.lines.Line2D at 0x3debf50>"
       ]
      },
      {
       "output_type": "display_data",
       "png": "[encoded data removed]"
      }
     ],
     "prompt_number": 30
    },
    {
     "cell_type": "code",
     "collapsed": false,
     "input": [
      "x1 = mean(caras) - std(caras)\n",
      "x2 = mean(caras) + std(caras)\n",
      "\n",
      "def intervaloconfianza(x):\n",
      "    if x > x1 and x < x2:\n",
      "        print \"su restulatdo esta en el primer intervalo de confianza\"\n",
      "    "
     ],
     "language": "python",
     "metadata": {},
     "outputs": [],
     "prompt_number": 31
    },
    {
     "cell_type": "code",
     "collapsed": false,
     "input": [
      "intervaloconfianza(0.51)"
     ],
     "language": "python",
     "metadata": {},
     "outputs": [
      {
       "output_type": "stream",
       "stream": "stdout",
       "text": [
        "su restulatdo esta en el primer intervalo de confianza\n"
       ]
      }
     ],
     "prompt_number": 32
    },
    {
     "cell_type": "code",
     "collapsed": false,
     "input": [
      "x = [1, 2, 3]#Liear regresion"
     ],
     "language": "python",
     "metadata": {},
     "outputs": [],
     "prompt_number": 50
    },
    {
     "cell_type": "code",
     "collapsed": false,
     "input": [
      "mean(x)"
     ],
     "language": "python",
     "metadata": {},
     "outputs": [
      {
       "output_type": "pyout",
       "prompt_number": 51,
       "text": [
        "2.0"
       ]
      }
     ],
     "prompt_number": 51
    },
    {
     "cell_type": "code",
     "collapsed": false,
     "input": [],
     "language": "python",
     "metadata": {},
     "outputs": []
    }
   ],
   "metadata": {}
  }
 ]
}