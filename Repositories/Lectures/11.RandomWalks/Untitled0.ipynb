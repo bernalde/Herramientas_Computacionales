{
 "metadata": {
  "name": "Untitled0"
 },
 "nbformat": 3,
 "nbformat_minor": 0,
 "worksheets": [
  {
   "cells": [
    {
     "cell_type": "code",
     "collapsed": false,
     "input": [
      "import numpy as np\n",
      "import matplotlib.pyplot as plt"
     ],
     "language": "python",
     "metadata": {},
     "outputs": [],
     "prompt_number": 1
    },
    {
     "cell_type": "code",
     "collapsed": false,
     "input": [
      "n=100\n",
      "j = []\n",
      "rad = []\n",
      "i=0\n",
      "x=([0])\n",
      "y=([0])\n",
      "X = 0\n",
      "Y = 0\n",
      "r = 0\n",
      "R = 10\n",
      "while r < R:\n",
      "    i+=1\n",
      "    j.append(i)\n",
      "    theta = np.random.rand()*2*180\n",
      "    X += np.cos(theta) \n",
      "    Y += np.sin(theta) \n",
      "    x.append(X)\n",
      "    y.append(Y)\n",
      "    r = np.sqrt(X**2 + Y**2)\n",
      "    rad.append(r)\n",
      "    "
     ],
     "language": "python",
     "metadata": {},
     "outputs": [],
     "prompt_number": 23
    },
    {
     "cell_type": "code",
     "collapsed": false,
     "input": [
      "plt.plot(x,y)\n",
      "plt.show()"
     ],
     "language": "python",
     "metadata": {},
     "outputs": [],
     "prompt_number": 24
    },
    {
     "cell_type": "code",
     "collapsed": false,
     "input": [
      "plt.scatter(rad, j)\n",
      "plt.show()"
     ],
     "language": "python",
     "metadata": {},
     "outputs": [],
     "prompt_number": 27
    },
    {
     "cell_type": "code",
     "collapsed": false,
     "input": [],
     "language": "python",
     "metadata": {},
     "outputs": []
    }
   ],
   "metadata": {}
  }
 ]
}