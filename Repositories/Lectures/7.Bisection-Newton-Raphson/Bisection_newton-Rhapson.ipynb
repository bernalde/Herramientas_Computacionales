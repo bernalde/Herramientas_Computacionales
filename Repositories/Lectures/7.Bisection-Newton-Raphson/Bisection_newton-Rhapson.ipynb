{
 "metadata": {
  "name": "Bisection_newton-Rhapson"
 },
 "nbformat": 3,
 "nbformat_minor": 0,
 "worksheets": [
  {
   "cells": [
    {
     "cell_type": "heading",
     "level": 1,
     "metadata": {},
     "source": [
      "Bisection Algorithm "
     ]
    },
    {
     "cell_type": "markdown",
     "metadata": {},
     "source": [
      "The main idea behind this algorithms is to find the root of a given number N."
     ]
    },
    {
     "cell_type": "markdown",
     "metadata": {},
     "source": [
      "For a moment think how does your calculator or the command: np.sqrt() compute the root of a number. Discuss this with your partner and \n",
      "try to implement in Python your idea."
     ]
    },
    {
     "cell_type": "code",
     "collapsed": false,
     "input": [
      "%pylab inline"
     ],
     "language": "python",
     "metadata": {},
     "outputs": [
      {
       "output_type": "stream",
       "stream": "stdout",
       "text": [
        "\n",
        "Welcome to pylab, a matplotlib-based Python environment [backend: module://IPython.zmq.pylab.backend_inline].\n",
        "For more information, type 'help(pylab)'.\n"
       ]
      }
     ],
     "prompt_number": 1
    },
    {
     "cell_type": "code",
     "collapsed": false,
     "input": [
      "def bisection(x, epsilon):\n",
      "    min_number = 0.0\n",
      "    max_number = max(1.0,x)\n",
      "    root = (min_number + max_number)/2.0\n",
      "    print root\n",
      "    iterations = 0\n",
      "\n",
      "    while abs(root**2 - x)> epsilon:\n",
      "        iterations += 1\n",
      "        if root**2 < x:\n",
      "            min_number = root\n",
      "        elif root**2 > x:\n",
      "            max_number = root\n",
      "        root = (min_number + max_number)/2.0\n",
      "    print \"La raiz cuadrada de\", x, \"es: \",root \n",
      "    print \"El numero de iteraciones para encontrar esta raiz fueron: \", iterations\n",
      "    "
     ],
     "language": "python",
     "metadata": {},
     "outputs": [],
     "prompt_number": 16
    },
    {
     "cell_type": "code",
     "collapsed": false,
     "input": [
      "bisection(0.5, 0.01)"
     ],
     "language": "python",
     "metadata": {},
     "outputs": [
      {
       "output_type": "stream",
       "stream": "stdout",
       "text": [
        "0.5\n",
        "La raiz cuadrada de 0.5 es:  0.703125\n",
        "El numero de iteraciones para encontrar esta raiz fueron:  5\n"
       ]
      }
     ],
     "prompt_number": 25
    },
    {
     "cell_type": "heading",
     "level": 1,
     "metadata": {},
     "source": [
      "Newton-Rhapson Alogorithm"
     ]
    },
    {
     "cell_type": "code",
     "collapsed": false,
     "input": [
      "def NR(x, epsilon):\n",
      "    root = x/2.0\n",
      "    iteration = 0.\n",
      "    while abs(root**2.0 - x) >= epsilon:\n",
      "        iteration += 1 \n",
      "        root = root - (((root**2.0) - x)/(2.0*root))\n",
      "    return root, iteration"
     ],
     "language": "python",
     "metadata": {},
     "outputs": [],
     "prompt_number": 6
    },
    {
     "cell_type": "code",
     "collapsed": false,
     "input": [
      "NR(0.25, 0.01)"
     ],
     "language": "python",
     "metadata": {},
     "outputs": [
      {
       "output_type": "pyout",
       "prompt_number": 9,
       "text": [
        "(0.5002821905998153, 4.0)"
       ]
      }
     ],
     "prompt_number": 9
    },
    {
     "cell_type": "heading",
     "level": 1,
     "metadata": {},
     "source": [
      "Exercise:"
     ]
    },
    {
     "cell_type": "markdown",
     "metadata": {},
     "source": [
      "1. Generalize the code to one which accept any number between [1, N]    (15 Points)"
     ]
    },
    {
     "cell_type": "heading",
     "level": 1,
     "metadata": {},
     "source": [
      "Exercise: "
     ]
    },
    {
     "cell_type": "markdown",
     "metadata": {},
     "source": [
      "Write an iPython notebook with a function that compute the nth root of any number using the Bisection algorithm. (25 Points)\n",
      "\n",
      "Write an iPython notebook with a function that compute the nth root of any number using the Newton-Rhapson alogrithm. (25 puntos)\n",
      "\n",
      "Which of the alogirthms is more efficient,and why?"
     ]
    }
   ],
   "metadata": {}
  }
 ]
}