{
 "metadata": {
  "name": "MCMC"
 },
 "nbformat": 3,
 "nbformat_minor": 0,
 "worksheets": [
  {
   "cells": [
    {
     "cell_type": "markdown",
     "metadata": {},
     "source": [
      "# Markov Chain Monte-Carlo\n",
      "\n",
      "Estos m\u00e9todos son usados para generar puntos aleatorios que cumplan con una distribuci\u00f3n estadistica dada.\n",
      "\n",
      "La caractieristica principal de las cadenas de Markov es que el siguiente paso en la cadena depende unicamente \n",
      "del paso actual, esto lo veremos mejor con el siguiente ejemplo:\n"
     ]
    },
    {
     "cell_type": "markdown",
     "metadata": {},
     "source": [
      " "
     ]
    },
    {
     "cell_type": "markdown",
     "metadata": {},
     "source": [
      "#Ejemplo:\n",
      "Queremos generar puntos que correspondan a la siguiente distribuci\u00f3n:\n",
      "\n",
      "$y(x) = e^{-\\dfrac{(x-30)^2}{100.0}}$"
     ]
    },
    {
     "cell_type": "code",
     "collapsed": false,
     "input": [
      "%pylab inline\n",
      "import math"
     ],
     "language": "python",
     "metadata": {},
     "outputs": [
      {
       "output_type": "stream",
       "stream": "stdout",
       "text": [
        "\n",
        "Welcome to pylab, a matplotlib-based Python environment [backend: module://IPython.zmq.pylab.backend_inline].\n",
        "For more information, type 'help(pylab)'.\n"
       ]
      }
     ],
     "prompt_number": 23
    },
    {
     "cell_type": "code",
     "collapsed": false,
     "input": [
      "def function(x):\n",
      "    y = exp(-((x-30.0)**2)/100.0)\n",
      "    return y"
     ],
     "language": "python",
     "metadata": {},
     "outputs": [],
     "prompt_number": 2
    },
    {
     "cell_type": "code",
     "collapsed": false,
     "input": [
      "X = linspace(0, 60, 100)\n",
      "Y = function(X)"
     ],
     "language": "python",
     "metadata": {},
     "outputs": [],
     "prompt_number": 3
    },
    {
     "cell_type": "code",
     "collapsed": false,
     "input": [
      "plot(X, Y)"
     ],
     "language": "python",
     "metadata": {},
     "outputs": [
      {
       "output_type": "pyout",
       "prompt_number": 5,
       "text": [
        "[<matplotlib.lines.Line2D at 0x2a16dd0>]"
       ]
      },
      {
       "output_type": "display_data",
       "png": "[encoded data removed]"
      }
     ],
     "prompt_number": 5
    },
    {
     "cell_type": "markdown",
     "metadata": {},
     "source": [
      "# Metropolis-Hastings: \n",
      "\n",
      "1. Generar un n\u00famero aleatorio que este en el rango de nuestra distribuci\u00f3n, para este \n",
      "ejemplo en particular ser\u00e1 entre [0, 60], este n\u00famero lo llamaramos $x_{0}$"
     ]
    },
    {
     "cell_type": "code",
     "collapsed": false,
     "input": [
      "walk = []\n",
      "x = random.random()*60\n",
      "walk.append(x)"
     ],
     "language": "python",
     "metadata": {},
     "outputs": [],
     "prompt_number": 10
    },
    {
     "cell_type": "markdown",
     "metadata": {},
     "source": [
      "2. Genero un segundo n\u00famero aleatorio pero esta vez en un rango mas peque\u00f1o digamos entre [-1,1] $x_{1}$\n",
      "3. Evaluo mi funci\u00f3n $y$ en $y(x_{0})\\ $ y en $y(x_{1})\\ $ y defino el n\u00famero $\\alpha = \\dfrac{y(x_{1})}{y(x_{0})}$\n",
      "4. Genero un n\u00famero aleatorio entre [0, 1] $\\beta$.\n",
      "\n",
      "Ahora pueden pasar dos cosas:\n",
      "\n",
      "- Si $\\alpha>=1.0\\ $ agrego a mi cadena de markov el valor de $x_{1}$ es decir esta me quedaria MCMC = [$x_{0}$, $x_{1}$]\n",
      "\n",
      "- Si $\\alpha < 1.0\\ $ tengo que comparar $\\alpha$ con $\\beta$ y si $\\beta <= \\alpha\\ $ agrego a mi cadena de markov $x_{1}$\n",
      "pero si $\\beta > \\alpha\\ $ agrego a mi cadena de markov otra vez $x_{0}$.\n",
      "\n",
      "\n",
      "5. Generar otro n\u00famero aleaotrio $x_{2}$ y repetir el procedimiento, esto se hace hasta un n\u00famero N de pasos."
     ]
    },
    {
     "cell_type": "code",
     "collapsed": false,
     "input": [
      "for i in range(200000):\n",
      "    x = random.random()*2-1 \n",
      "    alpha = function(x + walk[-1])/function(walk[-1])\n",
      "\n",
      "    if alpha>=1.0:\n",
      "        walk.append(walk[-1]+x)\n",
      "    else:\n",
      "        beta = random.random()\n",
      "        if(beta<=alpha):\n",
      "            walk.append(walk[-1]+x)\n",
      "        else:\n",
      "            walk.append(walk[-1])"
     ],
     "language": "python",
     "metadata": {},
     "outputs": [],
     "prompt_number": 15
    },
    {
     "cell_type": "code",
     "collapsed": false,
     "input": [
      "histo = hist(walk, bins=40, normed=True)\n",
      "f = function(X)\n",
      "norm = sum(f*(X[1]-X[0]))\n",
      "plot(X,f/norm, linewidth=1, color='r')"
     ],
     "language": "python",
     "metadata": {},
     "outputs": [
      {
       "output_type": "pyout",
       "prompt_number": 16,
       "text": [
        "[<matplotlib.lines.Line2D at 0x2c51750>]"
       ]
      },
      {
       "output_type": "display_data",
       "png": "[encoded data removed]"
      }
     ],
     "prompt_number": 16
    },
    {
     "cell_type": "markdown",
     "metadata": {},
     "source": [
      "# Ejercicio:\n",
      "\n",
      "$f(x) = \\dfrac{e^{-(x^2)}}{(x-3)^2 + (0.01)^2}$\n"
     ]
    },
    {
     "cell_type": "code",
     "collapsed": false,
     "input": [],
     "language": "python",
     "metadata": {},
     "outputs": []
    }
   ],
   "metadata": {}
  }
 ]
}