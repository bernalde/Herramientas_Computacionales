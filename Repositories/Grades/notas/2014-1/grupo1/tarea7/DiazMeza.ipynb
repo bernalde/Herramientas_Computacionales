{
 "metadata": {
  "name": "Dist.Normal"
 },
 "nbformat": 3,
 "nbformat_minor": 0,
 "worksheets": [
  {
   "cells": [
    {
     "cell_type": "code",
     "collapsed": false,
     "input": [
      "%pylab inline"
     ],
     "language": "python",
     "metadata": {},
     "outputs": [
      {
       "output_type": "stream",
       "stream": "stdout",
       "text": [
        "\n",
        "Welcome to pylab, a matplotlib-based Python environment [backend: module://IPython.kernel.zmq.pylab.backend_inline].\n",
        "For more information, type 'help(pylab)'.\n"
       ]
      }
     ],
     "prompt_number": 7
    },
    {
     "cell_type": "code",
     "collapsed": false,
     "input": [
      "def LanzaMoneda(n, N):\n",
      "    n=n/1.0\n",
      "    caras=0\n",
      "    sellos=0\n",
      "    i=0\n",
      "    j=0\n",
      "    cara=[]\n",
      "    while (i<N):\n",
      "        j=0\n",
      "        caras=0\n",
      "        while (j<n):\n",
      "            ran=random.randint(1, 3)\n",
      "            if(ran==1):\n",
      "                caras+=1\n",
      "            if(ran==2):\n",
      "                sellos+=1\n",
      "            j+=1\n",
      "        ycar=caras/n\n",
      "        cara.append(ycar)\n",
      "        i+=1\n",
      "    return cara\n",
      "        \n",
      "        "
     ],
     "language": "python",
     "metadata": {},
     "outputs": [],
     "prompt_number": 8
    },
    {
     "cell_type": "code",
     "collapsed": false,
     "input": [
      "LanzaMoneda(10, 10)"
     ],
     "language": "python",
     "metadata": {},
     "outputs": [
      {
       "output_type": "pyout",
       "prompt_number": 9,
       "text": [
        "[0.7, 0.7, 0.3, 0.6, 0.6, 0.5, 0.5, 0.6, 0.4, 0.5]"
       ]
      }
     ],
     "prompt_number": 9
    },
    {
     "cell_type": "code",
     "collapsed": false,
     "input": [
      "def Graph(x, y):\n",
      "    caras= LanzaMoneda(x, y)\n",
      "    return hist(caras, y)\n",
      "    ylabel(\"N\u00famero de caras\")\n",
      "    xlabel(\"Porcentaje de Caras\")\n",
      "    title(\"Porcentaje de Caras por Lanzamientos\")\n",
      "    show()"
     ],
     "language": "python",
     "metadata": {},
     "outputs": [],
     "prompt_number": 10
    },
    {
     "cell_type": "code",
     "collapsed": false,
     "input": [
      "Graph(100, 100)"
     ],
     "language": "python",
     "metadata": {},
     "outputs": [
      {
       "output_type": "pyout",
       "prompt_number": 11,
       "text": [
        "(array([ 1,  0,  0,  0,  0,  0,  0,  0,  0,  0,  0,  0,  0,  0,  0,  0,  0,\n",
        "        0,  0,  0,  1,  0,  0,  0,  0,  0,  0,  4,  0,  0,  0,  6,  0,  0,\n",
        "        0,  0,  0,  1,  0,  0,  0, 10,  0,  0,  7,  0,  0,  0,  6,  0,  0,\n",
        "        8,  0,  0,  0, 10,  0,  0,  7,  0,  0,  0, 10,  0,  0,  8,  0,  0,\n",
        "        4,  0,  0,  0,  3,  0,  0,  3,  0,  0,  0,  3,  0,  0,  1,  0,  0,\n",
        "        0,  4,  0,  0,  1,  0,  0,  0,  1,  0,  0,  0,  0,  0,  1]),\n",
        " array([ 0.34  ,  0.3429,  0.3458,  0.3487,  0.3516,  0.3545,  0.3574,\n",
        "        0.3603,  0.3632,  0.3661,  0.369 ,  0.3719,  0.3748,  0.3777,\n",
        "        0.3806,  0.3835,  0.3864,  0.3893,  0.3922,  0.3951,  0.398 ,\n",
        "        0.4009,  0.4038,  0.4067,  0.4096,  0.4125,  0.4154,  0.4183,\n",
        "        0.4212,  0.4241,  0.427 ,  0.4299,  0.4328,  0.4357,  0.4386,\n",
        "        0.4415,  0.4444,  0.4473,  0.4502,  0.4531,  0.456 ,  0.4589,\n",
        "        0.4618,  0.4647,  0.4676,  0.4705,  0.4734,  0.4763,  0.4792,\n",
        "        0.4821,  0.485 ,  0.4879,  0.4908,  0.4937,  0.4966,  0.4995,\n",
        "        0.5024,  0.5053,  0.5082,  0.5111,  0.514 ,  0.5169,  0.5198,\n",
        "        0.5227,  0.5256,  0.5285,  0.5314,  0.5343,  0.5372,  0.5401,\n",
        "        0.543 ,  0.5459,  0.5488,  0.5517,  0.5546,  0.5575,  0.5604,\n",
        "        0.5633,  0.5662,  0.5691,  0.572 ,  0.5749,  0.5778,  0.5807,\n",
        "        0.5836,  0.5865,  0.5894,  0.5923,  0.5952,  0.5981,  0.601 ,\n",
        "        0.6039,  0.6068,  0.6097,  0.6126,  0.6155,  0.6184,  0.6213,\n",
        "        0.6242,  0.6271,  0.63  ]),\n",
        " <a list of 100 Patch objects>)"
       ]
      },
      {
       "output_type": "display_data",
       "png": "[encoded data removed]",
       "text": [
        "<matplotlib.figure.Figure at 0x1645850>"
       ]
      }
     ],
     "prompt_number": 11
    },
    {
     "cell_type": "code",
     "collapsed": false,
     "input": [],
     "language": "python",
     "metadata": {},
     "outputs": []
    }
   ],
   "metadata": {}
  }
 ]
}