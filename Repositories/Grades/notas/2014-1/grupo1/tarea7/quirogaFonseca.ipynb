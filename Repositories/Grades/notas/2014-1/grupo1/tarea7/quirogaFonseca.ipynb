{
 "metadata": {
  "name": "quirogaFonseca"
 }, 
 "nbformat": 2, 
 "worksheets": [
  {
   "cells": [
    {
     "cell_type": "code", 
     "collapsed": false, 
     "input": [
      "%pylab inline", 
      "", 
      "#por si es deseado cambiar el N, corresponde a la tercera posicion de la siguiente funcion.", 
      "def moneda(N):", 
      "    lanzamientos = random.randint(0,2,N)", 
      "    sello = sum(lanzamientos)", 
      "    caras = N - sello", 
      "    fraccion = float(caras)/N", 
      "    return fraccion", 
      "", 
      "moneda(10000)", 
      "x = range(1,10000)", 
      "y = [moneda(i) for i in x]", 
      "plot(x,y)"
     ], 
     "language": "python", 
     "outputs": [
      {
       "output_type": "stream", 
       "stream": "stdout", 
       "text": [
        "", 
        "Welcome to pylab, a matplotlib-based Python environment [backend: module://IPython.zmq.pylab.backend_inline].", 
        "For more information, type 'help(pylab)'."
       ]
      }, 
      {
       "output_type": "pyout", 
       "prompt_number": 61, 
       "text": [
        "[<matplotlib.lines.Line2D at 0x977852c>]"
       ]
      }, 
      {
       "output_type": "display_data", 
       "png": "[encoded data removed]"
      }
     ], 
     "prompt_number": 61
    }, 
    {
     "cell_type": "code", 
     "collapsed": true, 
     "input": [
      "#0.1 corresponde al intervalo de confianza \u03c33, 0.35 en \u03c32, 0.4 en \u03c31, 1.7 no esta en la distribucion, por lo tanto no corresponde a ningun intervalo de confianza."
     ], 
     "language": "python", 
     "outputs": [], 
     "prompt_number": 6
    }, 
    {
     "cell_type": "code", 
     "collapsed": true, 
     "input": [], 
     "language": "python", 
     "outputs": []
    }
   ]
  }
 ]
}