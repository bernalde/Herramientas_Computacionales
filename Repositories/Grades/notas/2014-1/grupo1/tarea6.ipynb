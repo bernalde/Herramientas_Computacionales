{
 "metadata": {
  "name": "tarea6"
 },
 "nbformat": 3,
 "nbformat_minor": 0,
 "worksheets": [
  {
   "cells": [
    {
     "cell_type": "code",
     "collapsed": false,
     "input": [
      "%pylab inline"
     ],
     "language": "python",
     "metadata": {},
     "outputs": [
      {
       "output_type": "stream",
       "stream": "stdout",
       "text": [
        "\n",
        "Welcome to pylab, a matplotlib-based Python environment [backend: module://IPython.kernel.zmq.pylab.backend_inline].\n",
        "For more information, type 'help(pylab)'.\n"
       ]
      }
     ],
     "prompt_number": 1
    },
    {
     "cell_type": "code",
     "collapsed": false,
     "input": [
      "def raizp(x,r, epsilon):\n",
      "    min_number = 0.0\n",
      "    max_number = max(1.0,x)\n",
      "    raiz = (min_number + max_number)/2.0\n",
      "    iterations = 0\n",
      "    \n",
      "    while abs(raiz**r - x)> epsilon:\n",
      "        iterations += 1\n",
      "        if raiz**r< x:\n",
      "            min_number = raiz\n",
      "        elif raiz**r > x:\n",
      "            max_number = raiz\n",
      "        raiz = (min_number + max_number)/2.0\n",
      "    print \"La raiz \",r, \"de\", x, \"es: \",raiz \n",
      "    print \"El numero de iteraciones para encontrar esta raiz fueron: \", iterations"
     ],
     "language": "python",
     "metadata": {},
     "outputs": [],
     "prompt_number": 30
    },
    {
     "cell_type": "code",
     "collapsed": false,
     "input": [
      "raizp(8, 3, 1)"
     ],
     "language": "python",
     "metadata": {},
     "outputs": [
      {
       "output_type": "stream",
       "stream": "stdout",
       "text": [
        "La raiz  3 de 8 es:  2.0\n",
        "El numero de iteraciones para encontrar esta raiz fueron:  1\n"
       ]
      }
     ],
     "prompt_number": 31
    },
    {
     "cell_type": "code",
     "collapsed": false,
     "input": [
      "raizp(9, 2, 0.1)\n"
     ],
     "language": "python",
     "metadata": {},
     "outputs": [
      {
       "output_type": "stream",
       "stream": "stdout",
       "text": [
        "La raiz  2 de 9 es:  2.98828125\n",
        "El numero de iteraciones para encontrar esta raiz fueron:  7\n"
       ]
      }
     ],
     "prompt_number": 32
    },
    {
     "cell_type": "code",
     "collapsed": false,
     "input": [
      "raizp(169, 2, 0.0001)"
     ],
     "language": "python",
     "metadata": {},
     "outputs": [
      {
       "output_type": "stream",
       "stream": "stdout",
       "text": [
        "La raiz  2 de 169 es:  12.9999992251\n",
        "El numero de iteraciones para encontrar esta raiz fueron:  23\n"
       ]
      }
     ],
     "prompt_number": 33
    },
    {
     "cell_type": "code",
     "collapsed": false,
     "input": [
      "raizp(125, 3, 0.00001)"
     ],
     "language": "python",
     "metadata": {},
     "outputs": [
      {
       "output_type": "stream",
       "stream": "stdout",
       "text": [
        "La raiz  3 de 125 es:  4.99999988824\n",
        "El numero de iteraciones para encontrar esta raiz fueron:  26\n"
       ]
      }
     ],
     "prompt_number": 34
    },
    {
     "cell_type": "code",
     "collapsed": false,
     "input": [],
     "language": "python",
     "metadata": {},
     "outputs": []
    }
   ],
   "metadata": {}
  }
 ]
}