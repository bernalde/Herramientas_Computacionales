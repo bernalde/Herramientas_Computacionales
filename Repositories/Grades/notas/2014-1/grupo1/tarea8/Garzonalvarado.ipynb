{
 "metadata": {
  "name": "10_Garzon"
 },
 "nbformat": 3,
 "nbformat_minor": 0,
 "worksheets": [
  {
   "cells": [
    {
     "cell_type": "code",
     "collapsed": false,
     "input": [
      "%pylab inline"
     ],
     "language": "python",
     "metadata": {},
     "outputs": [
      {
       "output_type": "stream",
       "stream": "stdout",
       "text": [
        "\n",
        "Welcome to pylab, a matplotlib-based Python environment [backend: module://IPython.kernel.zmq.pylab.backend_inline].\n",
        "For more information, type 'help(pylab)'.\n"
       ]
      }
     ],
     "prompt_number": 2
    },
    {
     "cell_type": "code",
     "collapsed": false,
     "input": [
      "data= loadtxt(\"data3.dat\")"
     ],
     "language": "python",
     "metadata": {},
     "outputs": [],
     "prompt_number": 3
    },
    {
     "cell_type": "code",
     "collapsed": false,
     "input": [
      "print data"
     ],
     "language": "python",
     "metadata": {},
     "outputs": [
      {
       "output_type": "stream",
       "stream": "stdout",
       "text": [
        "[[  0.         -11.3302056 ]\n",
        " [  0.1010101  -14.18459834]\n",
        " [  0.2020202   -5.68297205]\n",
        " [  0.3030303   -7.27858112]\n",
        " [  0.4040404   -6.72801007]\n",
        " [  0.50505051 -20.71752667]\n",
        " [  0.60606061  -6.93686571]\n",
        " [  0.70707071  -3.12587952]\n",
        " [  0.80808081   2.45882364]\n",
        " [  0.90909091 -15.67380344]\n",
        " [  1.01010101  -4.90496713]\n",
        " [  1.11111111 -16.03316369]\n",
        " [  1.21212121  -8.64224294]\n",
        " [  1.31313131  -4.03362127]\n",
        " [  1.41414141  -5.86655876]\n",
        " [  1.51515152   1.32741705]\n",
        " [  1.61616162 -14.59176807]\n",
        " [  1.71717172 -13.68873528]\n",
        " [  1.81818182   0.14900518]\n",
        " [  1.91919192 -14.16312127]\n",
        " [  2.02020202  -4.88623411]\n",
        " [  2.12121212 -11.64794225]\n",
        " [  2.22222222  -7.2372499 ]\n",
        " [  2.32323232 -14.90272344]\n",
        " [  2.42424242  -8.69674055]\n",
        " [  2.52525253  -5.52719607]\n",
        " [  2.62626263  -7.77092195]\n",
        " [  2.72727273 -13.66934638]\n",
        " [  2.82828283 -11.12912464]\n",
        " [  2.92929293  -7.10071606]\n",
        " [  3.03030303 -11.97152072]\n",
        " [  3.13131313  -5.74636543]\n",
        " [  3.23232323  -4.13528006]\n",
        " [  3.33333333 -17.65003997]\n",
        " [  3.43434343 -14.94335471]\n",
        " [  3.53535354 -13.76503316]\n",
        " [  3.63636364 -18.03111933]\n",
        " [  3.73737374 -15.67544406]\n",
        " [  3.83838384 -23.86263604]\n",
        " [  3.93939394 -12.2087123 ]\n",
        " [  4.04040404 -10.74839705]\n",
        " [  4.14141414  -9.18425092]\n",
        " [  4.24242424 -13.51217678]\n",
        " [  4.34343434 -16.63703599]\n",
        " [  4.44444444 -19.70878788]\n",
        " [  4.54545455 -16.61262521]\n",
        " [  4.64646465 -11.30263214]\n",
        " [  4.74747475 -19.33820281]\n",
        " [  4.84848485 -17.99858562]\n",
        " [  4.94949495 -15.31896214]\n",
        " [  5.05050505 -10.35219915]\n",
        " [  5.15151515 -15.6881513 ]\n",
        " [  5.25252525 -11.0048367 ]\n",
        " [  5.35353535 -17.16330333]\n",
        " [  5.45454545 -22.65737369]\n",
        " [  5.55555556 -14.56233925]\n",
        " [  5.65656566 -24.08148241]\n",
        " [  5.75757576 -11.5735178 ]\n",
        " [  5.85858586 -19.80044524]\n",
        " [  5.95959596 -14.3990606 ]\n",
        " [  6.06060606 -29.42960772]\n",
        " [  6.16161616 -11.42608864]\n",
        " [  6.26262626 -15.64986412]\n",
        " [  6.36363636 -23.89873364]\n",
        " [  6.46464646 -19.51654048]\n",
        " [  6.56565657 -21.32285115]\n",
        " [  6.66666667 -28.66279516]\n",
        " [  6.76767677 -12.79100061]\n",
        " [  6.86868687 -22.28031724]\n",
        " [  6.96969697 -18.11467363]\n",
        " [  7.07070707 -19.11950582]\n",
        " [  7.17171717 -25.79297036]\n",
        " [  7.27272727 -21.08504606]\n",
        " [  7.37373737 -16.10189309]\n",
        " [  7.47474747 -30.72440672]\n",
        " [  7.57575758 -12.52276315]\n",
        " [  7.67676768 -21.69054138]\n",
        " [  7.77777778 -24.20530834]\n",
        " [  7.87878788 -27.88583124]\n",
        " [  7.97979798 -19.14849435]\n",
        " [  8.08080808 -16.799102  ]\n",
        " [  8.18181818 -20.32954904]\n",
        " [  8.28282828 -26.22677512]\n",
        " [  8.38383838 -26.35199654]\n",
        " [  8.48484848 -20.24318133]\n",
        " [  8.58585859 -24.87531528]\n",
        " [  8.68686869 -16.49443054]\n",
        " [  8.78787879 -28.30496884]\n",
        " [  8.88888889 -24.86352623]\n",
        " [  8.98989899 -19.34120725]\n",
        " [  9.09090909 -22.12105063]\n",
        " [  9.19191919 -26.50793267]\n",
        " [  9.29292929 -28.09308805]\n",
        " [  9.39393939 -21.65303598]\n",
        " [  9.49494949 -18.36680993]\n",
        " [  9.5959596  -21.09293602]\n",
        " [  9.6969697  -22.83467822]\n",
        " [  9.7979798  -23.46175266]\n",
        " [  9.8989899  -26.08767359]\n",
        " [ 10.         -27.58509736]]\n"
       ]
      }
     ],
     "prompt_number": 5
    },
    {
     "cell_type": "code",
     "collapsed": false,
     "input": [
      "x= data[:,0]\n",
      "y= data[:,1]\n",
      "scatter(x,y)\n",
      "fit =  polyfit(x, y, 1)\n",
      "print fit\n",
      "plot(x, x*fit[0] + fit[1], linewidth='1.5', label=\"Fit\")\n",
      "legend(loc='best')"
     ],
     "language": "python",
     "metadata": {},
     "outputs": [
      {
       "output_type": "stream",
       "stream": "stdout",
       "text": [
        "[-1.91167983 -6.3901287 ]\n"
       ]
      },
      {
       "output_type": "pyout",
       "prompt_number": 24,
       "text": [
        "<matplotlib.legend.Legend at 0x37e3ed0>"
       ]
      },
      {
       "output_type": "display_data",
       "png": "[encoded data removed]",
       "text": [
        "<matplotlib.figure.Figure at 0x26511d0>"
       ]
      }
     ],
     "prompt_number": 24
    },
    {
     "cell_type": "code",
     "collapsed": false,
     "input": [
      "def R2(xexp, xteo):\n",
      "    EE = sum((xteo-xexp)**2)\n",
      "    mean = sum(xexp)/(len(xexp))\n",
      "    variance = sum((mean-xexp)**2)\n",
      "    R2 = 1 - EE/variance\n",
      "    return R2"
     ],
     "language": "python",
     "metadata": {},
     "outputs": [],
     "prompt_number": 25
    },
    {
     "cell_type": "code",
     "collapsed": false,
     "input": [
      "yteo  = x*fit[0] + fit[1]\n",
      "R2(y, yteo)"
     ],
     "language": "python",
     "metadata": {},
     "outputs": [
      {
       "output_type": "pyout",
       "prompt_number": 27,
       "text": [
        "0.56034597377252071"
       ]
      }
     ],
     "prompt_number": 27
    },
    {
     "cell_type": "code",
     "collapsed": false,
     "input": [],
     "language": "python",
     "metadata": {},
     "outputs": [],
     "prompt_number": 27
    },
    {
     "cell_type": "code",
     "collapsed": false,
     "input": [],
     "language": "python",
     "metadata": {},
     "outputs": []
    }
   ],
   "metadata": {}
  }
 ]
}