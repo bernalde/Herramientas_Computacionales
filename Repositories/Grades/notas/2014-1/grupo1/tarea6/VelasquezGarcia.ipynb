{
 "metadata": {
  "name": "raices"
 },
 "nbformat": 3,
 "nbformat_minor": 0,
 "worksheets": [
  {
   "cells": [
    {
     "cell_type": "code",
     "collapsed": false,
     "input": [
      "v=25"
     ],
     "language": "python",
     "metadata": {},
     "outputs": []
    },
    {
     "cell_type": "code",
     "collapsed": false,
     "input": [
      "Max=v\n",
      "Min=0"
     ],
     "language": "python",
     "metadata": {},
     "outputs": []
    },
    {
     "cell_type": "code",
     "collapsed": false,
     "input": [
      "print Min\n",
      "print Max\n",
      "print v"
     ],
     "language": "python",
     "metadata": {},
     "outputs": []
    },
    {
     "cell_type": "code",
     "collapsed": false,
     "input": [
      "p=(Min+Max)/2\n"
     ],
     "language": "python",
     "metadata": {},
     "outputs": []
    },
    {
     "cell_type": "code",
     "collapsed": false,
     "input": [
      "print p"
     ],
     "language": "python",
     "metadata": {},
     "outputs": []
    },
    {
     "cell_type": "code",
     "collapsed": false,
     "input": [
      "n=p*p\n"
     ],
     "language": "python",
     "metadata": {},
     "outputs": []
    },
    {
     "cell_type": "code",
     "collapsed": false,
     "input": [
      "\n",
      "v=25\n",
      "Max=v\n",
      "Min=0\n",
      "p=(Min+Max)/2.0\n",
      "\n",
      "H=0\n",
      "while abs(p**2-v) > 0.1:\n",
      "    H=H+1  \n",
      "    if p**2 > v:\n",
      "        Max =p\n",
      "    elif p**2< v:\n",
      "        Min =p\n",
      "    p=(Min+Max)/2.0\n",
      "print p   \n",
      "print H\n",
      "\n",
      "    "
     ],
     "language": "python",
     "metadata": {},
     "outputs": [
      {
       "output_type": "stream",
       "stream": "stdout",
       "text": [
        "5.0048828125\n",
        "9\n"
       ]
      }
     ],
     "prompt_number": 5
    },
    {
     "cell_type": "code",
     "collapsed": false,
     "input": [
      "%pylab inline"
     ],
     "language": "python",
     "metadata": {},
     "outputs": [
      {
       "output_type": "stream",
       "stream": "stdout",
       "text": [
        "\n",
        "Welcome to pylab, a matplotlib-based Python environment [backend: module://IPython.kernel.zmq.pylab.backend_inline].\n",
        "For more information, type 'help(pylab)'.\n"
       ]
      }
     ],
     "prompt_number": 6
    },
    {
     "cell_type": "code",
     "collapsed": false,
     "input": [
      "def raices(v,r):\n",
      "    Max=v\n",
      "    Min=0\n",
      "    p=(Min+Max)/2.0\n",
      "    H=0\n",
      "    if v > 0:\n",
      "        while abs(p**r-v) > 0.1:\n",
      "            H=H+1  \n",
      "            if p**r > v:\n",
      "                Max =p\n",
      "            elif p**r< v:\n",
      "                Min =p\n",
      "            p=(Min+Max)/2.0\n",
      "        print \"la raiz es\", p   \n",
      "        print \"las iteraciones son\", H\n",
      "    else:\n",
      "        print \"los numeros negativos no tienen raices\"\n"
     ],
     "language": "python",
     "metadata": {},
     "outputs": [],
     "prompt_number": 9
    },
    {
     "cell_type": "code",
     "collapsed": false,
     "input": [
      "raices(27,3)\n"
     ],
     "language": "python",
     "metadata": {},
     "outputs": [
      {
       "output_type": "stream",
       "stream": "stdout",
       "text": [
        "la raiz es 2.99926757812\n",
        "las iteraciones son 11\n"
       ]
      }
     ],
     "prompt_number": 10
    },
    {
     "cell_type": "code",
     "collapsed": false,
     "input": [
      "def grafica (v,n):\n",
      "    def raices(v,r):\n",
      "        Max=v\n",
      "        Min=0\n",
      "        p=(Min+Max)/2.0\n",
      "        H=0\n",
      "        r=1\n",
      "        x=numpy.array([0])\n",
      "        y=numpy.array([0])\n",
      "        while r>=n :\n",
      "            while abs(p**r-v) > 0.1:\n",
      "                H=H+1  \n",
      "                if p**r > v:\n",
      "                    Max =p\n",
      "                elif p**r< v:\n",
      "                    Min =p\n",
      "                p=(Min+Max)/2.0\n",
      "                X=numpy.array([H])\n",
      "                Y=numpy.array([p])\n",
      "                x=x+X\n",
      "                y=y+Y\n",
      "        r +=1\n",
      "    plt.scatter(x,y)\n",
      "        \n",
      "    \n",
      "    "
     ],
     "language": "python",
     "metadata": {},
     "outputs": [],
     "prompt_number": 21
    },
    {
     "cell_type": "code",
     "collapsed": false,
     "input": [
      "grafica (100, 5)"
     ],
     "language": "python",
     "metadata": {},
     "outputs": [
      {
       "ename": "NameError",
       "evalue": "global name 'x' is not defined",
       "output_type": "pyerr",
       "traceback": [
        "\u001b[1;31m---------------------------------------------------------------------------\u001b[0m\n\u001b[1;31mNameError\u001b[0m                                 Traceback (most recent call last)",
        "\u001b[1;32m<ipython-input-22-a678a3ba6570>\u001b[0m in \u001b[0;36m<module>\u001b[1;34m()\u001b[0m\n\u001b[1;32m----> 1\u001b[1;33m \u001b[0mgrafica\u001b[0m \u001b[1;33m(\u001b[0m\u001b[1;36m100\u001b[0m\u001b[1;33m,\u001b[0m \u001b[1;36m5\u001b[0m\u001b[1;33m)\u001b[0m\u001b[1;33m\u001b[0m\u001b[0m\n\u001b[0m",
        "\u001b[1;32m<ipython-input-21-fabec0fff838>\u001b[0m in \u001b[0;36mgrafica\u001b[1;34m(v, n)\u001b[0m\n\u001b[0;32m     21\u001b[0m                 \u001b[0my\u001b[0m\u001b[1;33m=\u001b[0m\u001b[0my\u001b[0m\u001b[1;33m+\u001b[0m\u001b[0mY\u001b[0m\u001b[1;33m\u001b[0m\u001b[0m\n\u001b[0;32m     22\u001b[0m         \u001b[0mr\u001b[0m \u001b[1;33m+=\u001b[0m\u001b[1;36m1\u001b[0m\u001b[1;33m\u001b[0m\u001b[0m\n\u001b[1;32m---> 23\u001b[1;33m     \u001b[0mplt\u001b[0m\u001b[1;33m.\u001b[0m\u001b[0mscatter\u001b[0m\u001b[1;33m(\u001b[0m\u001b[0mx\u001b[0m\u001b[1;33m,\u001b[0m\u001b[0my\u001b[0m\u001b[1;33m)\u001b[0m\u001b[1;33m\u001b[0m\u001b[0m\n\u001b[0m\u001b[0;32m     24\u001b[0m \u001b[1;33m\u001b[0m\u001b[0m\n\u001b[0;32m     25\u001b[0m \u001b[1;33m\u001b[0m\u001b[0m\n",
        "\u001b[1;31mNameError\u001b[0m: global name 'x' is not defined"
       ]
      }
     ],
     "prompt_number": 22
    },
    {
     "cell_type": "code",
     "collapsed": false,
     "input": [],
     "language": "python",
     "metadata": {},
     "outputs": []
    }
   ],
   "metadata": {}
  }
 ]
}