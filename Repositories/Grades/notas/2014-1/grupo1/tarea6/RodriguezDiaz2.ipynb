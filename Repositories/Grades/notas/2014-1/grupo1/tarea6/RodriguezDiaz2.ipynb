{
 "metadata": {
  "name": "Luisa Rodriguez"
 },
 "nbformat": 3,
 "nbformat_minor": 0,
 "worksheets": [
  {
   "cells": [
    {
     "cell_type": "code",
     "collapsed": false,
     "input": [
      "def bisection(n, epsilon):\n",
      "    xmin = 0.0\n",
      "    xmax = max(1.0, n)\n",
      "\n",
      "    xo = (xmin + xmax)/2.0\n",
      "\n",
      "    iterations = 0\n",
      "\n",
      "    while abs(xo**2 -n) > e:\n",
      "        iterations +=1\n",
      "        if xo**2 < n:\n",
      "            xmin =xo\n",
      "        elif xo**2 > n: \n",
      "            xmax = xo\n",
      "\n",
      "        xo = (xmin + xmax)/2.0\n",
      "\n",
      "    print \"La raiz cuadrada de\", n, \"es: \",xo\n",
      "    print \"El numero de iteraciones para encontrar esta raiz fueron: \", iterations"
     ],
     "language": "python",
     "metadata": {},
     "outputs": [],
     "prompt_number": 38
    },
    {
     "cell_type": "code",
     "collapsed": false,
     "input": [
      "bisection(2, 0.000000000001)"
     ],
     "language": "python",
     "metadata": {},
     "outputs": [
      {
       "output_type": "stream",
       "stream": "stdout",
       "text": [
        "La raiz cuadrada de 2 es:  1.41421356238\n",
        "El numero de iteraciones para encontrar esta raiz fueron:  29\n"
       ]
      }
     ],
     "prompt_number": 45
    },
    {
     "cell_type": "code",
     "collapsed": false,
     "input": [],
     "language": "python",
     "metadata": {},
     "outputs": [],
     "prompt_number": 43
    },
    {
     "cell_type": "code",
     "collapsed": false,
     "input": [],
     "language": "python",
     "metadata": {},
     "outputs": []
    }
   ],
   "metadata": {}
  }
 ]
}