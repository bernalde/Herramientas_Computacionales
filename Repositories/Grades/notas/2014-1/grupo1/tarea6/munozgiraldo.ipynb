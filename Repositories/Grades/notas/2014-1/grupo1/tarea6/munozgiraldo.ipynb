{
 "metadata": {
  "name": "mu\u00f1oz giraldo"
 },
 "nbformat": 3,
 "nbformat_minor": 0,
 "worksheets": [
  {
   "cells": [
    {
     "cell_type": "code",
     "collapsed": false,
     "input": [
      "%pylab inline"
     ],
     "language": "python",
     "metadata": {},
     "outputs": [
      {
       "output_type": "stream",
       "stream": "stdout",
       "text": [
        "\n",
        "Welcome to pylab, a matplotlib-based Python environment [backend: module://IPython.kernel.zmq.pylab.backend_inline].\n",
        "For more information, type 'help(pylab)'.\n"
       ]
      }
     ],
     "prompt_number": 46
    },
    {
     "cell_type": "code",
     "collapsed": false,
     "input": [
      "def raiz(n, p, er):\n",
      "    x = 0.0\n",
      "    y = max(1.0,x)\n",
      "    r = (x+y)/p\n",
      "    print r\n",
      "    iterations = 0\n",
      "    \n",
      "    while abs(r**p-n)> er:\n",
      "        if r**p < n:\n",
      "            x = r\n",
      "        elif r**p > n:\n",
      "            y = r\n",
      "        r = (x+y)/p\n",
      "        iterations += 1\n",
      "    \n",
      "    print \"la raiz\", p,\" de\", n ,\"es:\", r\n",
      "    print iterations\n",
      "    "
     ],
     "language": "python",
     "metadata": {},
     "outputs": [],
     "prompt_number": "*"
    },
    {
     "cell_type": "code",
     "collapsed": false,
     "input": [
      "print raiz(8.0, 3.0, 0.1)"
     ],
     "language": "python",
     "metadata": {},
     "outputs": [],
     "prompt_number": "*"
    },
    {
     "cell_type": "code",
     "collapsed": false,
     "input": [],
     "language": "python",
     "metadata": {},
     "outputs": [],
     "prompt_number": 50
    },
    {
     "cell_type": "markdown",
     "metadata": {},
     "source": []
    }
   ],
   "metadata": {}
  }
 ]
}