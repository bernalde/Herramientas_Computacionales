{
 "metadata": {
  "name": "Luisa Rodriguez"
 },
 "nbformat": 3,
 "nbformat_minor": 0,
 "worksheets": [
  {
   "cells": [
    {
     "cell_type": "code",
     "collapsed": false,
     "input": [
      "def bisection(n, epsilon):\n",
      "    xmin = 0.0\n",
      "    xmax = max(1.0, n)\n",
      "\n",
      "    xo = (xmin + xmax)/2.0\n",
      "    print xo\n",
      "    iterations =0\n",
      "    e = 0.000000001\n",
      "\n",
      "    while abs(xo**2 -n) > e:\n",
      "        iterations +=1\n",
      "        if xo**2 < n:\n",
      "            xmin =xo\n",
      "        elif xo**2 > n: \n",
      "            xmax = xo\n",
      "\n",
      "        xo = (xmin + xmax)/2.0\n",
      "\n",
      "    print \"La raiz cuadrada de\", n, \"es: \",xo\n",
      "    print \"El numero de iteraciones para encontrar esta raiz fueron: \", iterations"
     ],
     "language": "python",
     "metadata": {},
     "outputs": [],
     "prompt_number": 31
    },
    {
     "cell_type": "code",
     "collapsed": false,
     "input": [
      "bisection(12, 0.000000001)"
     ],
     "language": "python",
     "metadata": {},
     "outputs": [
      {
       "output_type": "stream",
       "stream": "stdout",
       "text": [
        "6.0\n",
        "La raiz cuadrada de 12 es:  3.46410161513\n",
        "El numero de iteraciones para encontrar esta raiz fueron:  33\n"
       ]
      }
     ],
     "prompt_number": 32
    },
    {
     "cell_type": "code",
     "collapsed": false,
     "input": [],
     "language": "python",
     "metadata": {},
     "outputs": []
    }
   ],
   "metadata": {}
  }
 ]
}