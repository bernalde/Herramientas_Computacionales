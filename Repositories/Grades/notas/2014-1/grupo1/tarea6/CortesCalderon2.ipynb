{
 "metadata": {
  "name": "CortesCalderon"
 },
 "nbformat": 3,
 "nbformat_minor": 0,
 "worksheets": [
  {
   "cells": [
    {
     "cell_type": "code",
     "collapsed": false,
     "input": [
      "%pylab inline"
     ],
     "language": "python",
     "metadata": {},
     "outputs": [
      {
       "output_type": "stream",
       "stream": "stdout",
       "text": [
        "\n",
        "Welcome to pylab, a matplotlib-based Python environment [backend: module://IPython.kernel.zmq.pylab.backend_inline].\n",
        "For more information, type 'help(pylab)'.\n"
       ]
      }
     ],
     "prompt_number": 1
    },
    {
     "cell_type": "code",
     "collapsed": false,
     "input": [
      "def raiz(numero, indice, epsilon):\n",
      "    if (0 <= numero < 1) :\n",
      "        q = 0.0\n",
      "        w = numero\n",
      "        r = indice\n",
      "        rapson = (q + w)/2.0\n",
      "        print rapson\n",
      "        \n",
      "        while abs(rapson**(r) - numero)> epsilon:\n",
      "            if rapson**(r) < numero:\n",
      "                q = rapson\n",
      "            elif rapson**(r) > numero:\n",
      "                w = rapson\n",
      "            rapson = (q + w)/2.0\n",
      "        \n",
      "        print \"la raiz\", r, \"de\", numero, \"es:\", rapson\n",
      "    \n",
      "    elif (numero > 1):\n",
      "        q = 0.0\n",
      "        w = numero\n",
      "        r = indice\n",
      "        newton = (q + w)/2.0\n",
      "        print newton\n",
      "        \n",
      "        while abs(newton**(r) - numero)> epsilon:\n",
      "            if newton**(r) < numero:\n",
      "                w = newton\n",
      "            elif newton**(r) > numero:\n",
      "                q = newton\n",
      "            newton = (q + w)/2.0\n",
      "        \n",
      "        print \"la raiz\", r, \"de\", numero, \"es:\", newton\n",
      "        \n",
      "    elif ((indice-indice%2) = 0):\n",
      "        q = 0.0\n",
      "        w = numero\n",
      "        r = indice\n",
      "        newton = (abs((q + w))/2.0\n",
      "        print newton\n",
      "        \n",
      "        while abs(newton**(abs(r)) - numero)> epsilon:\n",
      "            if newton**(abs(r)) < numero:\n",
      "                w = newton\n",
      "            elif newton**(abs(r)) > numero:\n",
      "                q = newton\n",
      "            newton = (abs((q + w))/2.0\n",
      "        \n",
      "        print \"la raiz\", r, \"de\", numero, \"es:\", newton"
     ],
     "language": "python",
     "metadata": {},
     "outputs": [],
     "prompt_number": "*"
    },
    {
     "cell_type": "code",
     "collapsed": false,
     "input": [
      "raiz(100.0, 2.0, 0.001)"
     ],
     "language": "python",
     "metadata": {},
     "outputs": [],
     "prompt_number": "*"
    },
    {
     "cell_type": "code",
     "collapsed": false,
     "input": [],
     "language": "python",
     "metadata": {},
     "outputs": []
    }
   ],
   "metadata": {}
  }
 ]
}