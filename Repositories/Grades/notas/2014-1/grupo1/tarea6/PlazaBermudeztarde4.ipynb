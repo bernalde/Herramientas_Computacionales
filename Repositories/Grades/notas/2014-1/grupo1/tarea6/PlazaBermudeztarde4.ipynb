{
 "metadata": {
  "name": "Nicol\u00e0s plaza"
 },
 "nbformat": 3,
 "nbformat_minor": 0,
 "worksheets": [
  {
   "cells": [
    {
     "cell_type": "code",
     "collapsed": false,
     "input": [
      "%pylab inline"
     ],
     "language": "python",
     "metadata": {},
     "outputs": [
      {
       "output_type": "stream",
       "stream": "stdout",
       "text": [
        "\n",
        "Welcome to pylab, a matplotlib-based Python environment [backend: module://IPython.zmq.pylab.backend_inline].\n",
        "For more information, type 'help(pylab)'.\n"
       ]
      }
     ],
     "prompt_number": 15
    },
    {
     "cell_type": "code",
     "collapsed": false,
     "input": [
      "def bisection(n, error):\n",
      "    xmin = 0.0\n",
      "    xmax = n\n",
      "    raiz = (xmin + xmax)/2.0\n",
      "\n",
      "    while abs(raiz**2 - n)> error:\n",
      "        if raiz**2 < n:\n",
      "            xmin = raiz\n",
      "        elif raiz**2 > n:\n",
      "            xmax = raiz\n",
      "        raiz = (xmin + xmax)/2.0\n",
      "    print \"La raiz cuadrada de\", n, \"es: \",raiz "
     ],
     "language": "python",
     "metadata": {},
     "outputs": [],
     "prompt_number": 16
    },
    {
     "cell_type": "code",
     "collapsed": false,
     "input": [
      "bisection(100, 0.000000000001)"
     ],
     "language": "python",
     "metadata": {},
     "outputs": [
      {
       "output_type": "stream",
       "stream": "stdout",
       "text": [
        "La raiz cuadrada de 100 es:  10.0\n"
       ]
      }
     ],
     "prompt_number": 17
    },
    {
     "cell_type": "code",
     "collapsed": false,
     "input": [],
     "language": "python",
     "metadata": {},
     "outputs": []
    }
   ],
   "metadata": {}
  }
 ]
}