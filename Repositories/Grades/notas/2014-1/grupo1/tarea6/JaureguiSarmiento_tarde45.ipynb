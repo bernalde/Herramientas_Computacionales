{
 "metadata": {
  "name": "TareaRaiz"
 },
 "nbformat": 3,
 "nbformat_minor": 0,
 "worksheets": [
  {
   "cells": [
    {
     "cell_type": "code",
     "collapsed": false,
     "input": [
      "#N\u00e9stor Iv\u00e1n J\u00e1uregui - 201314329\n",
      "%pylab"
     ],
     "language": "python",
     "metadata": {},
     "outputs": [
      {
       "output_type": "stream",
       "stream": "stdout",
       "text": [
        "\n",
        "Welcome to pylab, a matplotlib-based Python environment [backend: TkAgg].\n",
        "For more information, type 'help(pylab)'.\n"
       ]
      }
     ],
     "prompt_number": 44
    },
    {
     "cell_type": "code",
     "collapsed": false,
     "input": [
      "def Raiz(x, exact, k):\n",
      "    n = x\n",
      "    Xmin = 0.0\n",
      "    #Esta condici\u00f3n toca ponerla porque si no se pone, el ciclo para n\u00fameros menores a 1 ser\u00eda infinito porque cada vez es menor y la raiz de un n\u00famero menor que 1 es mayor que ese n\u00famero\n",
      "    if(n>1):\n",
      "        Xmax = n\n",
      "    else:\n",
      "        Xmax = 1\n",
      "    Xo = (Xmin+Xmax)/2.0\n",
      "    Resp = 0\n",
      "    cont = 0\n",
      "    while Resp == 0:\n",
      "        cont = cont + 1\n",
      "        if(abs(Xo**k-n)<=exact):\n",
      "            Resp=Xo\n",
      "        elif(Xo**k>n):\n",
      "            Xmax = Xo\n",
      "        elif(Xo**k<n):\n",
      "            Xmin=Xo\n",
      "        Xo = (Xmin+Xmax)/2.0\n",
      "    print \"La raiz cuadrada de \", n, \" es \", Resp\n",
      "    print \"El numero de iteraciones para hayar la raiz fue de: \", cont\n",
      "    return cont"
     ],
     "language": "python",
     "metadata": {},
     "outputs": [],
     "prompt_number": 45
    },
    {
     "cell_type": "code",
     "collapsed": false,
     "input": [
      "x1=Raiz(10, 0.0001, 1);\n",
      "x2=Raiz(10, 0.0001, 2);\n",
      "x3=Raiz(10, 0.0001, 3);\n",
      "x4=Raiz(10, 0.0001, 4);\n",
      "x5=Raiz(10, 0.0001, 5);\n",
      "x6=Raiz(10, 0.0001, 6);\n",
      "x7=Raiz(10, 0.0001, 7);\n",
      "x8=Raiz(10, 0.0001, 8);\n",
      "x9=Raiz(10, 0.0001, 9);\n",
      "x10=Raiz(10, 0.0001, 10);\n",
      "X = [x1,x2,x3,x4,x5,x6,x7,x8,x9,x10]\n",
      "Y = [1,2,3,4,5,6,7,8,9,10]"
     ],
     "language": "python",
     "metadata": {},
     "outputs": [
      {
       "output_type": "stream",
       "stream": "stdout",
       "text": [
        "La raiz cuadrada de  10  es  9.99992370605\n",
        "El numero de iteraciones para hayar la raiz fue de:  17\n",
        "La raiz cuadrada de  10  es  3.16226959229\n",
        "El numero de iteraciones para hayar la raiz fue de:  18\n",
        "La raiz cuadrada de  10  es  2.15443611145\n",
        "El numero de iteraciones para hayar la raiz fue de:  20\n",
        "La raiz cuadrada de  10  es  1.77827835083\n",
        "El numero de iteraciones para hayar la raiz fue de:  19\n",
        "La raiz cuadrada de  10  es  1.58489227295\n",
        "El numero de iteraciones para hayar la raiz fue de:  18\n",
        "La raiz cuadrada de  10  es  1.46780014038\n",
        "El numero de iteraciones para hayar la raiz fue de:  19\n",
        "La raiz cuadrada de  10  es  1.38949394226\n",
        "El numero de iteraciones para hayar la raiz fue de:  20\n",
        "La raiz cuadrada de  10  es  1.33352279663\n",
        "El numero de iteraciones para hayar la raiz fue de:  19\n",
        "La raiz cuadrada de  10  es  1.29154920578\n",
        "El numero de iteraciones para hayar la raiz fue de:  22\n",
        "La raiz cuadrada de  10  es  1.2589263916\n",
        "El numero de iteraciones para hayar la raiz fue de:  17\n"
       ]
      }
     ],
     "prompt_number": 46
    },
    {
     "cell_type": "code",
     "collapsed": false,
     "input": [
      "plot(X,Y)\n",
      "xlabel(\"$Numero\\ de\\ iteraciones$\", fontsize=20)\n",
      "ylabel(\"$Numero\\ de\\ raiz$\", fontsize=20)\n",
      "title(\"$Grafica\\ del\\ bono$\", fontsize=30)"
     ],
     "language": "python",
     "metadata": {},
     "outputs": [
      {
       "output_type": "pyout",
       "prompt_number": 47,
       "text": [
        "<matplotlib.text.Text at 0x3003f10>"
       ]
      }
     ],
     "prompt_number": 47
    },
    {
     "cell_type": "code",
     "collapsed": false,
     "input": [],
     "language": "python",
     "metadata": {},
     "outputs": []
    }
   ],
   "metadata": {}
  }
 ]
}