{
 "metadata": {
  "name": "Nicolas Plaza"
 },
 "nbformat": 3,
 "nbformat_minor": 0,
 "worksheets": [
  {
   "cells": [
    {
     "cell_type": "code",
     "collapsed": false,
     "input": [
      "def bisection(n, error):\n",
      "    xmin = 0.0\n",
      "    xmax = n\n",
      "    xi = (xmin + xmax)/2.0\n",
      "    \n",
      "    while abs(xi**2 - n)> error:\n",
      "        if xi**2 < n:\n",
      "            xmin = xi\n",
      "        elif xi**2 > x:\n",
      "            xmax = xi\n",
      "        raiz = (xmin + xmax)/2.0\n",
      "        \n",
      "    print \"La raiz cuadrada de\", n, \"es: \",xi "
     ],
     "language": "python",
     "metadata": {},
     "outputs": [],
     "prompt_number": "*"
    },
    {
     "cell_type": "code",
     "collapsed": false,
     "input": [
      "bisection(100, 0.0000000000000000001)"
     ],
     "language": "python",
     "metadata": {},
     "outputs": [],
     "prompt_number": "*"
    },
    {
     "cell_type": "code",
     "collapsed": false,
     "input": [],
     "language": "python",
     "metadata": {},
     "outputs": []
    }
   ],
   "metadata": {}
  }
 ]
}