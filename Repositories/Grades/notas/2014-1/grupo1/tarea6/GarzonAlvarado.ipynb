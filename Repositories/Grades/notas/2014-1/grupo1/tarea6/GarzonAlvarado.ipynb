{
 "metadata": {
  "name": "Garzon_Calculadora raiz"
 },
 "nbformat": 3,
 "nbformat_minor": 0,
 "worksheets": [
  {
   "cells": [
    {
     "cell_type": "code",
     "collapsed": false,
     "input": [
      "def operacion(x,indice,error):\n",
      "    xmin = 0.0\n",
      "    xmax = max(1.0,x)\n",
      "    raiz= (xmin + xmax)/2.0\n",
      "    \n",
      "    while abs(raiz**indice-x)> error:\n",
      "        if raiz**indice < x:\n",
      "            xmin = raiz\n",
      "        elif raiz**indice > x:\n",
      "            xmax = raiz\n",
      "        raiz = (xmax + xmin)/2.0\n",
      "    print \"La raiz\", indice, \"de\", x, \"es: \", raiz"
     ],
     "language": "python",
     "metadata": {},
     "outputs": [],
     "prompt_number": 2
    },
    {
     "cell_type": "code",
     "collapsed": false,
     "input": [
      "operacion(125,3,0.001)"
     ],
     "language": "python",
     "metadata": {},
     "outputs": [
      {
       "output_type": "stream",
       "stream": "stdout",
       "text": [
        "62.5\n",
        "La raiz 3 de 125 es:  4.99999523163\n"
       ]
      }
     ],
     "prompt_number": 3
    },
    {
     "cell_type": "code",
     "collapsed": false,
     "input": [
      "operacion(0.5,3,0.0001)"
     ],
     "language": "python",
     "metadata": {},
     "outputs": [
      {
       "output_type": "stream",
       "stream": "stdout",
       "text": [
        "0.5\n",
        "La raiz 3 de 0.5 es:  0.793701171875\n"
       ]
      }
     ],
     "prompt_number": 4
    },
    {
     "cell_type": "code",
     "collapsed": false,
     "input": [],
     "language": "python",
     "metadata": {},
     "outputs": []
    }
   ],
   "metadata": {}
  }
 ]
}