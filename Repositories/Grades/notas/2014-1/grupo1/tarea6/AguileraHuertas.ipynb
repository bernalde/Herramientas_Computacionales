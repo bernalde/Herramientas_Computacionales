{
 "metadata": {
  "name": "Aguilera Huertas"
 },
 "nbformat": 3,
 "nbformat_minor": 0,
 "worksheets": [
  {
   "cells": [
    {
     "cell_type": "code",
     "collapsed": false,
     "input": [],
     "language": "python",
     "metadata": {},
     "outputs": [],
     "prompt_number": 11
    },
    {
     "cell_type": "code",
     "collapsed": false,
     "input": [
      "min=0.01\n",
      "def funcion(x, n, min):\n",
      "    r=0\n",
      "    Xmin= 0.0\n",
      "    Xmax= max(1.0,x)\n",
      "    iteraction=0\n",
      " \n",
      "    \n",
      "    while (abs(r**n-x)>0.01):\n",
      "        if (r**n <x):\n",
      "            Xmin=r\n",
      "            iteraction +=1\n",
      "        elif (r**n>x):\n",
      "            Xmax=r\n",
      "            iteraction +=1\n",
      "        r=(Xmin+Xmax)/2.0\n",
      "\n",
      "print r   \n"
     ],
     "language": "python",
     "metadata": {},
     "outputs": [
      {
       "output_type": "stream",
       "stream": "stdout",
       "text": [
        "25.0\n"
       ]
      }
     ],
     "prompt_number": 87
    },
    {
     "cell_type": "code",
     "collapsed": false,
     "input": [
      "funcion(100,2,0.01)"
     ],
     "language": "python",
     "metadata": {},
     "outputs": [],
     "prompt_number": 88
    },
    {
     "cell_type": "code",
     "collapsed": false,
     "input": [],
     "language": "python",
     "metadata": {},
     "outputs": []
    }
   ],
   "metadata": {}
  }
 ]
}