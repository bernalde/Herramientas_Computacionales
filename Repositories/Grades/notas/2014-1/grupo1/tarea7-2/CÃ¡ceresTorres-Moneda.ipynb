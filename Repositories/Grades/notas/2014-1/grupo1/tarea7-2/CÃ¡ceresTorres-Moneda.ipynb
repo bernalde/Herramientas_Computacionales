{
 "metadata": {
  "name": "C\u00e1ceresTorres-Moneda"
 },
 "nbformat": 3,
 "nbformat_minor": 0,
 "worksheets": [
  {
   "cells": [
    {
     "cell_type": "code",
     "collapsed": false,
     "input": [
      "%pylab inline\n",
      "import numpy as np\n",
      "\n"
     ],
     "language": "python",
     "metadata": {},
     "outputs": [
      {
       "output_type": "stream",
       "stream": "stdout",
       "text": [
        "\n",
        "Welcome to pylab, a matplotlib-based Python environment [backend: module://IPython.kernel.zmq.pylab.backend_inline].\n",
        "For more information, type 'help(pylab)'.\n"
       ]
      }
     ],
     "prompt_number": 12
    },
    {
     "cell_type": "code",
     "collapsed": false,
     "input": [
      "def coin(lanz,med):\n",
      "    i=0\n",
      "    \n",
      "    scara=[]\n",
      "    \n",
      "    while i < med:\n",
      "        i+=1\n",
      "        lc=0\n",
      "        se=0\n",
      "        ca=0\n",
      "        while lc < lanz:\n",
      "            lc+=1\n",
      "            x= np.random.randint(1,3)\n",
      "            if x==1:\n",
      "                 ca+=1\n",
      "            elif x==2:\n",
      "                se+=1\n",
      "            frcaras = ca/(lanz)\n",
      "        scara.append(frcaras)\n",
      "    return scara\n",
      "\n",
      "\n",
      "    "
     ],
     "language": "python",
     "metadata": {},
     "outputs": [],
     "prompt_number": 15
    },
    {
     "cell_type": "code",
     "collapsed": false,
     "input": [
      "scara = coin(500.0,3000.0)\n"
     ],
     "language": "python",
     "metadata": {},
     "outputs": [],
     "prompt_number": 16
    },
    {
     "cell_type": "code",
     "collapsed": false,
     "input": [
      "hist(scara, bins=13)\n",
      "title(\" Numero de de resultados correspondientes a cara\",fontsize=12)\n",
      "tick_params(axis=\"both\",labelsize=10, colors=\"g\")\n",
      "\n",
      "       "
     ],
     "language": "python",
     "metadata": {},
     "outputs": [
      {
       "output_type": "display_data",
       "png": "[encoded data removed]",
       "text": [
        "<matplotlib.figure.Figure at 0x2244fd0>"
       ]
      }
     ],
     "prompt_number": 29
    },
    {
     "cell_type": "code",
     "collapsed": false,
     "input": [
      "desviacion = np.std(scara)\n",
      "print desviacion\n"
     ],
     "language": "python",
     "metadata": {},
     "outputs": [
      {
       "output_type": "stream",
       "stream": "stdout",
       "text": [
        "0.0223535220093\n"
       ]
      }
     ],
     "prompt_number": 31
    },
    {
     "cell_type": "code",
     "collapsed": false,
     "input": [
      "x =(sum(scara)/len(scara))\n",
      "print x\n"
     ],
     "language": "python",
     "metadata": {},
     "outputs": [
      {
       "output_type": "stream",
       "stream": "stdout",
       "text": [
        "0.500159333333\n"
       ]
      }
     ],
     "prompt_number": 33
    },
    {
     "cell_type": "code",
     "collapsed": false,
     "input": [
      "def columnashist(fracara):\n",
      "    lcct=0\n",
      "    bil=0\n",
      "    while lcct == 0:\n",
      "        bil+=1\n",
      "        if ((x-(bil*desviacion)) <= fracara <= (x+(bil*desviacion))):\n",
      "            lcct+=1                                   \n",
      "    print \"Intervalo de confianza de\", fracara, \"es\" , lcct\n",
      "    \n",
      "    "
     ],
     "language": "python",
     "metadata": {},
     "outputs": [],
     "prompt_number": 38
    },
    {
     "cell_type": "code",
     "collapsed": false,
     "input": [
      "columnashist(0.1)\n",
      "columnashist(0.35)\n",
      "columnashist (0.4)\n",
      "columnashist (1.7)\n",
      "\n",
      "\n"
     ],
     "language": "python",
     "metadata": {},
     "outputs": [
      {
       "output_type": "stream",
       "stream": "stdout",
       "text": [
        "Intervalo de confianza de 0.1 es 1\n",
        "Intervalo de confianza de 0.35 es 1\n",
        "Intervalo de confianza de 0.4 es 1\n",
        "Intervalo de confianza de 1.7 es 1\n"
       ]
      }
     ],
     "prompt_number": 39
    },
    {
     "cell_type": "code",
     "collapsed": false,
     "input": [],
     "language": "python",
     "metadata": {},
     "outputs": [],
     "prompt_number": 23
    },
    {
     "cell_type": "code",
     "collapsed": false,
     "input": [],
     "language": "python",
     "metadata": {},
     "outputs": []
    }
   ],
   "metadata": {}
  }
 ]
}