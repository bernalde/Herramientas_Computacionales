{
 "metadata": {
  "name": "distribucion normal dos"
 },
 "nbformat": 3,
 "nbformat_minor": 0,
 "worksheets": [
  {
   "cells": [
    {
     "cell_type": "code",
     "collapsed": false,
     "input": [
      "%pylab inline"
     ],
     "language": "python",
     "metadata": {},
     "outputs": [
      {
       "output_type": "stream",
       "stream": "stdout",
       "text": [
        "\n",
        "Welcome to pylab, a matplotlib-based Python environment [backend: module://IPython.kernel.zmq.pylab.backend_inline].\n",
        "For more information, type 'help(pylab)'.\n"
       ]
      }
     ],
     "prompt_number": 2
    },
    {
     "cell_type": "code",
     "collapsed": false,
     "input": [
      "#variables \n",
      "M=200 # numero de muestras\n",
      "N=100 # numero de lanzamientos por muestra"
     ],
     "language": "python",
     "metadata": {},
     "outputs": [],
     "prompt_number": 40
    },
    {
     "cell_type": "code",
     "collapsed": false,
     "input": [
      "lista = []\n",
      "caras = []\n",
      "\n",
      "def listafrac(M,N):\n",
      "        \n",
      "    for j in range (M):#recorre el numero de muestras \n",
      "        car=0.0\n",
      "        for i in range (N): #recorre  el numero  de  lanzamientos por muestras \n",
      "            x=int(random.random()*2)\n",
      "            if  (x==1):\n",
      "                car=car+1 # suma si  es cara\n",
      "        lista.append(car/N)\n",
      "        caras.append (car)\n",
      "    \n",
      "    "
     ],
     "language": "python",
     "metadata": {},
     "outputs": [],
     "prompt_number": 41
    },
    {
     "cell_type": "code",
     "collapsed": false,
     "input": [
      "listafrac(M,N)\n",
      "print len(lista), len(caras)"
     ],
     "language": "python",
     "metadata": {},
     "outputs": [
      {
       "output_type": "stream",
       "stream": "stdout",
       "text": [
        "200 200\n"
       ]
      }
     ],
     "prompt_number": 42
    },
    {
     "cell_type": "code",
     "collapsed": false,
     "input": [
      "des= std(lista)\n",
      "pro= mean(lista)\n",
      "print \"desviacion estandar=\", des, \" Promedio = \", pro "
     ],
     "language": "python",
     "metadata": {},
     "outputs": [
      {
       "output_type": "stream",
       "stream": "stdout",
       "text": [
        "desviacion estandar= 0.0480122640583  Promedio =  0.49635\n"
       ]
      }
     ],
     "prompt_number": 43
    },
    {
     "cell_type": "code",
     "collapsed": false,
     "input": [
      "hist(lista, bins=7)\n",
      "x1=pro-des\n",
      "x2=pro+des\n",
      "y1=pro-(2*des)\n",
      "y2=pro+(2*des)\n",
      "z1=pro-(3*des)\n",
      "z2=pro+(3*des)"
     ],
     "language": "python",
     "metadata": {},
     "outputs": [
      {
       "output_type": "display_data",
       "png": "[encoded data removed]",
       "text": [
        "<matplotlib.figure.Figure at 0x26e8cd0>"
       ]
      }
     ],
     "prompt_number": 46
    },
    {
     "cell_type": "code",
     "collapsed": false,
     "input": [],
     "language": "python",
     "metadata": {},
     "outputs": []
    }
   ],
   "metadata": {}
  }
 ]
}