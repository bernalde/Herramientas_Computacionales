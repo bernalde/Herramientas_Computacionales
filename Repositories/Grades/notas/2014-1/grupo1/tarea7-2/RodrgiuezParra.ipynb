{
 "metadata": {
  "name": "RodriguezParra"
 },
 "nbformat": 3,
 "nbformat_minor": 0,
 "worksheets": [
  {
   "cells": [
    {
     "cell_type": "code",
     "collapsed": false,
     "input": [
      "%pylab inline"
     ],
     "language": "python",
     "metadata": {},
     "outputs": [
      {
       "output_type": "stream",
       "stream": "stdout",
       "text": [
        "\n",
        "Welcome to pylab, a matplotlib-based Python environment [backend: module://IPython.kernel.zmq.pylab.backend_inline].\n",
        "For more information, type 'help(pylab)'.\n"
       ]
      }
     ],
     "prompt_number": 5
    },
    {
     "cell_type": "code",
     "collapsed": false,
     "input": [
      "def moneda(N,M):\n",
      "    j = 0\n",
      "    L = []\n",
      "    W = []\n",
      "      \n",
      "    while j < M:\n",
      "        j+=1\n",
      "        i = 0\n",
      "        cara = 0.0\n",
      "        sello = 0.0\n",
      "        while i < N:\n",
      "            i+=1\n",
      "            x = np.random.randint(0,2)\n",
      "            if x == 0:\n",
      "                cara +=1\n",
      "            else:\n",
      "                sello +=1\n",
      "        \n",
      "        fraccionc = cara/N\n",
      "        L.append(fraccionc)\n",
      "        \n",
      "        fraccions = sello/N\n",
      "        W.append(fraccions)\n",
      "        \n",
      "    return L "
     ],
     "language": "python",
     "metadata": {},
     "outputs": [],
     "prompt_number": 4
    },
    {
     "cell_type": "code",
     "collapsed": false,
     "input": [
      "L = moneda(500.0, 1000.0)"
     ],
     "language": "python",
     "metadata": {},
     "outputs": [],
     "prompt_number": 16
    },
    {
     "cell_type": "code",
     "collapsed": false,
     "input": [
      "hist(L, bins=11)\n",
      "title(\"Histograma de la fraccion de los datos de cara\", fontsize=20, color='g')\n",
      "xlabel(\"$Datos\\ para\\ Cara$\", fontsize=15)\n",
      "tick_params(axis=\"both\", labelsize=12)"
     ],
     "language": "python",
     "metadata": {},
     "outputs": [
      {
       "output_type": "display_data",
       "png": "[encoded data removed]",
       "text": [
        "<matplotlib.figure.Figure at 0x1f97b50>"
       ]
      }
     ],
     "prompt_number": 17
    },
    {
     "cell_type": "code",
     "collapsed": false,
     "input": [
      "desvi = np.std(L)\n",
      "print desvi"
     ],
     "language": "python",
     "metadata": {},
     "outputs": [
      {
       "output_type": "stream",
       "stream": "stdout",
       "text": [
        "0.0231460594732\n"
       ]
      }
     ],
     "prompt_number": 9
    },
    {
     "cell_type": "code",
     "collapsed": false,
     "input": [
      "prom =(sum(L))/(len(L))\n",
      "print prom"
     ],
     "language": "python",
     "metadata": {},
     "outputs": [
      {
       "output_type": "stream",
       "stream": "stdout",
       "text": [
        "0.499124444444\n"
       ]
      }
     ],
     "prompt_number": 10
    },
    {
     "cell_type": "code",
     "collapsed": false,
     "input": [
      "def inter(valor):\n",
      "    e=0\n",
      "    r=0\n",
      "    while e == 0:\n",
      "        r+=1\n",
      "        if ((prom-(r*desvi)) <= valor <= (prom+(r*desvi))):\n",
      "            e+=1\n",
      "    print \"el intervalo de confianza del valor\", valor, \"es:\", r\n",
      "                                          "
     ],
     "language": "python",
     "metadata": {},
     "outputs": [],
     "prompt_number": 11
    },
    {
     "cell_type": "code",
     "collapsed": false,
     "input": [
      "inter(0.1)"
     ],
     "language": "python",
     "metadata": {},
     "outputs": [
      {
       "output_type": "stream",
       "stream": "stdout",
       "text": [
        "el intervalo de confianza del valor 0.1 es: 18\n"
       ]
      }
     ],
     "prompt_number": 12
    },
    {
     "cell_type": "code",
     "collapsed": false,
     "input": [
      "inter(0.35)\n"
     ],
     "language": "python",
     "metadata": {},
     "outputs": [
      {
       "output_type": "stream",
       "stream": "stdout",
       "text": [
        "el intervalo de confianza del valor 0.35 es: 7\n"
       ]
      }
     ],
     "prompt_number": 13
    },
    {
     "cell_type": "code",
     "collapsed": false,
     "input": [
      "inter(0.4)"
     ],
     "language": "python",
     "metadata": {},
     "outputs": [
      {
       "output_type": "stream",
       "stream": "stdout",
       "text": [
        "el intervalo de confianza del valor 0.4 es: 5\n"
       ]
      }
     ],
     "prompt_number": 14
    },
    {
     "cell_type": "code",
     "collapsed": false,
     "input": [
      "inter(1.7)"
     ],
     "language": "python",
     "metadata": {},
     "outputs": [
      {
       "output_type": "stream",
       "stream": "stdout",
       "text": [
        "el intervalo de confianza del valor 1.7 es: 52\n"
       ]
      }
     ],
     "prompt_number": 15
    },
    {
     "cell_type": "code",
     "collapsed": false,
     "input": [
      "def grafica1(lanzamientos,repeticiones):\n",
      "    s=0\n",
      "    parametro = 20000\n",
      "    \n",
      "    while s < parametro:\n",
      "        s+=1000\n",
      "        \n",
      "        while j < repeticiones:\n",
      "            j+=1\n",
      "            i = 0\n",
      "            cara1 = 0.0\n",
      "            sello1 = 0.0\n",
      "            while i < lanzamientos:\n",
      "                i+=1\n",
      "                x = np.random.randint(0,2)\n",
      "                if x == 0:\n",
      "                    cara1 +=1\n",
      "                else:\n",
      "                    sello1 +=1\n",
      "        \n",
      "           \n",
      "    \n",
      "\n",
      "    "
     ],
     "language": "python",
     "metadata": {},
     "outputs": [],
     "prompt_number": 5
    },
    {
     "cell_type": "code",
     "collapsed": false,
     "input": [],
     "language": "python",
     "metadata": {},
     "outputs": []
    }
   ],
   "metadata": {}
  }
 ]
}