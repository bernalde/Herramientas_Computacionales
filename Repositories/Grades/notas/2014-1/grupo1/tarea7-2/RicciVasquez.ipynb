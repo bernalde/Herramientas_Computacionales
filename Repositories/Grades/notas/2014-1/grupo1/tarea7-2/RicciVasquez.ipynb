{
 "metadata": {
  "name": "Untitled0"
 },
 "nbformat": 3,
 "nbformat_minor": 0,
 "worksheets": [
  {
   "cells": [
    {
     "cell_type": "code",
     "collapsed": false,
     "input": [
      "%pylab inline"
     ],
     "language": "python",
     "metadata": {},
     "outputs": [
      {
       "output_type": "stream",
       "stream": "stdout",
       "text": [
        "\n",
        "Welcome to pylab, a matplotlib-based Python environment [backend: module://IPython.kernel.zmq.pylab.backend_inline].\n",
        "For more information, type 'help(pylab)'.\n"
       ]
      }
     ],
     "prompt_number": 1
    },
    {
     "cell_type": "code",
     "collapsed": false,
     "input": [
      "def lanzarMonedas (a,b):\n",
      "    h=0;\n",
      "    j=0;\n",
      "    a=a/1.\n",
      "    cara =0\n",
      "    sello=0\n",
      "    caras=[]\n",
      "    while(j<b):\n",
      "        h=0\n",
      "        cara=0\n",
      "        while (h<a):\n",
      "            x=np.random.randint(0,2)\n",
      "            if(x==0):\n",
      "                cara+=1\n",
      "            if(x==1):\n",
      "                sello+=1\n",
      "            h+=1\n",
      "        y = cara/a\n",
      "        caras.append(y)\n",
      "        j+=1\n",
      "    return caras\n",
      "    "
     ],
     "language": "python",
     "metadata": {},
     "outputs": [],
     "prompt_number": 2
    },
    {
     "cell_type": "code",
     "collapsed": false,
     "input": [
      "def Graficar(a,b):\n",
      "    cosa=lanzarMonedas(a,b)\n",
      "    hist(cosa, b)\n",
      "    title(\"Porcentaje de caras\")\n",
      "    xlabel(\"porcentaje de caras\")\n",
      "    ylabel(\"cantidad de caras\")\n",
      "\n",
      "    "
     ],
     "language": "python",
     "metadata": {},
     "outputs": [],
     "prompt_number": 3
    },
    {
     "cell_type": "code",
     "collapsed": false,
     "input": [
      "Graficar(5000,5000)\n"
     ],
     "language": "python",
     "metadata": {},
     "outputs": [
      {
       "output_type": "display_data",
       "png": "[encoded data removed]",
       "text": [
        "<matplotlib.figure.Figure at 0x173a850>"
       ]
      }
     ],
     "prompt_number": 4
    },
    {
     "cell_type": "code",
     "collapsed": false,
     "input": [
      "def rangoConfianza(a,b,c):\n",
      "    h=1\n",
      "    des=std(lanzarMonedas(a,b))\n",
      "    while(h<5000):\n",
      "        if((c<(0.5+h*des))&(c>(0.5-h*des))):\n",
      "            return \"El dato se encuentra en el intervale de confianza\" ,h\n",
      "        \n",
      "        h+=1\n",
      "        \n",
      "            \n",
      "            \n",
      "    \n",
      "    \n",
      "    "
     ],
     "language": "python",
     "metadata": {},
     "outputs": [],
     "prompt_number": 33
    },
    {
     "cell_type": "code",
     "collapsed": false,
     "input": [
      "def lanzarMonedasVersionSegundaClase (a):\n",
      "    h=0;\n",
      "    cara =0\n",
      "    sello=0\n",
      "    while (h<a):\n",
      "        x=random.randint(0,2)\n",
      "        if(x==0):\n",
      "            cara+=1\n",
      "        if(x==1):\n",
      "            sello+=1\n",
      "        h+=1\n",
      "    return sello\n",
      "    \n",
      "   "
     ],
     "language": "python",
     "metadata": {},
     "outputs": [],
     "prompt_number": 22
    },
    {
     "cell_type": "code",
     "collapsed": false,
     "input": [],
     "language": "python",
     "metadata": {},
     "outputs": [],
     "prompt_number": 46
    },
    {
     "cell_type": "code",
     "collapsed": false,
     "input": [
      "def crearListasCarasSellos(a,b):\n",
      "    caras=[]\n",
      "    sellos=[]\n",
      "    h=0\n",
      "    while(h<b):\n",
      "        sellos.append(lanzarMonedasVersionSegundaClase(a))\n",
      "        caras.append(a-lanzarMonedasVersionSegundaClase(a))\n",
      "        h+=1\n",
      "    return caras, sellos\n",
      "                      \n",
      "        \n",
      "    \n",
      "\n"
     ],
     "language": "python",
     "metadata": {},
     "outputs": [],
     "prompt_number": 6
    },
    {
     "cell_type": "code",
     "collapsed": false,
     "input": [
      "x, y=crearListasCarasSellos(100, 20)\n",
      "print x"
     ],
     "language": "python",
     "metadata": {},
     "outputs": [
      {
       "output_type": "stream",
       "stream": "stdout",
       "text": [
        "[38, 56, 51, 40, 53, 50, 44, 47, 53, 44, 47, 56, 51, 48, 54, 46, 51, 44, 53, 43]\n"
       ]
      }
     ],
     "prompt_number": 7
    },
    {
     "cell_type": "code",
     "collapsed": false,
     "input": [
      "def graficaUno(a,b,c,v):\n",
      "    cosa=[]\n",
      "    cosa2=[]\n",
      "    h=a\n",
      "    j=1.0\n",
      "    \n",
      "    while(h<c):\n",
      "        x, y = crearListasCarasSellos(h, b)\n",
      "        q=mean(x)\n",
      "        w=mean(y)\n",
      "        cossa2=abs(q-w)\n",
      "        cosa.append(h)\n",
      "        cosa2.append(cossa2)\n",
      "        j+=1\n",
      "        h=a*(j+1)\n",
      "        \n",
      "        \n",
      "    \n",
      "    scatter(cosa,cosa2, c=v)   \n",
      "    title(\"Diferencia caras sellos\")\n",
      "    xlabel(\"Cantidad de Datos\")\n",
      "    ylabel(\"Diferencia\")   \n",
      "        \n",
      "        "
     ],
     "language": "python",
     "metadata": {},
     "outputs": [],
     "prompt_number": 8
    },
    {
     "cell_type": "code",
     "collapsed": false,
     "input": [
      "\n"
     ],
     "language": "python",
     "metadata": {},
     "outputs": [],
     "prompt_number": 9
    },
    {
     "cell_type": "code",
     "collapsed": false,
     "input": [
      "def graficaDos(a,b,c, value):\n",
      "    cosa=[]\n",
      "    cosa2=[]\n",
      "    h=a\n",
      "    j=1.0\n",
      "    \n",
      "    while(h<c):\n",
      "        x, y = crearListasCarasSellos(h, b)\n",
      "        q=mean(x)\n",
      "        w=mean(y)\n",
      "        cossa2=q/w\n",
      "        cosa.append(h)\n",
      "        cosa2.append(cossa2)\n",
      "        j+=1\n",
      "        h=a*(j+1)\n",
      "        \n",
      "        \n",
      "    \n",
      "    scatter(cosa,cosa2, c=value)\n",
      "    title(\"Razon caras sellos\")\n",
      "    xlabel(\"Cantidad de Datos\")\n",
      "    ylabel(\"Razon\")   \n",
      "        \n",
      "\n"
     ],
     "language": "python",
     "metadata": {},
     "outputs": [],
     "prompt_number": 10
    },
    {
     "cell_type": "code",
     "collapsed": false,
     "input": [],
     "language": "python",
     "metadata": {},
     "outputs": [],
     "prompt_number": 114
    },
    {
     "cell_type": "code",
     "collapsed": false,
     "input": [
      "graficaUno(1000,20,20000, 'r')\n",
      "graficaUno(1000,40,20000, 'b')"
     ],
     "language": "python",
     "metadata": {},
     "outputs": [
      {
       "output_type": "display_data",
       "png": "[encoded data removed]",
       "text": [
        "<matplotlib.figure.Figure at 0x94e1110>"
       ]
      }
     ],
     "prompt_number": 11
    },
    {
     "cell_type": "code",
     "collapsed": false,
     "input": [
      "graficaDos(1000,20,20000, 'r')\n",
      "graficaDos(1000,40,20000, 'b')"
     ],
     "language": "python",
     "metadata": {},
     "outputs": [
      {
       "output_type": "display_data",
       "png": "[encoded data removed]",
       "text": [
        "<matplotlib.figure.Figure at 0x21dc750>"
       ]
      }
     ],
     "prompt_number": 12
    },
    {
     "cell_type": "code",
     "collapsed": false,
     "input": [
      "rangoConfianza(5000,5000,0.53)"
     ],
     "language": "python",
     "metadata": {},
     "outputs": [
      {
       "output_type": "pyout",
       "prompt_number": 45,
       "text": [
        "('El dato se encuentra en el intervale de confianza', 5)"
       ]
      }
     ],
     "prompt_number": 45
    },
    {
     "cell_type": "code",
     "collapsed": false,
     "input": [
      "rangoConfianza(5000,5000,0.45)"
     ],
     "language": "python",
     "metadata": {},
     "outputs": [
      {
       "output_type": "pyout",
       "prompt_number": 46,
       "text": [
        "('El dato se encuentra en el intervale de confianza', 8)"
       ]
      }
     ],
     "prompt_number": 46
    },
    {
     "cell_type": "code",
     "collapsed": false,
     "input": [
      "rangoConfianza(5000,5000,0.51)"
     ],
     "language": "python",
     "metadata": {},
     "outputs": [
      {
       "output_type": "pyout",
       "prompt_number": 47,
       "text": [
        "('El dato se encuentra en el intervale de confianza', 2)"
       ]
      }
     ],
     "prompt_number": 47
    },
    {
     "cell_type": "code",
     "collapsed": false,
     "input": [
      "rangoConfianza(5000,5000,1.3)"
     ],
     "language": "python",
     "metadata": {},
     "outputs": [
      {
       "output_type": "pyout",
       "prompt_number": 48,
       "text": [
        "('El dato se encuentra en el intervale de confianza', 115)"
       ]
      }
     ],
     "prompt_number": 48
    },
    {
     "cell_type": "code",
     "collapsed": false,
     "input": [],
     "language": "python",
     "metadata": {},
     "outputs": []
    }
   ],
   "metadata": {}
  }
 ]
}