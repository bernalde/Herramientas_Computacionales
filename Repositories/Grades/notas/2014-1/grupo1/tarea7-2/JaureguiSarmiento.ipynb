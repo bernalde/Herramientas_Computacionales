{
 "metadata": {
  "name": "TareaDistribucionNormal"
 },
 "nbformat": 3,
 "nbformat_minor": 0,
 "worksheets": [
  {
   "cells": [
    {
     "cell_type": "code",
     "collapsed": false,
     "input": [
      "#N\u00e9stor Iv\u00e1n J\u00e1uregui - 201314329\n",
      "%pylab inline"
     ],
     "language": "python",
     "metadata": {},
     "outputs": [
      {
       "output_type": "stream",
       "stream": "stdout",
       "text": [
        "\n",
        "Welcome to pylab, a matplotlib-based Python environment [backend: module://IPython.kernel.zmq.pylab.backend_inline].\n",
        "For more information, type 'help(pylab)'.\n"
       ]
      }
     ],
     "prompt_number": 2
    },
    {
     "cell_type": "code",
     "collapsed": false,
     "input": [
      "def Moneda(n, m):\n",
      "    cont_m = 0\n",
      "    cont_n = 0\n",
      "    Temp_s = 0\n",
      "    Lista_s = []\n",
      "    Lista_c = []\n",
      "    Temp_c = 0\n",
      "    while cont_m < m:\n",
      "        Temp_s = 0\n",
      "        Temp_c = 0\n",
      "        cont_m = cont_m + 1\n",
      "        while cont_n < n:\n",
      "            cont_n = cont_n + 1\n",
      "            x = np.random.randint(1, 3)\n",
      "            if x == 2:\n",
      "                Temp_c = Temp_c + 1\n",
      "            elif x == 1:\n",
      "                Temp_s = Temp_s + 1\n",
      "        cont_n = 0\n",
      "        y = Temp_c/n\n",
      "        z = Temp_s/n\n",
      "        Lista_c.append(y)\n",
      "        Lista_s.append(z)\n",
      "    return Lista_c, Lista_s"
     ],
     "language": "python",
     "metadata": {},
     "outputs": [],
     "prompt_number": 3
    },
    {
     "cell_type": "code",
     "collapsed": false,
     "input": [
      "Graf_c, Graf_s = Moneda(5000.0, 5000.0)"
     ],
     "language": "python",
     "metadata": {},
     "outputs": [],
     "prompt_number": 4
    },
    {
     "cell_type": "code",
     "collapsed": false,
     "input": [
      "hist(Graf_c, bins=100)"
     ],
     "language": "python",
     "metadata": {},
     "outputs": [
      {
       "output_type": "pyout",
       "prompt_number": 5,
       "text": [
        "(array([  3,   2,   1,   1,   1,   0,   2,   5,   4,   4,   3,   9,   3,\n",
        "        12,   5,  11,  11,   9,  26,  17,  24,  20,  22,  47,  25,  48,\n",
        "        33,  72,  46,  54,  65,  41,  88,  72, 113,  89,  84, 125,  86,\n",
        "       135,  91, 143, 113, 101, 168, 112, 191, 107, 180, 114, 108, 167,\n",
        "       102, 176,  98, 143,  89,  71, 144,  98, 121,  77,  88,  77,  72,\n",
        "        80,  70,  77,  42,  59,  33,  25,  36,  23,  31,  22,  34,  11,\n",
        "        10,  15,   7,  13,   8,   7,   5,   4,   4,   0,   3,   2,   2,\n",
        "         2,   0,   1,   2,   1,   0,   0,   1,   1]),\n",
        " array([ 0.4766  ,  0.477086,  0.477572,  0.478058,  0.478544,  0.47903 ,\n",
        "        0.479516,  0.480002,  0.480488,  0.480974,  0.48146 ,  0.481946,\n",
        "        0.482432,  0.482918,  0.483404,  0.48389 ,  0.484376,  0.484862,\n",
        "        0.485348,  0.485834,  0.48632 ,  0.486806,  0.487292,  0.487778,\n",
        "        0.488264,  0.48875 ,  0.489236,  0.489722,  0.490208,  0.490694,\n",
        "        0.49118 ,  0.491666,  0.492152,  0.492638,  0.493124,  0.49361 ,\n",
        "        0.494096,  0.494582,  0.495068,  0.495554,  0.49604 ,  0.496526,\n",
        "        0.497012,  0.497498,  0.497984,  0.49847 ,  0.498956,  0.499442,\n",
        "        0.499928,  0.500414,  0.5009  ,  0.501386,  0.501872,  0.502358,\n",
        "        0.502844,  0.50333 ,  0.503816,  0.504302,  0.504788,  0.505274,\n",
        "        0.50576 ,  0.506246,  0.506732,  0.507218,  0.507704,  0.50819 ,\n",
        "        0.508676,  0.509162,  0.509648,  0.510134,  0.51062 ,  0.511106,\n",
        "        0.511592,  0.512078,  0.512564,  0.51305 ,  0.513536,  0.514022,\n",
        "        0.514508,  0.514994,  0.51548 ,  0.515966,  0.516452,  0.516938,\n",
        "        0.517424,  0.51791 ,  0.518396,  0.518882,  0.519368,  0.519854,\n",
        "        0.52034 ,  0.520826,  0.521312,  0.521798,  0.522284,  0.52277 ,\n",
        "        0.523256,  0.523742,  0.524228,  0.524714,  0.5252  ]),\n",
        " <a list of 100 Patch objects>)"
       ]
      },
      {
       "output_type": "display_data",
       "png": "[encoded data removed]",
       "text": [
        "<matplotlib.figure.Figure at 0x178b150>"
       ]
      }
     ],
     "prompt_number": 5
    },
    {
     "cell_type": "code",
     "collapsed": false,
     "input": [
      "def Sigma_n(valor, Graf):\n",
      "    k = np.mean(Graf)\n",
      "    Miu = np.std(Graf)\n",
      "    Max = k + Miu\n",
      "    Min = k - Miu\n",
      "    sigma = 0\n",
      "    parar = False\n",
      "    while parar == False:\n",
      "        sigma = sigma + 1\n",
      "        if(valor >= Min and valor <= Max ):\n",
      "            parar = True\n",
      "        else:\n",
      "            Max = Max + Miu\n",
      "            Min = Min - Miu\n",
      "    return sigma"
     ],
     "language": "python",
     "metadata": {},
     "outputs": [],
     "prompt_number": 6
    },
    {
     "cell_type": "code",
     "collapsed": false,
     "input": [
      "a = Sigma_n(0.45, Graf_c)\n",
      "b = Sigma_n(0.51, Graf_c)\n",
      "c = Sigma_n(0.53, Graf_c)\n",
      "d = Sigma_n(1.7, Graf_c)\n",
      "print a, b, c, d"
     ],
     "language": "python",
     "metadata": {},
     "outputs": [
      {
       "output_type": "stream",
       "stream": "stdout",
       "text": [
        "8 2 5 172\n"
       ]
      }
     ],
     "prompt_number": 7
    },
    {
     "cell_type": "code",
     "collapsed": false,
     "input": [
      "Lista1 = []\n",
      "Lista2 = []\n",
      "for i in range(20):\n",
      "    j, k = Moneda(1000, 1000)\n",
      "    Lista1.append(abs(np.mean(j)-np.mean(k)))\n",
      "for i in range(40):\n",
      "    j, k = Moneda(1000, 1000)\n",
      "    Lista2.append(abs(np.mean(j)/np.mean(k)))"
     ],
     "language": "python",
     "metadata": {},
     "outputs": [],
     "prompt_number": 19
    },
    {
     "cell_type": "code",
     "collapsed": false,
     "input": [
      "Listx1 = [1000, 2000, 3000, 4000, 5000, 6000, 7000, 8000, 9000, 10000, 11000, 12000, 13000, 14000, 15000, 16000, 17000, 18000, 19000, 20000]\n",
      "Listx2 = [1000, 2000, 3000, 4000, 5000, 6000, 7000, 8000, 9000, 10000, 11000, 12000, 13000, 14000, 15000, 16000, 17000, 18000, 19000, 20000, 21000, 22000, 23000, 24000, 25000, 26000, 27000, 28000, 29000, 30000, 31000, 32000, 33000, 34000, 35000, 36000, 37000, 38000, 39000, 40000]\n",
      "plt.scatter(Listx2, Lista2)\n",
      "plt.scatter(Listx1, Lista1, color='r')"
     ],
     "language": "python",
     "metadata": {},
     "outputs": [
      {
       "output_type": "pyout",
       "prompt_number": 22,
       "text": [
        "<matplotlib.collections.PathCollection at 0x3541790>"
       ]
      },
      {
       "output_type": "display_data",
       "png": "[encoded data removed]",
       "text": [
        "<matplotlib.figure.Figure at 0x2fc2f90>"
       ]
      }
     ],
     "prompt_number": 22
    },
    {
     "cell_type": "code",
     "collapsed": false,
     "input": [],
     "language": "python",
     "metadata": {},
     "outputs": []
    }
   ],
   "metadata": {}
  }
 ]
}