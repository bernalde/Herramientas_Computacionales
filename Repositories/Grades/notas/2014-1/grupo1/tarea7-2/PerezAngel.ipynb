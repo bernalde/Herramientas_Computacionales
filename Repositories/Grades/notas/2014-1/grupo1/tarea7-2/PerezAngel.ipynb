{
 "metadata": {
  "name": "PerezAngel_Raiz"
 },
 "nbformat": 3,
 "nbformat_minor": 0,
 "worksheets": [
  {
   "cells": [
    {
     "cell_type": "code",
     "collapsed": false,
     "input": [
      "%pylab inline"
     ],
     "language": "python",
     "metadata": {},
     "outputs": [
      {
       "output_type": "stream",
       "stream": "stdout",
       "text": [
        "\n",
        "Welcome to pylab, a matplotlib-based Python environment [backend: module://IPython.kernel.zmq.pylab.backend_inline].\n",
        "For more information, type 'help(pylab)'.\n"
       ]
      }
     ],
     "prompt_number": 1
    },
    {
     "cell_type": "code",
     "collapsed": false,
     "input": [
      "def Num(x, r, e):\n",
      "    N=x\n",
      "    peque = 0.0\n",
      "    grande = max(1.0,N) \n",
      "    \n",
      "    A = (peque + grande)/r\n",
      "    \n",
      "    i=0\n",
      "    \n",
      "    while abs(A**r - N)>= e:\n",
      "        i +=1\n",
      "        if (A**r < N):\n",
      "            peque = A\n",
      "        elif (A**r > N):\n",
      "            grande = A\n",
      "            \n",
      "        A = (peque + grande)/r\n",
      "    \n",
      "    print \"la raiz de \", x, \"es \", A, \"las iteraciones para encontrar esto fueron:\", i\n",
      "\n",
      "    "
     ],
     "language": "python",
     "metadata": {},
     "outputs": []
    },
    {
     "cell_type": "code",
     "collapsed": false,
     "input": [
      "Num(20, 2, 0.01)"
     ],
     "language": "python",
     "metadata": {},
     "outputs": [
      {
       "output_type": "stream",
       "stream": "stdout",
       "text": [
        "la raiz de  20 es  4.47265625 las iteraciones para encontrar esto fueron: 9\n"
       ]
      }
     ],
     "prompt_number": 29
    },
    {
     "cell_type": "raw",
     "metadata": {},
     "source": [
      "usamos el max(1.0,N) porque queremos comparar que el numero que entre sea mayor o igual a 1, ya que si hacemos raices menores a 1, el epsilon no tendra ningun senido y nos daran resultados muy peque\u00f1os que no podremos calcular. Por que, estos numeros se vana  aproximar gracias al epsilon "
     ]
    },
    {
     "cell_type": "code",
     "collapsed": false,
     "input": [],
     "language": "python",
     "metadata": {},
     "outputs": [],
     "prompt_number": 27
    },
    {
     "cell_type": "code",
     "collapsed": false,
     "input": [],
     "language": "python",
     "metadata": {},
     "outputs": []
    }
   ],
   "metadata": {}
  }
 ]
}