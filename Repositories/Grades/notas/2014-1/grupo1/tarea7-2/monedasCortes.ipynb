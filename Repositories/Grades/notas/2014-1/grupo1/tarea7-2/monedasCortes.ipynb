{
 "metadata": {
  "name": "monedasCortes"
 },
 "nbformat": 3,
 "nbformat_minor": 0,
 "worksheets": [
  {
   "cells": [
    {
     "cell_type": "code",
     "collapsed": false,
     "input": [
      "%pylab inline\n"
     ],
     "language": "python",
     "metadata": {},
     "outputs": [
      {
       "output_type": "stream",
       "stream": "stdout",
       "text": [
        "\n",
        "Welcome to pylab, a matplotlib-based Python environment [backend: module://IPython.kernel.zmq.pylab.backend_inline].\n",
        "For more information, type 'help(pylab)'.\n"
       ]
      }
     ],
     "prompt_number": 87
    },
    {
     "cell_type": "code",
     "collapsed": false,
     "input": [
      "def mediciones(Numerolanzamientos, NumeroMediciones):\n",
      "    i=0.0\n",
      "    z=0.0\n",
      "    y=0.0\n",
      "    moneda = []\n",
      "    moneda2 = []\n",
      "    while i < NumeroMediciones:\n",
      "        i+=1.0\n",
      "        c=0.0\n",
      "        s=0.0   \n",
      "        p=0.0       \n",
      "        while p < Numerolanzamientos:\n",
      "            p+=1.0\n",
      "            x = np.random.randint(0,2)\n",
      "            if x == 0:\n",
      "                c+=1.0\n",
      "            else:\n",
      "                s+=1.0\n",
      "        z= c/Numerolanzamientos\n",
      "        moneda.append(z)\n",
      "        y= s/Numerolanzamientos\n",
      "        moneda2.append(y)\n",
      "    return moneda"
     ],
     "language": "python",
     "metadata": {},
     "outputs": [],
     "prompt_number": 88
    },
    {
     "cell_type": "code",
     "collapsed": false,
     "input": [
      "moneda = mediciones(1000.0, 10250.0)"
     ],
     "language": "python",
     "metadata": {},
     "outputs": [],
     "prompt_number": 89
    },
    {
     "cell_type": "code",
     "collapsed": false,
     "input": [
      "hist(moneda, bins=11)\n",
      "xlabel(\"fracciones de lanzamiento de moneda (Caras)\", fontsize=12)\n",
      "ylabel(\"total lanzamientos en todas las mediciones\", fontsize=12)\n",
      "title(\"Distribucion normal del lanzamiento de una moneda\", fontsize=15, color='r')"
     ],
     "language": "python",
     "metadata": {},
     "outputs": [
      {
       "output_type": "pyout",
       "prompt_number": 90,
       "text": [
        "<matplotlib.text.Text at 0x2a27d90>"
       ]
      },
      {
       "output_type": "display_data",
       "png": "[encoded data removed]",
       "text": [
        "<matplotlib.figure.Figure at 0x29e3290>"
       ]
      }
     ],
     "prompt_number": 90
    },
    {
     "cell_type": "code",
     "collapsed": false,
     "input": [
      "w = np.std(moneda)\n",
      "print w"
     ],
     "language": "python",
     "metadata": {},
     "outputs": [
      {
       "output_type": "stream",
       "stream": "stdout",
       "text": [
        "0.0158588897744\n"
       ]
      }
     ],
     "prompt_number": 80
    },
    {
     "cell_type": "code",
     "collapsed": false,
     "input": [
      "z = (sum(moneda))/(len(moneda))\n",
      "print z"
     ],
     "language": "python",
     "metadata": {},
     "outputs": [
      {
       "output_type": "stream",
       "stream": "stdout",
       "text": [
        "0.50016995122\n"
       ]
      }
     ],
     "prompt_number": 81
    },
    {
     "cell_type": "code",
     "collapsed": false,
     "input": [
      "def intervalo(fraccion1):\n",
      "    a=0.0\n",
      "    b=0.0\n",
      "    while b == 0:\n",
      "        a+=1.0\n",
      "        if ((z-(a*w)) <= fraccion1 <= (z+(a*w))):\n",
      "            b+=1.0\n",
      "    print \"la fraccion\", fraccion1, \"esta en el\", a, \"intervalo de confianza\"\n",
      "            \n",
      "        \n",
      "        \n",
      "    "
     ],
     "language": "python",
     "metadata": {},
     "outputs": [],
     "prompt_number": 82
    },
    {
     "cell_type": "code",
     "collapsed": false,
     "input": [
      "intervalo(0.1)"
     ],
     "language": "python",
     "metadata": {},
     "outputs": [
      {
       "output_type": "stream",
       "stream": "stdout",
       "text": [
        "la fraccion 0.1 esta en el 26.0 intervalo de confianza\n"
       ]
      }
     ],
     "prompt_number": 83
    },
    {
     "cell_type": "code",
     "collapsed": false,
     "input": [
      "intervalo(0.35)\n"
     ],
     "language": "python",
     "metadata": {},
     "outputs": [
      {
       "output_type": "stream",
       "stream": "stdout",
       "text": [
        "la fraccion 0.35 esta en el 10.0 intervalo de confianza\n"
       ]
      }
     ],
     "prompt_number": 84
    },
    {
     "cell_type": "code",
     "collapsed": false,
     "input": [
      "intervalo(0.4)"
     ],
     "language": "python",
     "metadata": {},
     "outputs": [
      {
       "output_type": "stream",
       "stream": "stdout",
       "text": [
        "la fraccion 0.4 esta en el 7.0 intervalo de confianza\n"
       ]
      }
     ],
     "prompt_number": 85
    },
    {
     "cell_type": "code",
     "collapsed": false,
     "input": [
      "intervalo(1.7)"
     ],
     "language": "python",
     "metadata": {},
     "outputs": [
      {
       "output_type": "stream",
       "stream": "stdout",
       "text": [
        "la fraccion 1.7 esta en el 76.0 intervalo de confianza\n"
       ]
      }
     ],
     "prompt_number": 86
    },
    {
     "cell_type": "code",
     "collapsed": false,
     "input": [],
     "language": "python",
     "metadata": {},
     "outputs": [],
     "prompt_number": 86
    },
    {
     "cell_type": "code",
     "collapsed": false,
     "input": [],
     "language": "python",
     "metadata": {},
     "outputs": []
    }
   ],
   "metadata": {}
  }
 ]
}