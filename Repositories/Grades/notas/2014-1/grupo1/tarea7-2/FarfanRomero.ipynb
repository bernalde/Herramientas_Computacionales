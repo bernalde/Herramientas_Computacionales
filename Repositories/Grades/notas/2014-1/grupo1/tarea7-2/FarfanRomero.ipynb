{
 "metadata": {
  "name": "farfan_romero_ejercicio_28_marzo"
 },
 "nbformat": 3,
 "nbformat_minor": 0,
 "worksheets": [
  {
   "cells": [
    {
     "cell_type": "code",
     "collapsed": false,
     "input": [
      "%pylab inline\n",
      "import matplotlib.pyplot as plt\n",
      "import numpy as np\n",
      "\n",
      "\n",
      "#N es el numero de lanzamientos\n",
      "def moneda(N):\n",
      "    sellos = []\n",
      "    caras = []\n",
      "    j=0\n",
      "    while j < 20:\n",
      "        i=0\n",
      "        cara = 0.0\n",
      "        sello = 0.0\n",
      "        while i < N:\n",
      "            x = np.random.randint(0, 10)/5.0\n",
      "            if x >= 1.0:\n",
      "                cara+=1\n",
      "            elif x<1.0:\n",
      "                sello+=1\n",
      "            \n",
      "            i+=1\n",
      "            \n",
      "        sellos.append(sello)\n",
      "        caras.append(cara)\n",
      "        j+=1\n",
      "      \n",
      "    return sellos, caras\n",
      "\n",
      "\n"
     ],
     "language": "python",
     "metadata": {},
     "outputs": [
      {
       "output_type": "stream",
       "stream": "stdout",
       "text": [
        "\n",
        "Welcome to pylab, a matplotlib-based Python environment [backend: module://IPython.kernel.zmq.pylab.backend_inline].\n",
        "For more information, type 'help(pylab)'.\n"
       ]
      }
     ],
     "prompt_number": 8
    },
    {
     "cell_type": "code",
     "collapsed": true,
     "input": [
      "zetas = []\n",
      "nflips = []\n",
      "i = 1000\n",
      "while i <= 20000:\n",
      "    x, y = moneda(i)\n",
      "    x_m = mean(x)\n",
      "    y_m = mean(y)\n",
      "    z = abs(x_m-y_m)\n",
      "    zetas.append(z)\n",
      "    nflips.append(i)\n",
      "    i+=1000\n",
      "    \n",
      "print zetas, nflips  \n",
      "scatter(nflips, zetas)"
     ],
     "language": "python",
     "metadata": {},
     "outputs": [
      {
       "output_type": "stream",
       "stream": "stdout",
       "text": [
        "[0.79999999999995453, 16.099999999999909, 13.199999999999818, 28.800000000000182, 9.0, 5.6000000000003638, 21.699999999999818, 0.8000000000001819, 14.600000000000364, 27.399999999999636, 36.799999999999272, 15.899999999999636, 29.399999999999636, 16.700000000000728, 5.0, 9.7999999999992724, 21.099999999998545, 61.299999999999272, 4.7000000000007276, 13.0] [1000, 2000, 3000, 4000, 5000, 6000, 7000, 8000, 9000, 10000, 11000, 12000, 13000, 14000, 15000, 16000, 17000, 18000, 19000, 20000]\n"
       ]
      },
      {
       "output_type": "pyout",
       "prompt_number": 77,
       "text": [
        "<matplotlib.collections.PathCollection at 0x2925c90>"
       ]
      },
      {
       "output_type": "display_data",
       "png": "[encoded data removed]",
       "text": [
        "<matplotlib.figure.Figure at 0x27f3fd0>"
       ]
      }
     ],
     "prompt_number": 77
    },
    {
     "cell_type": "code",
     "collapsed": true,
     "input": [
      "ws = []\n",
      "nveces = []\n",
      "i = 1000\n",
      "while i <= 20000:\n",
      "    a, b = moneda(i)\n",
      "    a_m = mean(a)\n",
      "    b_m = mean(b)\n",
      "    w = a_m/b_m\n",
      "    ws.append(w)\n",
      "    nveces.append(i)\n",
      "    i+=1000\n",
      "print ws, nveces\n",
      "scatter(nveces, ws)"
     ],
     "language": "python",
     "metadata": {},
     "outputs": [
      {
       "output_type": "stream",
       "stream": "stdout",
       "text": [
        "[1.0145044319097503, 1.0048115477145148, 1.0034057898427327, 0.99580880151681461, 1.0063400345090487, 0.99903380032984068, 1.0016298986317429, 1.0078809326606932, 0.99769155642368823, 0.99250816928349395, 1.0008185166659087, 0.99700449326010987, 1.0005539995691115, 1.0009576011376875, 0.99691144363384621, 1.0010505515395582, 1.0038426629890258, 0.99699341546893305, 1.0037649689152777, 0.99664563533264128] [1000, 2000, 3000, 4000, 5000, 6000, 7000, 8000, 9000, 10000, 11000, 12000, 13000, 14000, 15000, 16000, 17000, 18000, 19000, 20000]\n"
       ]
      },
      {
       "output_type": "pyout",
       "prompt_number": 79,
       "text": [
        "<matplotlib.collections.PathCollection at 0x26f9710>"
       ]
      },
      {
       "output_type": "display_data",
       "png": "[encoded data removed]",
       "text": [
        "<matplotlib.figure.Figure at 0x27eb550>"
       ]
      }
     ],
     "prompt_number": 79
    },
    {
     "cell_type": "code",
     "collapsed": false,
     "input": [
      "def moneda(N):\n",
      "    sellos = []\n",
      "    caras = []\n",
      "    j=0\n",
      "    while j < 20:\n",
      "        i=0\n",
      "        cara = 0.0\n",
      "        sello = 0.0\n",
      "        while i < N:\n",
      "            x = np.random.randint(0, 10)/5.0\n",
      "            if x >= 1.0:\n",
      "                cara+=1\n",
      "            elif x<1.0:\n",
      "                sello+=1\n",
      "            \n",
      "            i+=1\n",
      "            \n",
      "        sellos.append(sello)\n",
      "        caras.append(cara)\n",
      "        j+=1\n",
      "      \n",
      "    return sellos, caras\n",
      "\n",
      "zetas = []\n",
      "nflips = []\n",
      "i = 1000\n",
      "while i <= 20000:\n",
      "    x, y = moneda(i)\n",
      "    x_m = mean(x)\n",
      "    y_m = mean(y)\n",
      "    z = abs(x_m-y_m)\n",
      "    zetas.append(z)\n",
      "    nflips.append(i)\n",
      "    i+=1000\n",
      "    \n",
      "print zetas, nflips  \n",
      "scatter(nflips, zetas)\n",
      "xscale(\"log\")\n",
      "yscale(\"log\")"
     ],
     "language": "python",
     "metadata": {},
     "outputs": [
      {
       "output_type": "stream",
       "stream": "stdout",
       "text": [
        "[9.5, 11.799999999999955, 9.0999999999999091, 3.1999999999998181, 30.399999999999636, 4.3000000000001819, 9.1000000000003638, 20.5, 9.2000000000007276, 14.200000000000728, 15.600000000000364, 20.0, 14.600000000000364, 38.5, 27.0, 15.100000000000364, 70.0, 51.200000000000728, 7.2999999999992724, 30.799999999999272] [1000, 2000, 3000, 4000, 5000, 6000, 7000, 8000, 9000, 10000, 11000, 12000, 13000, 14000, 15000, 16000, 17000, 18000, 19000, 20000]\n"
       ]
      },
      {
       "output_type": "display_data",
       "png": "[encoded data removed]",
       "text": [
        "<matplotlib.figure.Figure at 0x244af90>"
       ]
      }
     ],
     "prompt_number": 9
    },
    {
     "cell_type": "code",
     "collapsed": false,
     "input": [
      "def moneda(N):\n",
      "    sellos = []\n",
      "    caras = []\n",
      "    j=0\n",
      "    while j < 20:\n",
      "        i=0\n",
      "        cara = 0.0\n",
      "        sello = 0.0\n",
      "        while i < N:\n",
      "            x = np.random.randint(0, 10)/5.0\n",
      "            if x >= 1.0:\n",
      "                cara+=1\n",
      "            elif x<1.0:\n",
      "                sello+=1\n",
      "            \n",
      "            i+=1\n",
      "            \n",
      "        sellos.append(sello)\n",
      "        caras.append(cara)\n",
      "        j+=1\n",
      "      \n",
      "    return sellos, caras\n",
      "\n",
      "ws = []\n",
      "nveces = []\n",
      "i = 1000\n",
      "while i <= 20000:\n",
      "    a, b = moneda(i)\n",
      "    a_m = mean(a)\n",
      "    b_m = mean(b)\n",
      "    w = a_m/b_m\n",
      "    ws.append(w)\n",
      "    nveces.append(i)\n",
      "    i+=1000\n",
      "print ws, nveces\n",
      "scatter(nveces, ws)\n",
      "xscale(\"log\")\n",
      "yscale(\"log\")"
     ],
     "language": "python",
     "metadata": {},
     "outputs": [
      {
       "output_type": "stream",
       "stream": "stdout",
       "text": [
        "[1.0118700331958554, 1.012983745156258, 0.9955432866597933, 0.98659051403029552, 0.99334223692865831, 0.99920031987205127, 0.99450087615574201, 1.0085110656406522, 1.0068455732331398, 0.99383903737451285, 0.99765729281115789, 0.99612419219349113, 0.99481348493915833, 1.0018731813339625, 1.00528057217339, 1.0012632974565194, 1.0023321280079149, 1.0008336807002918, 0.99981054426422766, 0.99960007998400324] [1000, 2000, 3000, 4000, 5000, 6000, 7000, 8000, 9000, 10000, 11000, 12000, 13000, 14000, 15000, 16000, 17000, 18000, 19000, 20000]\n"
       ]
      },
      {
       "output_type": "display_data",
       "png": "[encoded data removed]",
       "text": [
        "<matplotlib.figure.Figure at 0x274f9d0>"
       ]
      }
     ],
     "prompt_number": 10
    },
    {
     "cell_type": "code",
     "collapsed": false,
     "input": [],
     "language": "python",
     "metadata": {},
     "outputs": []
    }
   ],
   "metadata": {}
  }
 ]
}