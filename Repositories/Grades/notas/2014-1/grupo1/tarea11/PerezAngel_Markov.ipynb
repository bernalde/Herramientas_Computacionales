{
 "metadata": {
  "name": "PerezAngel_Markov"
 }, 
 "nbformat": 2, 
 "worksheets": [
  {
   "cells": [
    {
     "cell_type": "code", 
     "collapsed": false, 
     "input": [
      "%pylab inline ", 
      "import math"
     ], 
     "language": "python", 
     "outputs": [
      {
       "output_type": "stream", 
       "stream": "stdout", 
       "text": [
        "", 
        "Welcome to pylab, a matplotlib-based Python environment [backend: module://IPython.zmq.pylab.backend_inline].", 
        "For more information, type 'help(pylab)'."
       ]
      }
     ], 
     "prompt_number": 34
    }, 
    {
     "cell_type": "code", 
     "collapsed": true, 
     "input": [
      "def function(x):", 
      "    y = exp(-(x**2))/((x-3)**2 + (0.01)**2)", 
      "    return y"
     ], 
     "language": "python", 
     "outputs": [], 
     "prompt_number": 44
    }, 
    {
     "cell_type": "code", 
     "collapsed": true, 
     "input": [
      "X = linspace(-4, 4, 100)", 
      "Y = function(X)"
     ], 
     "language": "python", 
     "outputs": [], 
     "prompt_number": 47
    }, 
    {
     "cell_type": "code", 
     "collapsed": false, 
     "input": [
      "plot(X, Y)"
     ], 
     "language": "python", 
     "outputs": [
      {
       "output_type": "pyout", 
       "prompt_number": 48, 
       "text": [
        "[<matplotlib.lines.Line2D at 0xaa3c8ec>]"
       ]
      }, 
      {
       "output_type": "display_data", 
       "png": "[encoded data removed]"
      }
     ], 
     "prompt_number": 48
    }, 
    {
     "cell_type": "code", 
     "collapsed": true, 
     "input": [
      "walk = []", 
      "x = random.random()*8", 
      "walk.append(x)"
     ], 
     "language": "python", 
     "outputs": [], 
     "prompt_number": 49
    }, 
    {
     "cell_type": "code", 
     "collapsed": false, 
     "input": [
      "for i in range (200000):", 
      "    x = random.random()*2-1", 
      "    tetha = function(x + walk[-1]) / function(walk[-1])", 
      "                     ", 
      "    if tetha>=1.0:", 
      "    ", 
      "        walk.append(walk[-1]+x)", 
      "    else:", 
      "        phi=random.random()", 
      "        if(phi<=tetha):", 
      "            walk.append(walk[-1]+x)", 
      "        else:", 
      "            walk.append(walk[-1])"
     ], 
     "language": "python", 
     "outputs": [], 
     "prompt_number": 58
    }, 
    {
     "cell_type": "code", 
     "collapsed": false, 
     "input": [
      "grafica= hist(walk, bins=200, normed=True, color='r')", 
      "f = function(X)", 
      "normal = sum(f*(X[1]-X[0]))", 
      "plot(X,f/normal, linewidth=1, color='g')"
     ], 
     "language": "python", 
     "outputs": [
      {
       "output_type": "pyout", 
       "prompt_number": 61, 
       "text": [
        "[<matplotlib.lines.Line2D at 0xb0eb2ec>]"
       ]
      }, 
      {
       "output_type": "display_data", 
       "png": "[encoded data removed]"
      }
     ], 
     "prompt_number": 61
    }, 
    {
     "cell_type": "code", 
     "collapsed": true, 
     "input": [], 
     "language": "python", 
     "outputs": []
    }
   ]
  }
 ]
}