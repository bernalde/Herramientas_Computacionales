{
 "metadata": {
  "name": "RodriguezParra2"
 },
 "nbformat": 3,
 "nbformat_minor": 0,
 "worksheets": [
  {
   "cells": [
    {
     "cell_type": "code",
     "collapsed": false,
     "input": [
      "def raiz(x, r, n):\n",
      "    mini = 0.0\n",
      "    maxi = max(1.0,x)\n",
      "    p= (mini + maxi)/n\n",
      "    print p\n",
      "    i = 0.0\n",
      "    \n",
      "    while abs(p**n - x)> r:\n",
      "        i += 1.0\n",
      "        if p**n < x:\n",
      "            mini = p\n",
      "        elif p**n > x:\n",
      "            maxi = p\n",
      "        p= (mini + maxi)/n\n",
      "        print \"la raiz\", n, \"del numero\", x, \"es\", p"
     ],
     "language": "python",
     "metadata": {},
     "outputs": [],
     "prompt_number": "*"
    },
    {
     "cell_type": "code",
     "collapsed": false,
     "input": [
      "raiz(8,1,3)"
     ],
     "language": "python",
     "metadata": {},
     "outputs": [],
     "prompt_number": "*"
    },
    {
     "cell_type": "code",
     "collapsed": false,
     "input": [],
     "language": "python",
     "metadata": {},
     "outputs": []
    }
   ],
   "metadata": {}
  }
 ]
}