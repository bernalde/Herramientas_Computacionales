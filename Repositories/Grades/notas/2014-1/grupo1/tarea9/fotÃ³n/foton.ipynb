{
 "metadata": {
  "name": "foton"
 },
 "nbformat": 3,
 "nbformat_minor": 0,
 "worksheets": [
  {
   "cells": [
    {
     "cell_type": "code",
     "collapsed": false,
     "input": [
      "%pylab inline"
     ],
     "language": "python",
     "metadata": {},
     "outputs": [
      {
       "output_type": "stream",
       "stream": "stdout",
       "text": [
        "\n",
        "Welcome to pylab, a matplotlib-based Python environment [backend: module://IPython.zmq.pylab.backend_inline].\n",
        "For more information, type 'help(pylab)'.\n"
       ]
      }
     ],
     "prompt_number": 1
    },
    {
     "cell_type": "code",
     "collapsed": false,
     "input": [
      "u = random.random()*2*pi\n",
      "v = random.random()*pi"
     ],
     "language": "python",
     "metadata": {},
     "outputs": [],
     "prompt_number": 2
    },
    {
     "cell_type": "code",
     "collapsed": false,
     "input": [
      "x = sin(u)*cos(v)\n",
      "y = sin(u)*sin(v)\n",
      "z = cos(u)\n"
     ],
     "language": "python",
     "metadata": {},
     "outputs": [],
     "prompt_number": 3
    },
    {
     "cell_type": "code",
     "collapsed": false,
     "input": [
      "r = 0\n",
      "R = 10\n",
      "\n",
      "a = 0\n",
      "b = 0\n",
      "c = 0\n",
      "i = 0\n",
      "\n",
      "X=[]\n",
      "Y=[]\n",
      "Z=[]\n",
      "RA=[]\n",
      "I=[]\n",
      "X.append(a)\n",
      "Y.append(b)\n",
      "Z.append(c)\n",
      "RA.append(r)\n",
      "I.append(0)\n",
      "while r <= R:\n",
      "    \n",
      "    i=i+1\n",
      "    u = random.random()*2*pi\n",
      "    v = random.random()*pi\n",
      "    \n",
      "    x = sin(u)*cos(v)\n",
      "    y = sin(u)*sin(v)\n",
      "    z = cos(u)\n",
      "    a = a+x\n",
      "    b = b+y\n",
      "    c = c+z\n",
      "    \n",
      "    X.append(a)\n",
      "    Y.append(b)\n",
      "    Z.append(c)\n",
      "    \n",
      "    I.append(i)\n",
      "\n",
      "    \n",
      "    r = sqrt((X[-1]**2)+(Y[-1]**2)+(Z[-1]**2))\n",
      "    RA.append(r)\n",
      "    "
     ],
     "language": "python",
     "metadata": {},
     "outputs": [],
     "prompt_number": 13
    },
    {
     "cell_type": "code",
     "collapsed": false,
     "input": [
      "print r\n"
     ],
     "language": "python",
     "metadata": {},
     "outputs": [
      {
       "output_type": "stream",
       "stream": "stdout",
       "text": [
        "10.4755631478\n"
       ]
      }
     ],
     "prompt_number": 14
    },
    {
     "cell_type": "code",
     "collapsed": false,
     "input": [
      "print RA"
     ],
     "language": "python",
     "metadata": {},
     "outputs": [
      {
       "output_type": "stream",
       "stream": "stdout",
       "text": [
        "[0, 1.0, 1.9410419628264355, 1.3140588413899998, 1.7192602648901529, 1.5008006543078047, 2.2621559020196589, 2.4144525493765392, 2.7544308813620888, 3.2748509343846717, 2.8492365049790052, 3.4712289879199774, 2.977128940934338, 2.3013989995892934, 2.5745503463031256, 2.0388595323274794, 2.7965730209892237, 3.1313067594680093, 2.7595070540341622, 3.7046823661471957, 4.3089353230083232, 5.22937826083235, 4.4005330513304051, 3.4037138050944074, 4.1785407290941095, 4.9327200008312859, 5.0203556484239247, 5.9937021126643835, 5.1742121088260582, 5.0468973428950923, 4.1241051871810583, 4.9362938271562387, 4.4968630959187808, 5.4548135500639638, 4.7748990165850813, 3.8176027758072211, 3.0931809810019746, 3.9604498049022081, 4.9515346784352117, 3.9964135762155637, 4.2771750506100004, 5.1296135619898617, 6.1247470113393945, 6.9987388576019569, 7.9065743869820571, 7.97351120979061, 8.8094317502673842, 8.2866263249674592, 9.2604289224963097, 9.6173273758377622, 9.1968371641476505, 9.0738575595972772, 9.7251107974566136, 10.475563147754666]\n"
       ]
      }
     ],
     "prompt_number": 15
    },
    {
     "cell_type": "code",
     "collapsed": false,
     "input": [
      "plot(I,RA)"
     ],
     "language": "python",
     "metadata": {},
     "outputs": [
      {
       "output_type": "pyout",
       "prompt_number": 16,
       "text": [
        "[<matplotlib.lines.Line2D at 0x2a91050>]"
       ]
      },
      {
       "output_type": "display_data",
       "png": "[encoded data removed]"
      }
     ],
     "prompt_number": 16
    },
    {
     "cell_type": "code",
     "collapsed": false,
     "input": [
      "datos = open(\"datos.dat\",\"w\")\n"
     ],
     "language": "python",
     "metadata": {},
     "outputs": [],
     "prompt_number": 18
    },
    {
     "cell_type": "code",
     "collapsed": false,
     "input": [
      "for i in range(len(X)):\n",
      "    xim = str(X[i])\n",
      "    yim = str(Y[i])\n",
      "    zim = str(Z[i])\n",
      "    Iim = str(I[i])\n",
      "    RAim = str(RA[i])"
     ],
     "language": "python",
     "metadata": {},
     "outputs": []
    }
   ],
   "metadata": {}
  }
 ]
}