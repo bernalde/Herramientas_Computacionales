{
 "metadata": {
  "name": "Nicolas Plaza"
 },
 "nbformat": 3,
 "nbformat_minor": 0,
 "worksheets": [
  {
   "cells": [
    {
     "cell_type": "code",
     "collapsed": false,
     "input": [
      "%pylab inline\n",
      "import random\n",
      "\n",
      "medicionactual = 0.0\n",
      "def monedas(intentos, mediciones):\n",
      "    j =0\n",
      "    listamediciones = []\n",
      "    while j < mediciones:\n",
      "        j+=1\n",
      "        i =0\n",
      "        medicionactual  = 0.0\n",
      "        while i < intentos:\n",
      "            i+=1\n",
      "            cara = random.choice([0.0,1.0])\n",
      "            medicionactual += cara            \n",
      "        listamediciones.append(medicionactual/intentos)\n",
      "    return listamediciones"
     ],
     "language": "python",
     "metadata": {},
     "outputs": [
      {
       "output_type": "stream",
       "stream": "stdout",
       "text": [
        "\n",
        "Welcome to pylab, a matplotlib-based Python environment [backend: module://IPython.kernel.zmq.pylab.backend_inline].\n",
        "For more information, type 'help(pylab)'.\n"
       ]
      }
     ],
     "prompt_number": 23
    },
    {
     "cell_type": "code",
     "collapsed": false,
     "input": [
      "figure(figsize=(9, 9))\n",
      "mediqueridas=1000.0\n",
      "intentosqueridos= 4000.0\n",
      "\n",
      "print \"El numero de intentos por medidda deseados a tomar es:\", intentosqueridos\n",
      "print \"El numero de medidas deseadas a tomar es:\", mediqueridas\n",
      "\n",
      "datos = monedas(intentosqueridos,mediqueridas)\n",
      "\n",
      "N, bins, patches = hist(datos, bins=10)\n",
      "axvline(0.5+0.015617, c='y', linewidth=2.5)\n",
      "axvline(0.5-0.015617, c ='y', linewidth=2.5)\n",
      "axvline(0.5+2*0.015617, c='r', linewidth=2.5)\n",
      "axvline(0.5-2*0.015617, c ='r', linewidth=2.5)\n",
      "axvline(0.5+3*0.015617, c='g', linewidth=2.5)\n",
      "axvline(0.5-3*0.015617, c ='g', linewidth=2.5)\n",
      "\n",
      "xlabel(\"fraccion que Cara aparece\")\n",
      "ylabel (\"Numero de veces datos\")\n",
      "\n"
     ],
     "language": "python",
     "metadata": {},
     "outputs": [
      {
       "output_type": "stream",
       "stream": "stdout",
       "text": [
        "El numero de intentos por medidda deseados a tomar es: 4000.0\n",
        "El numero de medidas deseadas a tomar es: 1000.0\n"
       ]
      },
      {
       "output_type": "pyout",
       "prompt_number": 21,
       "text": [
        "<matplotlib.text.Text at 0x3c18e10>"
       ]
      },
      {
       "output_type": "display_data",
       "png": "[encoded data removed]",
       "text": [
        "<matplotlib.figure.Figure at 0x3c13d90>"
       ]
      }
     ],
     "prompt_number": 21
    },
    {
     "cell_type": "code",
     "collapsed": false,
     "input": [
      "np.std(datos)\n",
      "#intervalo de confianza donde estan las fracciones de cara 0.45, 0.51, 0.53, 1.7\n",
      "Listaval = [0.45, 0.51, 0.53, 1.7]\n",
      "sigma = Listaval/(np.std(datos))\n",
      "print\"La desviaci\u00f3n estandar es de:\"\n",
      "print  np.std(datos)\n",
      "print\"El intervalo de confianza es de\"\n",
      "print sigma, \"veces la desviacion estandar\""
     ],
     "language": "python",
     "metadata": {},
     "outputs": [
      {
       "output_type": "stream",
       "stream": "stdout",
       "text": [
        "La desviaci\u00f3n estandar es de:\n",
        "0.00790913490449\n",
        "El intervalo de confianza es de\n",
        "[  56.89623523   64.48239993   67.01112149  214.94133309] veces la desviacion estandar\n"
       ]
      }
     ],
     "prompt_number": 28
    },
    {
     "cell_type": "code",
     "collapsed": false,
     "input": [
      "figure(figsize=(6,6))\n",
      "xscale('log')\n",
      "yscale('log')\n",
      "x=abs(medicionactual -(intentosqueridos-medicionactual))\n",
      "y=(intentosqueridos)\n",
      "plt.scatter(x, y)"
     ],
     "language": "python",
     "metadata": {},
     "outputs": [
      {
       "output_type": "pyout",
       "prompt_number": 27,
       "text": [
        "<matplotlib.collections.PathCollection at 0x422bf10>"
       ]
      },
      {
       "output_type": "display_data",
       "png": "[encoded data removed]",
       "text": [
        "<matplotlib.figure.Figure at 0x4601c10>"
       ]
      }
     ],
     "prompt_number": 27
    },
    {
     "cell_type": "code",
     "collapsed": false,
     "input": [],
     "language": "python",
     "metadata": {},
     "outputs": []
    }
   ],
   "metadata": {}
  }
 ]
}