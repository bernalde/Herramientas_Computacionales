{
 "metadata": {
  "name": "farfan_romero"
 }, 
 "nbformat": 2, 
 "worksheets": [
  {
   "cells": [
    {
     "cell_type": "code", 
     "collapsed": false, 
     "input": [
      "%pylab inline", 
      "", 
      "#N es el numero de lanzamientos", 
      "def moneda(N):", 
      "    tiros = random.randint(0,2,N)", 
      "    sello = sum(tiros)", 
      "    caras = N - sello", 
      "    fraccion = caras/float(N)", 
      "    return fraccion", 
      "", 
      "x = range(1,10000)", 
      "y = [moneda(i) for i in x]", 
      "plot(x,y)"
     ], 
     "language": "python", 
     "outputs": [
      {
       "output_type": "stream", 
       "stream": "stdout", 
       "text": [
        "", 
        "Welcome to pylab, a matplotlib-based Python environment [backend: module://IPython.zmq.pylab.backend_inline].", 
        "For more information, type 'help(pylab)'."
       ]
      }, 
      {
       "output_type": "pyout", 
       "prompt_number": 73, 
       "text": [
        "[<matplotlib.lines.Line2D at 0x977992c>]"
       ]
      }, 
      {
       "output_type": "display_data", 
       "png": "[encoded data removed]"
      }
     ], 
     "prompt_number": 73
    }, 
    {
     "cell_type": "code", 
     "collapsed": true, 
     "input": [
      "#0.1 corresponde al intervalo \u03c33, 0.35 a \u03c32, 0.4 a \u03c31, 1.7 no esta en la distribucion."
     ], 
     "language": "python", 
     "outputs": [], 
     "prompt_number": 6
    }, 
    {
     "cell_type": "code", 
     "collapsed": true, 
     "input": [], 
     "language": "python", 
     "outputs": []
    }
   ]
  }
 ]
}