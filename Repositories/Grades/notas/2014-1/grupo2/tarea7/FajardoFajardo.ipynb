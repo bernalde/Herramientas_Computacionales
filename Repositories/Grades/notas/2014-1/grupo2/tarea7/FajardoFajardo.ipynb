{
 "metadata": {
  "name": "de.fajardo10"
 },
 "nbformat": 3,
 "nbformat_minor": 0,
 "worksheets": [
  {
   "cells": [
    {
     "cell_type": "code",
     "collapsed": false,
     "input": [
      "%pylab inline\n",
      "\n"
     ],
     "language": "python",
     "metadata": {},
     "outputs": [
      {
       "output_type": "stream",
       "stream": "stdout",
       "text": [
        "\n",
        "Welcome to pylab, a matplotlib-based Python environment [backend: module://IPython.kernel.zmq.pylab.backend_inline].\n",
        "For more information, type 'help(pylab)'.\n"
       ]
      }
     ],
     "prompt_number": 1
    },
    {
     "cell_type": "code",
     "collapsed": false,
     "input": [
      "def lanzarNveces(N):\n",
      "    i=0\n",
      "    cara=0.0\n",
      "    while (i<N):\n",
      "        i=i+1\n",
      "        x=np.random.randint(0,2)\n",
      "        if (x==1):\n",
      "            cara=cara+1.0\n",
      "        \n",
      "        \n",
      "    return (cara/N)\n",
      "    \n",
      "    \n",
      "        "
     ],
     "language": "python",
     "metadata": {},
     "outputs": [],
     "prompt_number": 49
    },
    {
     "cell_type": "code",
     "collapsed": false,
     "input": [
      "def MedirMvecesCarasenN(M,N):\n",
      "    j=0\n",
      "    TotalCaras=0.0\n",
      "    a=[]\n",
      "    \n",
      "    while (j<M):\n",
      "        \n",
      "        j=j+1\n",
      "        a.append(lanzarNveces(N))\n",
      "    return a\n",
      "    \n",
      "        \n",
      "    "
     ],
     "language": "python",
     "metadata": {},
     "outputs": [],
     "prompt_number": 54
    },
    {
     "cell_type": "code",
     "collapsed": false,
     "input": [
      "print MedirMvecesCarasenN(10,10)\n"
     ],
     "language": "python",
     "metadata": {},
     "outputs": [
      {
       "output_type": "stream",
       "stream": "stdout",
       "text": [
        "[0.4, 0.3, 0.2, 0.5, 0.6, 0.6, 0.6, 0.3, 0.6, 0.3]\n"
       ]
      }
     ],
     "prompt_number": 57
    },
    {
     "cell_type": "code",
     "collapsed": false,
     "input": [
      "hist(MedirMvecesCarasenN(100.0,100.0),bins=100)"
     ],
     "language": "python",
     "metadata": {},
     "outputs": [
      {
       "output_type": "pyout",
       "prompt_number": 66,
       "text": [
        "(array([ 1,  0,  0,  0,  1,  0,  0,  0,  0,  0,  0,  0,  0,  1,  0,  0,  0,\n",
        "        0,  5,  0,  0,  0,  3,  0,  0,  0,  0,  4,  0,  0,  0,  5,  0,  0,\n",
        "        0,  0,  8,  0,  0,  0, 13,  0,  0,  0,  0,  3,  0,  0,  0,  0,  7,\n",
        "        0,  0,  0,  8,  0,  0,  0,  0,  8,  0,  0,  0,  7,  0,  0,  0,  0,\n",
        "        7,  0,  0,  0,  3,  0,  0,  0,  0,  4,  0,  0,  0,  5,  0,  0,  0,\n",
        "        0,  4,  0,  0,  0,  1,  0,  0,  0,  0,  1,  0,  0,  0,  1]),\n",
        " array([ 0.39  ,  0.3922,  0.3944,  0.3966,  0.3988,  0.401 ,  0.4032,\n",
        "        0.4054,  0.4076,  0.4098,  0.412 ,  0.4142,  0.4164,  0.4186,\n",
        "        0.4208,  0.423 ,  0.4252,  0.4274,  0.4296,  0.4318,  0.434 ,\n",
        "        0.4362,  0.4384,  0.4406,  0.4428,  0.445 ,  0.4472,  0.4494,\n",
        "        0.4516,  0.4538,  0.456 ,  0.4582,  0.4604,  0.4626,  0.4648,\n",
        "        0.467 ,  0.4692,  0.4714,  0.4736,  0.4758,  0.478 ,  0.4802,\n",
        "        0.4824,  0.4846,  0.4868,  0.489 ,  0.4912,  0.4934,  0.4956,\n",
        "        0.4978,  0.5   ,  0.5022,  0.5044,  0.5066,  0.5088,  0.511 ,\n",
        "        0.5132,  0.5154,  0.5176,  0.5198,  0.522 ,  0.5242,  0.5264,\n",
        "        0.5286,  0.5308,  0.533 ,  0.5352,  0.5374,  0.5396,  0.5418,\n",
        "        0.544 ,  0.5462,  0.5484,  0.5506,  0.5528,  0.555 ,  0.5572,\n",
        "        0.5594,  0.5616,  0.5638,  0.566 ,  0.5682,  0.5704,  0.5726,\n",
        "        0.5748,  0.577 ,  0.5792,  0.5814,  0.5836,  0.5858,  0.588 ,\n",
        "        0.5902,  0.5924,  0.5946,  0.5968,  0.599 ,  0.6012,  0.6034,\n",
        "        0.6056,  0.6078,  0.61  ]),\n",
        " <a list of 100 Patch objects>)"
       ]
      },
      {
       "output_type": "display_data",
       "png": "[encoded data removed]",
       "text": [
        "<matplotlib.figure.Figure at 0x31d7350>"
       ]
      }
     ],
     "prompt_number": 66
    },
    {
     "cell_type": "code",
     "collapsed": false,
     "input": [
      "def encontrarintervalodconfianza(dato):\n",
      "    print (abs(0.5-dato)/np.std(MedirMvecesCarasenN(100.0,100.0)))"
     ],
     "language": "python",
     "metadata": {},
     "outputs": [],
     "prompt_number": 70
    },
    {
     "cell_type": "code",
     "collapsed": false,
     "input": [
      "encontrarintervalodconfianza(0.4)"
     ],
     "language": "python",
     "metadata": {},
     "outputs": [
      {
       "output_type": "stream",
       "stream": "stdout",
       "text": [
        "2.1213357233\n"
       ]
      }
     ],
     "prompt_number": 72
    },
    {
     "cell_type": "code",
     "collapsed": false,
     "input": [
      "import matplotlib.pyplot as plot"
     ],
     "language": "python",
     "metadata": {},
     "outputs": [],
     "prompt_number": 76
    },
    {
     "cell_type": "code",
     "collapsed": false,
     "input": [],
     "language": "python",
     "metadata": {},
     "outputs": []
    }
   ],
   "metadata": {}
  }
 ]
}