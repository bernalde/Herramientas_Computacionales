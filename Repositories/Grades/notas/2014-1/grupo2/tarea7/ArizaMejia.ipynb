{
 "metadata": {
  "name": "Lanzamiento mondeas"
 },
 "nbformat": 3,
 "nbformat_minor": 0,
 "worksheets": [
  {
   "cells": [
    {
     "cell_type": "code",
     "collapsed": false,
     "input": [
      "%pylab inline"
     ],
     "language": "python",
     "metadata": {},
     "outputs": [
      {
       "output_type": "stream",
       "stream": "stdout",
       "text": [
        "\n",
        "Welcome to pylab, a matplotlib-based Python environment [backend: module://IPython.kernel.zmq.pylab.backend_inline].\n",
        "For more information, type 'help(pylab)'.\n"
       ]
      }
     ],
     "prompt_number": 5
    },
    {
     "cell_type": "code",
     "collapsed": false,
     "input": [
      "import numpy as np"
     ],
     "language": "python",
     "metadata": {},
     "outputs": [],
     "prompt_number": 6
    },
    {
     "cell_type": "code",
     "collapsed": false,
     "input": [
      "import matplotlib.pyplot as plt"
     ],
     "language": "python",
     "metadata": {},
     "outputs": [],
     "prompt_number": 7
    },
    {
     "cell_type": "code",
     "collapsed": false,
     "input": [
      "def moneda(N_lanzamientos, M_mediciones):\n",
      "    mediciones = 0\n",
      "    datos = []\n",
      "    for i in range (M_mediciones):\n",
      "        tomas = []\n",
      "        mediciones += 1\n",
      "        caras = 0\n",
      "        lanzamientos = 0\n",
      "        for j in range (N_lanzamientos):\n",
      "            toma = np.random.randint(0, 2)\n",
      "            caras += toma\n",
      "            tomas += [toma]\n",
      "            lanzamientos += 1\n",
      "        dato = (caras+0.0)/(lanzamientos+0.0)\n",
      "        datos += [dato]\n",
      "    return datos"
     ],
     "language": "python",
     "metadata": {},
     "outputs": [],
     "prompt_number": 8
    },
    {
     "cell_type": "code",
     "collapsed": false,
     "input": [
      "def confianza(datos):\n",
      "    sigma = np.std(datos)\n",
      "    print \"\"\n",
      "    print \"\"\n",
      "    print \"\"\n",
      "    print \"El Intervalo de confianza es:\"\n",
      "    print \"Para 0.35 \", (0.35/sigma)\n",
      "    print \"Para 0.4 \", (0.4/sigma)\n",
      "    print \"Para 1.7 \", (1.7/sigma)"
     ],
     "language": "python",
     "metadata": {},
     "outputs": [],
     "prompt_number": 15
    },
    {
     "cell_type": "code",
     "collapsed": false,
     "input": [
      "def histograma(lanzamientos, mediciones):\n",
      "    print moneda(lanzamientos,mediciones)\n",
      "    hist(moneda(lanzamientos,mediciones), bins=11)\n",
      "    xlabel(\"Suma de las monedas\")\n",
      "    confianza(moneda(lanzamientos,mediciones))"
     ],
     "language": "python",
     "metadata": {},
     "outputs": [],
     "prompt_number": 16
    },
    {
     "cell_type": "code",
     "collapsed": false,
     "input": [
      "histograma(100,100)"
     ],
     "language": "python",
     "metadata": {},
     "outputs": [
      {
       "output_type": "stream",
       "stream": "stdout",
       "text": [
        "[0.51, 0.54, 0.52, 0.51, 0.41, 0.49, 0.46, 0.4, 0.47, 0.43, 0.42, 0.48, 0.5, 0.52, 0.45, 0.56, 0.45, 0.56, 0.46, 0.48, 0.43, 0.43, 0.52, 0.54, 0.46, 0.55, 0.53, 0.44, 0.53, 0.45, 0.5, 0.45, 0.46, 0.42, 0.48, 0.42, 0.51, 0.51, 0.54, 0.49, 0.48, 0.53, 0.55, 0.51, 0.46, 0.51, 0.54, 0.52, 0.52, 0.42, 0.51, 0.6, 0.53, 0.49, 0.51, 0.51, 0.59, 0.5, 0.48, 0.55, 0.54, 0.55, 0.49, 0.47, 0.51, 0.5, 0.51, 0.55, 0.53, 0.54, 0.46, 0.55, 0.45, 0.39, 0.5, 0.43, 0.56, 0.57, 0.49, 0.52, 0.51, 0.52, 0.59, 0.49, 0.46, 0.55, 0.43, 0.53, 0.54, 0.45, 0.51, 0.55, 0.52, 0.53, 0.49, 0.46, 0.47, 0.52, 0.51, 0.47]\n"
       ]
      },
      {
       "output_type": "stream",
       "stream": "stdout",
       "text": [
        "\n",
        "\n",
        "\n",
        "El Intervalo de confianza es:\n",
        "Para 0.35  6.29778621342\n",
        "Para 0.4  7.19746995819\n",
        "Para 1.7  30.5892473223\n"
       ]
      },
      {
       "output_type": "display_data",
       "png": "[encoded data removed]",
       "text": [
        "<matplotlib.figure.Figure at 0x2194450>"
       ]
      }
     ],
     "prompt_number": 17
    },
    {
     "cell_type": "code",
     "collapsed": false,
     "input": [],
     "language": "python",
     "metadata": {},
     "outputs": []
    }
   ],
   "metadata": {}
  }
 ]
}