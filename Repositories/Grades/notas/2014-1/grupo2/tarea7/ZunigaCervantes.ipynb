{
 "metadata": {
  "name": "JavierZuniga_tarea7"
 },
 "nbformat": 3,
 "nbformat_minor": 0,
 "worksheets": [
  {
   "cells": [
    {
     "cell_type": "code",
     "collapsed": false,
     "input": [
      "%pylab inline\n",
      "import random\n",
      "def monedas(intentos, mediciones):\n",
      "    j =0\n",
      "    listamediciones = []\n",
      "    while j < mediciones:\n",
      "        j+=1\n",
      "        i =0\n",
      "        medicionactual  = 0.0\n",
      "        while i < intentos:\n",
      "            i+=1\n",
      "            cara = random.choice([0.0,1.0])\n",
      "            medicionactual += cara            \n",
      "        listamediciones.append(medicionactual/intentos)\n",
      "    return listamediciones"
     ],
     "language": "python",
     "metadata": {},
     "outputs": [
      {
       "output_type": "stream",
       "stream": "stdout",
       "text": [
        "\n",
        "Welcome to pylab, a matplotlib-based Python environment [backend: module://IPython.kernel.zmq.pylab.backend_inline].\n",
        "For more information, type 'help(pylab)'.\n"
       ]
      }
     ],
     "prompt_number": 152
    },
    {
     "cell_type": "code",
     "collapsed": false,
     "input": [
      "import matplotlib.colors as colors\n",
      "#N\u00famero de medidas que se desean tomar\n",
      "mediqueridas=1000.0\n",
      "#N\u00famero de intentos que se desean saber por cada medida\n",
      "intentosqueridos= 4000.0\n",
      "#N\u00famero de datos en el cual est\u00e1n separado las fracciones\n",
      "barras = 18\n",
      "print \"El numero de intentos por medidda deseados a tomar es:\", intentosqueridos\n",
      "print \"El numero de medidas deseadas a tomar es:\", mediqueridas\n",
      "#Se utiliza la funci\u00f3n creada anteriormente\n",
      "datos = monedas(intentosqueridos,mediqueridas)\n",
      "#Para ponerle color a las barras:\n",
      "N, bins, patches = hist(datos, bins=barras)\n",
      "fracs = N.astype(float)/N.max()\n",
      "norm = colors.Normalize(fracs.min(), fracs.max())\n",
      "for thisfrac, thispatch in zip(fracs, patches):\n",
      "    color = cm.jet(norm(thisfrac))\n",
      "    thispatch.set_facecolor(color)\n",
      "#Requerimientos de presentaci\u00f3n de la gr\u00e1fica\n",
      "xlabel(\"fraccion de datos que Cara aparece\")\n",
      "ylabel (\"Numero de veces que salio un datos\")\n",
      "title (\"Distribucion de datos por fraccion\")\n",
      "\n"
     ],
     "language": "python",
     "metadata": {},
     "outputs": [
      {
       "output_type": "stream",
       "stream": "stdout",
       "text": [
        "El numero de intentos por medidda deseados a tomar es: 4000.0\n",
        "El numero de medidas deseadas a tomar es: 1000.0\n"
       ]
      },
      {
       "output_type": "pyout",
       "prompt_number": 154,
       "text": [
        "<matplotlib.text.Text at 0x903b4d0>"
       ]
      },
      {
       "output_type": "display_data",
       "png": "[encoded data removed]",
       "text": [
        "<matplotlib.figure.Figure at 0x89ac990>"
       ]
      }
     ],
     "prompt_number": 154
    },
    {
     "cell_type": "code",
     "collapsed": false,
     "input": [
      "#Desviaci\u00f3n estandar\n",
      "np.std(datos)\n",
      "#Lista de los valores a calcular su intervalo de confianza\n",
      "Listaval = [0.1, 0.35, 0.4, 1.7]\n",
      "#Cu\u00e1ntas veces caben esos valores en la desviaci\u00f3n (INTERVALO DE CONFIANZA)\n",
      "sigma = Listaval/(np.std(datos))\n",
      "\n",
      "print\"La desviaci\u00f3n estandar es de:\"\n",
      "print  np.std(datos)\n",
      "print\"El intervalo de confianza es de\"\n",
      "print sigma, \"veces la desviacion estandar\""
     ],
     "language": "python",
     "metadata": {},
     "outputs": [
      {
       "output_type": "stream",
       "stream": "stdout",
       "text": [
        "La desviaci\u00f3n estandar es de:\n",
        "0.0079251816383\n",
        "El intervalo de confianza es de\n",
        "[  12.61800733   44.16302565   50.47202932  214.5061246 ] la desviacion estandar\n"
       ]
      }
     ],
     "prompt_number": 159
    },
    {
     "cell_type": "code",
     "collapsed": false,
     "input": [],
     "language": "python",
     "metadata": {},
     "outputs": [],
     "prompt_number": 94
    },
    {
     "cell_type": "code",
     "collapsed": false,
     "input": [],
     "language": "python",
     "metadata": {},
     "outputs": []
    }
   ],
   "metadata": {}
  }
 ]
}