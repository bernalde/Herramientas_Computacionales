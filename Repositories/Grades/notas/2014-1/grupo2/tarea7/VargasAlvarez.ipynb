{
 "metadata": {
  "name": "moneda"
 },
 "nbformat": 3,
 "nbformat_minor": 0,
 "worksheets": [
  {
   "cells": [
    {
     "cell_type": "code",
     "collapsed": false,
     "input": [
      "%pylab inline"
     ],
     "language": "python",
     "metadata": {},
     "outputs": [
      {
       "output_type": "stream",
       "stream": "stdout",
       "text": [
        "\n",
        "Welcome to pylab, a matplotlib-based Python environment [backend: module://IPython.kernel.zmq.pylab.backend_inline].\n",
        "For more information, type 'help(pylab)'.\n"
       ]
      }
     ],
     "prompt_number": 1
    },
    {
     "cell_type": "code",
     "collapsed": false,
     "input": [
      "def moneda(N):\n",
      "    caras = 0.0\n",
      "    l = 0\n",
      "    while(l < N):\n",
      "        x = random.randint(0, 2)\n",
      "        l = l + 1\n",
      "        if(x == 0):\n",
      "            caras = caras + 1.0\n",
      "    if(N != 0):\n",
      "        return caras/N"
     ],
     "language": "python",
     "metadata": {},
     "outputs": [],
     "prompt_number": 147
    },
    {
     "cell_type": "code",
     "collapsed": false,
     "input": [
      "moneda(23)"
     ],
     "language": "python",
     "metadata": {},
     "outputs": [
      {
       "output_type": "pyout",
       "prompt_number": 181,
       "text": [
        "0.34782608695652173"
       ]
      }
     ],
     "prompt_number": 181
    },
    {
     "cell_type": "code",
     "collapsed": false,
     "input": [
      "def intentos(M, N):\n",
      "    c = 0\n",
      "    lista = []\n",
      "    while(c < M):\n",
      "        x = moneda(N)\n",
      "        lista.append(x)\n",
      "        c = c + 1\n",
      "    return lista\n"
     ],
     "language": "python",
     "metadata": {},
     "outputs": [],
     "prompt_number": 183
    },
    {
     "cell_type": "code",
     "collapsed": false,
     "input": [
      "h = intentos(100000, 100)\n",
      "hist(h)"
     ],
     "language": "python",
     "metadata": {},
     "outputs": [
      {
       "output_type": "pyout",
       "prompt_number": 191,
       "text": [
        "(array([   50,   610,  3861, 14102, 27397, 29943, 17339,  5642,   972,    84]),\n",
        " array([ 0.29 ,  0.331,  0.372,  0.413,  0.454,  0.495,  0.536,  0.577,\n",
        "        0.618,  0.659,  0.7  ]),\n",
        " <a list of 10 Patch objects>)"
       ]
      },
      {
       "output_type": "display_data",
       "png": "[encoded data removed]",
       "text": [
        "<matplotlib.figure.Figure at 0x3a786d0>"
       ]
      }
     ],
     "prompt_number": 191
    },
    {
     "cell_type": "code",
     "collapsed": false,
     "input": [
      "des = np.std(h)"
     ],
     "language": "python",
     "metadata": {},
     "outputs": [],
     "prompt_number": 196
    },
    {
     "cell_type": "code",
     "collapsed": false,
     "input": [
      "inter = abs(0.5 - 0.997)/des\n",
      "inter"
     ],
     "language": "python",
     "metadata": {},
     "outputs": [
      {
       "output_type": "pyout",
       "prompt_number": 200,
       "text": [
        "9.902616559108198"
       ]
      }
     ],
     "prompt_number": 200
    },
    {
     "cell_type": "code",
     "collapsed": false,
     "input": [],
     "language": "python",
     "metadata": {},
     "outputs": []
    }
   ],
   "metadata": {}
  }
 ]
}