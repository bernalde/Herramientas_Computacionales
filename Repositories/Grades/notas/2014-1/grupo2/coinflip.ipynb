{
 "metadata": {
  "name": ""
 },
 "nbformat": 3,
 "nbformat_minor": 0,
 "worksheets": [
  {
   "cells": [
    {
     "cell_type": "code",
     "collapsed": false,
     "input": [
      "%pylab inline"
     ],
     "language": "python",
     "metadata": {},
     "outputs": [
      {
       "output_type": "stream",
       "stream": "stdout",
       "text": [
        "Populating the interactive namespace from numpy and matplotlib\n"
       ]
      }
     ],
     "prompt_number": 9
    },
    {
     "cell_type": "code",
     "collapsed": false,
     "input": [
      "def lanzamientos(N_trials, M_measurements):\n",
      "    k=0\n",
      "    suma=[ ]\n",
      "    while k<M_measurements:\n",
      "        k+=1\n",
      "        j=0\n",
      "        i=0\n",
      "        while i<N_trials:\n",
      "            i+=1\n",
      "            cara = np.random.randint(0,2)\n",
      "            if cara==0:\n",
      "                j+=1\n",
      "        f=j/N_trials\n",
      "        suma.append(f)\n",
      "    return suma"
     ],
     "language": "python",
     "metadata": {},
     "outputs": [],
     "prompt_number": 14
    },
    {
     "cell_type": "code",
     "collapsed": false,
     "input": [
      "suma=lanzamientos(20000.0,100)"
     ],
     "language": "python",
     "metadata": {},
     "outputs": [],
     "prompt_number": 39
    },
    {
     "cell_type": "code",
     "collapsed": false,
     "input": [
      "hist(suma, bins=10)\n",
      "xlabel(\"Fracciones de porcentaje\")"
     ],
     "language": "python",
     "metadata": {},
     "outputs": [
      {
       "metadata": {},
       "output_type": "pyout",
       "prompt_number": 40,
       "text": [
        "<matplotlib.text.Text at 0x803f190>"
       ]
      },
      {
       "metadata": {},
       "output_type": "display_data",
       "png": "[encoded data removed]",
       "text": [
        "<matplotlib.figure.Figure at 0x8048730>"
       ]
      }
     ],
     "prompt_number": 40
    },
    {
     "cell_type": "code",
     "collapsed": false,
     "input": [
      "sigma = np.std(suma)\n",
      "desv = 0.5+sigma\n",
      "\n",
      "num1 = 0.1\n",
      "num2= 0.35\n",
      "num3= 0.4\n",
      "num4= 1.7\n",
      "\n",
      "print num1/sigma \n",
      "print num2/sigma\n",
      "print num3/sigma\n",
      "print num4/sigma\n",
      "print sigma\n",
      "\n",
      "print \"sigma de 0.1 es 27, de 0.35 es 96, de 0.4 es 109 y de 1.7 es 464 (esto es un estimativo, pues los datos var\u00edan al ejecutar el m\u00e9todo.\""
     ],
     "language": "python",
     "metadata": {},
     "outputs": [
      {
       "output_type": "stream",
       "stream": "stdout",
       "text": [
        "27.3089006541\n",
        "95.5811522894\n",
        "109.235602616\n",
        "464.25131112\n",
        "0.00366180979845\n",
        "sigma de 0.1 es 27, de 0.35 es 96, de 0.4 es 109 y de 1.7 es 464.\n"
       ]
      }
     ],
     "prompt_number": 48
    },
    {
     "cell_type": "code",
     "collapsed": false,
     "input": [
      "print desv\n"
     ],
     "language": "python",
     "metadata": {},
     "outputs": [
      {
       "output_type": "stream",
       "stream": "stdout",
       "text": [
        "0.503661809798\n"
       ]
      }
     ],
     "prompt_number": 43
    },
    {
     "cell_type": "code",
     "collapsed": false,
     "input": [],
     "language": "python",
     "metadata": {},
     "outputs": []
    }
   ],
   "metadata": {}
  }
 ]
}