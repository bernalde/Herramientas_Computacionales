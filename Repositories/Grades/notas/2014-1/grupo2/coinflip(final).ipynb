{
 "metadata": {
  "name": ""
 },
 "nbformat": 3,
 "nbformat_minor": 0,
 "worksheets": [
  {
   "cells": [
    {
     "cell_type": "code",
     "collapsed": false,
     "input": [
      "%pylab inline"
     ],
     "language": "python",
     "metadata": {},
     "outputs": [
      {
       "output_type": "stream",
       "stream": "stdout",
       "text": [
        "Populating the interactive namespace from numpy and matplotlib\n"
       ]
      }
     ],
     "prompt_number": 4
    },
    {
     "cell_type": "code",
     "collapsed": false,
     "input": [
      "def lanzamientos(N_trials, M_measurements):\n",
      "    k=0\n",
      "    suma=[ ]\n",
      "    while k<M_measurements:\n",
      "        k+=1\n",
      "        cara=0\n",
      "        sello=0\n",
      "        i=0\n",
      "        while i<N_trials:\n",
      "            i+=1\n",
      "            num = np.random.randint(0,2)\n",
      "            if num==0:\n",
      "                cara+=1\n",
      "            elif num==1:\n",
      "                sello+=1\n",
      "        f=cara/N_trials\n",
      "        suma.append(f)\n",
      "    return suma"
     ],
     "language": "python",
     "metadata": {},
     "outputs": [],
     "prompt_number": 5
    },
    {
     "cell_type": "code",
     "collapsed": false,
     "input": [
      "suma=lanzamientos(20000.0,1000)"
     ],
     "language": "python",
     "metadata": {},
     "outputs": [],
     "prompt_number": 6
    },
    {
     "cell_type": "code",
     "collapsed": false,
     "input": [
      "hist(suma, bins=10)\n",
      "xlabel(\"Fracciones de porcentaje\")"
     ],
     "language": "python",
     "metadata": {},
     "outputs": [
      {
       "metadata": {},
       "output_type": "pyout",
       "prompt_number": 7,
       "text": [
        "<matplotlib.text.Text at 0x6e2c850>"
       ]
      },
      {
       "metadata": {},
       "output_type": "display_data",
       "png": "[encoded data removed]",
       "text": [
        "<matplotlib.figure.Figure at 0x6db1d70>"
       ]
      }
     ],
     "prompt_number": 7
    },
    {
     "cell_type": "code",
     "collapsed": false,
     "input": [
      "sigma = np.std(suma)\n",
      "desv = 0.5+sigma\n",
      "\n",
      "num1 = 0.1\n",
      "num2= 0.35\n",
      "num3= 0.4\n",
      "num4= 1.7\n",
      "\n",
      "print num1/sigma \n",
      "print num2/sigma\n",
      "print num3/sigma\n",
      "print num4/sigma\n",
      "print sigma\n",
      "\n",
      "print \"sigma de 0.1 es 27, de 0.35 es 96, de 0.4 es 109 y de 1.7 es 464 (esto es un estimativo, pues los datos var\u00edan al ejecutar el m\u00e9todo.\""
     ],
     "language": "python",
     "metadata": {},
     "outputs": [
      {
       "output_type": "stream",
       "stream": "stdout",
       "text": [
        "27.9204535179\n",
        "97.7215873125\n",
        "111.681814071\n",
        "474.647709804\n",
        "0.00358160371342\n",
        "sigma de 0.1 es 27, de 0.35 es 96, de 0.4 es 109 y de 1.7 es 464 (esto es un estimativo, pues los datos var\u00edan al ejecutar el m\u00e9todo.\n"
       ]
      }
     ],
     "prompt_number": 8
    },
    {
     "cell_type": "code",
     "collapsed": false,
     "input": [
      "print desv\n"
     ],
     "language": "python",
     "metadata": {},
     "outputs": [
      {
       "output_type": "stream",
       "stream": "stdout",
       "text": [
        "0.503581603713\n"
       ]
      }
     ],
     "prompt_number": 9
    },
    {
     "cell_type": "code",
     "collapsed": false,
     "input": [
      "def lanzamientos2(N_trials, M_measurements):\n",
      "    \n",
      "    lanz=[ ]\n",
      "    resta=[ ]\n",
      "    \n",
      "    \n",
      "    while N_trials<10001:\n",
      "    \n",
      "        k=0\n",
      "        suma2=[ ]\n",
      "        caras=[ ]\n",
      "        sellos=[ ]\n",
      "        while k<M_measurements:\n",
      "            k+=1\n",
      "            cara=0\n",
      "            sello=0\n",
      "            i=0\n",
      "            while i<N_trials:\n",
      "                i+=1\n",
      "                num = np.random.randint(0,2)\n",
      "                if num==0:\n",
      "                    cara+=1\n",
      "                elif num==1:\n",
      "                    sello+=1\n",
      "            caras.append(cara)\n",
      "            sellos.append(sello)\n",
      "        \n",
      "        x=mean(caras)\n",
      "        y=mean(sellos)\n",
      "        f=abs(x-y)\n",
      "        \n",
      "        resta.append(f)\n",
      "        lanz.append(N_trials)\n",
      "        \n",
      "        N_trials+=1000\n",
      "    \n",
      "    \n",
      "    return resta,lanz\n",
      "   \n"
     ],
     "language": "python",
     "metadata": {},
     "outputs": [],
     "prompt_number": 10
    },
    {
     "cell_type": "code",
     "collapsed": false,
     "input": [
      "a, b=lanzamientos2(1000.0,20)\n",
      "c, d=lanzamientos2(1000.0,40)\n",
      "\n",
      "\n",
      "\n",
      "scatter(b,a)\n",
      "scatter(d,c, c=\"r\")\n",
      "ylabel(\"abs(caras-sellos)\")\n",
      "xlabel(\"lanzamientos\")"
     ],
     "language": "python",
     "metadata": {},
     "outputs": [
      {
       "metadata": {},
       "output_type": "pyout",
       "prompt_number": 11,
       "text": [
        "<matplotlib.text.Text at 0x6e34630>"
       ]
      },
      {
       "metadata": {},
       "output_type": "display_data",
       "png": "[encoded data removed]",
       "text": [
        "<matplotlib.figure.Figure at 0x6eea8f0>"
       ]
      }
     ],
     "prompt_number": 11
    },
    {
     "cell_type": "code",
     "collapsed": false,
     "input": [
      "def lanzamientos3(N_trials, M_measurements):\n",
      "    \n",
      "    lanz=[ ]\n",
      "    razon=[ ]\n",
      "    \n",
      "    \n",
      "    while N_trials<10001:\n",
      "    \n",
      "        k=0\n",
      "        suma2=[ ]\n",
      "        caras=[ ]\n",
      "        sellos=[ ]\n",
      "        while k<M_measurements:\n",
      "            k+=1\n",
      "            cara=0\n",
      "            sello=0\n",
      "            i=0\n",
      "            while i<N_trials:\n",
      "                i+=1\n",
      "                num = np.random.randint(0,2)\n",
      "                if num==0:\n",
      "                    cara+=1\n",
      "                elif num==1:\n",
      "                    sello+=1\n",
      "            caras.append(cara)\n",
      "            sellos.append(sello)\n",
      "        \n",
      "        x=mean(caras)\n",
      "        y=mean(sellos)\n",
      "        f=x/y\n",
      "        \n",
      "        razon.append(f)\n",
      "        lanz.append(N_trials)\n",
      "        \n",
      "        N_trials+=1000\n",
      "    \n",
      "    \n",
      "    return razon,lanz"
     ],
     "language": "python",
     "metadata": {},
     "outputs": [],
     "prompt_number": 12
    },
    {
     "cell_type": "code",
     "collapsed": false,
     "input": [
      "def lanzamientos3(N_trials, M_measurements):\n",
      "    \n",
      "    lanz=[ ]\n",
      "    razon=[ ]\n",
      "    \n",
      "    \n",
      "    while N_trials<10001:\n",
      "    \n",
      "        k=0\n",
      "        suma2=[ ]\n",
      "        caras=[ ]\n",
      "        sellos=[ ]\n",
      "        while k<M_measurements:\n",
      "            k+=1\n",
      "            cara=0\n",
      "            sello=0\n",
      "            i=0\n",
      "            while i<N_trials:\n",
      "                i+=1\n",
      "                num = np.random.randint(0,2)\n",
      "                if num==0:\n",
      "                    cara+=1\n",
      "                elif num==1:\n",
      "                    sello+=1\n",
      "            caras.append(cara)\n",
      "            sellos.append(sello)\n",
      "        \n",
      "        x=mean(caras)\n",
      "        y=mean(sellos)\n",
      "        f=x/y\n",
      "        \n",
      "        razon.append(f)\n",
      "        lanz.append(N_trials)\n",
      "        \n",
      "        N_trials+=1000\n",
      "    \n",
      "    \n",
      "    return razon,lanz\n",
      "\n",
      "e, f=lanzamientos3(1000.0, 20)\n",
      "g, h=lanzamientos3(1000.0, 40)\n",
      "\n",
      "scatter(f,e)\n",
      "scatter(h,g, c=\"r\")\n",
      "ylabel(\"razon cara/sello\")\n",
      "xlabel(\"lanzamientos\")\n"
     ],
     "language": "python",
     "metadata": {},
     "outputs": [
      {
       "metadata": {},
       "output_type": "pyout",
       "prompt_number": 13,
       "text": [
        "<matplotlib.text.Text at 0x6eeae10>"
       ]
      },
      {
       "metadata": {},
       "output_type": "display_data",
       "png": "[encoded data removed]",
       "text": [
        "<matplotlib.figure.Figure at 0x6f656b0>"
       ]
      }
     ],
     "prompt_number": 13
    },
    {
     "cell_type": "code",
     "collapsed": false,
     "input": [
      "#No veo ning\u00fan tipo de tendencia ni patr\u00f3n,.\n",
      "x, y=lanzamientos3(1000.0, 20)\n",
      "z, w=lanzamientos3(1000.0, 40)\n",
      "xscale('log')\n",
      "yscale('log')\n",
      "scatter(y,x)\n",
      "scatter(w,z, c=\"r\")\n",
      "ylabel(\"razon cara/sello(log)\")\n",
      "xlabel(\"lanzamientos(log)\")"
     ],
     "language": "python",
     "metadata": {},
     "outputs": [
      {
       "metadata": {},
       "output_type": "pyout",
       "prompt_number": 14,
       "text": [
        "<matplotlib.collections.PathCollection at 0x727f870>"
       ]
      },
      {
       "metadata": {},
       "output_type": "display_data",
       "png": "[encoded data removed]",
       "text": [
        "<matplotlib.figure.Figure at 0x6f3adb0>"
       ]
      }
     ],
     "prompt_number": 14
    },
    {
     "cell_type": "code",
     "collapsed": false,
     "input": [
      "x, y=lanzamientos2(1000.0, 20)\n",
      "z, w=lanzamientos2(1000.0, 40)\n",
      "xscale('log')\n",
      "yscale('log')\n",
      "scatter(y,x)\n",
      "scatter(w,z, c=\"r\")\n",
      "ylabel(\"abs(cara-sello)(log)\")\n",
      "xlabel(\"lanzamientos(log)\")"
     ],
     "language": "python",
     "metadata": {},
     "outputs": [
      {
       "metadata": {},
       "output_type": "pyout",
       "prompt_number": 15,
       "text": [
        "<matplotlib.collections.PathCollection at 0x7635df0>"
       ]
      },
      {
       "metadata": {},
       "output_type": "display_data",
       "png": "[encoded data removed]",
       "text": [
        "<matplotlib.figure.Figure at 0x7474b10>"
       ]
      }
     ],
     "prompt_number": 15
    },
    {
     "cell_type": "code",
     "collapsed": false,
     "input": [
      "#La relaci\u00f3n cara-sello tiene un comportamiento mucho lineal en escala logar\u00edtmica, mientras la relaci\u00f3n cara-sello presenta un \n",
      "#comportamiento m\u00e1s ca\u00f3tico."
     ],
     "language": "python",
     "metadata": {},
     "outputs": [],
     "prompt_number": 18
    },
    {
     "cell_type": "code",
     "collapsed": false,
     "input": [
      "def lanzamientos22(N_trials, M_measurements):\n",
      "    \n",
      "    lanz=[ ]\n",
      "    absolute=[ ]\n",
      "    \n",
      "    \n",
      "    while N_trials<10001:\n",
      "    \n",
      "        k=0\n",
      "        suma2=[ ]\n",
      "        ll=[ ]\n",
      "        sellos=[ ]\n",
      "        while k<M_measurements:\n",
      "            k+=1\n",
      "            cara=0\n",
      "            sello=0\n",
      "            i=0\n",
      "            while i<N_trials:\n",
      "                i+=1\n",
      "                num = np.random.randint(0,2)\n",
      "                if num==0:\n",
      "                    cara+=1\n",
      "                elif num==1:\n",
      "                    sello+=1\n",
      "            l=abs(cara-sello)\n",
      "            ll.append(l)\n",
      "            \n",
      "        \n",
      "        \n",
      "        x=mean(ll)\n",
      "    \n",
      "        \n",
      "        absolute.append(x)\n",
      "        lanz.append(N_trials)\n",
      "        \n",
      "        N_trials+=1000\n",
      "    \n",
      "    \n",
      "    return absolute,lanz"
     ],
     "language": "python",
     "metadata": {},
     "outputs": [],
     "prompt_number": 27
    },
    {
     "cell_type": "code",
     "collapsed": false,
     "input": [
      "x, y=lanzamientos22(1000.0, 20)\n",
      "z, w=lanzamientos22(1000.0, 40)\n",
      "xscale('log')\n",
      "yscale('log')\n",
      "scatter(y,x)\n",
      "scatter(w,z, c=\"r\")\n",
      "ylabel(\"promedio abs(cara-sello)(log)\")\n",
      "xlabel(\"lanzamientos(log)\")\n",
      "\n",
      "stand = std(x)\n",
      "\n",
      "print stand"
     ],
     "language": "python",
     "metadata": {},
     "outputs": [
      {
       "output_type": "stream",
       "stream": "stdout",
       "text": [
        "15.0677801948\n"
       ]
      },
      {
       "metadata": {},
       "output_type": "display_data",
       "png": "[encoded data removed]",
       "text": [
        "<matplotlib.figure.Figure at 0x8555850>"
       ]
      }
     ],
     "prompt_number": 37
    },
    {
     "cell_type": "code",
     "collapsed": false,
     "input": [
      "def lanzamientos33(N_trials, M_measurements):\n",
      "    \n",
      "    lanz=[ ]\n",
      "    prom=[ ]\n",
      "    \n",
      "    \n",
      "    while N_trials<10001:\n",
      "    \n",
      "        k=0\n",
      "        suma2=[ ]\n",
      "        ll=[ ]\n",
      "        sellos=[ ]\n",
      "        while k<M_measurements:\n",
      "            k+=1\n",
      "            cara=0\n",
      "            sello=0\n",
      "            i=0\n",
      "            while i<N_trials:\n",
      "                i+=1\n",
      "                num = np.random.randint(0,2)\n",
      "                if num==0:\n",
      "                    cara+=1\n",
      "                elif num==1:\n",
      "                    sello+=1\n",
      "            l=cara/sello\n",
      "            ll.append(l)\n",
      "            \n",
      "        \n",
      "        \n",
      "        x=mean(ll)\n",
      "    \n",
      "        \n",
      "        prom.append(x)\n",
      "        lanz.append(N_trials)\n",
      "        \n",
      "        N_trials+=1000\n",
      "    \n",
      "    \n",
      "    return prom,lanz\n"
     ],
     "language": "python",
     "metadata": {},
     "outputs": [],
     "prompt_number": 30
    },
    {
     "cell_type": "code",
     "collapsed": false,
     "input": [
      "x, y=lanzamientos33(1000.0, 20)\n",
      "z, w=lanzamientos33(1000.0, 40)\n",
      "xscale('log')\n",
      "yscale('log')\n",
      "scatter(y,x)\n",
      "scatter(w,z, c=\"r\")\n",
      "ylabel(\"promedio cara/sello(log)\")\n",
      "xlabel(\"lanzamientos(log)\")\n",
      "\n",
      "stand2=std(x)\n",
      "\n",
      "print stand2\n"
     ],
     "language": "python",
     "metadata": {},
     "outputs": [
      {
       "output_type": "stream",
       "stream": "stdout",
       "text": [
        "0.119268604419\n"
       ]
      },
      {
       "metadata": {},
       "output_type": "display_data",
       "png": "[encoded data removed]",
       "text": [
        "<matplotlib.figure.Figure at 0x869fe10>"
       ]
      }
     ],
     "prompt_number": 38
    },
    {
     "cell_type": "code",
     "collapsed": false,
     "input": [
      "#solo los promedios de la resta s\u00ed presentan un comportamiento lineal en escala logar\u00edtmica, mientras que la raz\u00f3n cara/sello no.\n",
      "#pienso que puede deberse a que la raz\u00f3n cara/sello puede dar fracciones menores a uno, cuyos logaritmos son negativos, y la resta siendo un valor\n",
      "#absoluto de resta de enteros no va a dar un logaritmo negativo.. realmente no s\u00e9 si con el c\u00f3digo que us\u00f3 s\u00f3lo cambi\u00e9\n",
      "#los ejes sin cambiar c\u00f3mo se graficaban, es decir, si se graficaban los logaritmos o no. La desv. est\u00e1ndar es mucho menor en cara/sello que en\n",
      "#cara-sello, lo cual dice que lo que asum\u00ed a simple vista sobre la correlaci\u00f3n de los datos estaba equivocado, al parecer la \u00faltima gr\u00e1fica\n",
      "#tiene m\u00e1s sentido en t\u00e9rminos de la relaci\u00f3n entre los datos."
     ],
     "language": "python",
     "metadata": {},
     "outputs": []
    }
   ],
   "metadata": {}
  }
 ]
}