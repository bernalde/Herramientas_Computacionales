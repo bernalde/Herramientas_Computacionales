{
 "metadata": {
  "name": "Untitled0"
 },
 "nbformat": 3,
 "nbformat_minor": 0,
 "worksheets": [
  {
   "cells": [
    {
     "cell_type": "code",
     "collapsed": false,
     "input": [
      "%pylab inline"
     ],
     "language": "python",
     "metadata": {},
     "outputs": [
      {
       "output_type": "stream",
       "stream": "stdout",
       "text": [
        "\n",
        "Welcome to pylab, a matplotlib-based Python environment [backend: module://IPython.kernel.zmq.pylab.backend_inline].\n",
        "For more information, type 'help(pylab)'.\n"
       ]
      }
     ],
     "prompt_number": 11
    },
    {
     "cell_type": "code",
     "collapsed": false,
     "input": [
      "def moneda(N_lanzamientos, M_mediciones):\n",
      "    i=0\n",
      "    j=0\n",
      "    moneda_cFinal=[]\n",
      "    moneda_sFinal=[]\n",
      "    cara=0.0\n",
      "    sello=0.0\n",
      "    while i<M_mediciones:\n",
      "        i+=1\n",
      "        moneda=[]\n",
      "        j=0\n",
      "        while j<N_lanzamientos:\n",
      "            j+=1\n",
      "            x= np.random.randint(1,3)\n",
      "            moneda.append(x)\n",
      "        for item in moneda:\n",
      "            if item==1:\n",
      "                cara+=1\n",
      "            elif item==2:\n",
      "                sello+=1\n",
      "        ratio_c=cara/len(moneda)\n",
      "        moneda_cFinal.append(ratio_c)\n",
      "        ratio_s=sello/len(moneda)\n",
      "        moneda_sFinal.append(ratio_s)\n",
      "        moneda=[]\n",
      "        cara=0.0\n",
      "        ratio=0.0\n",
      "        sello=0.0\n",
      "    moneda_final=[moneda_cFinal, moneda_sFinal]\n",
      "    return moneda_final\n",
      "            \n",
      "            \n",
      "            "
     ],
     "language": "python",
     "metadata": {},
     "outputs": [],
     "prompt_number": 12
    },
    {
     "cell_type": "code",
     "collapsed": false,
     "input": [
      "moneda_Final = moneda(1000,200000)[1]"
     ],
     "language": "python",
     "metadata": {},
     "outputs": [],
     "prompt_number": 13
    },
    {
     "cell_type": "code",
     "collapsed": false,
     "input": [
      "hist(moneda_Final, bins=11)\n",
      "axvline(np.std(moneda_Final)+np.mean(moneda_Final,), c='y', linewidth=2.5)\n",
      "axvline(-np.std(moneda_Final)+np.mean(moneda_Final,), c='y', linewidth=2.5)\n",
      "axvline(2*np.std(moneda_Final)+np.mean(moneda_Final,), c='g', linewidth=2.5)\n",
      "axvline(-2*np.std(moneda_Final)+np.mean(moneda_Final,), c='g', linewidth=2.5)\n",
      "axvline(3*np.std(moneda_Final)+np.mean(moneda_Final,), c='b', linewidth=2.5)\n",
      "axvline(-3*np.std(moneda_Final)+np.mean(moneda_Final,), c='b', linewidth=2.5)\n",
      "axvline(4*np.std(moneda_Final)+np.mean(moneda_Final,), c='r', linewidth=2.5)\n",
      "axvline(-4*np.std(moneda_Final)+np.mean(moneda_Final,), c='r', linewidth=2.5)\n",
      "xlabel(\"fraccion cara\")\n",
      "\n"
     ],
     "language": "python",
     "metadata": {},
     "outputs": [
      {
       "output_type": "pyout",
       "prompt_number": 14,
       "text": [
        "<matplotlib.text.Text at 0x22b8050>"
       ]
      },
      {
       "output_type": "display_data",
       "png": "[encoded data removed]",
       "text": [
        "<matplotlib.figure.Figure at 0x22c3350>"
       ]
      }
     ],
     "prompt_number": 14
    },
    {
     "cell_type": "code",
     "collapsed": false,
     "input": [
      "def intervalo_confianza(dato):\n",
      "    datos = moneda_Final\n",
      "    media = np.mean(moneda_Final)\n",
      "    desviacion_estandar=np.std(moneda_Final)\n",
      "    i=1\n",
      "    r=0\n",
      "    while r==0:\n",
      "        s=(desviacion_estandar*i) + media\n",
      "        if dato<=s:\n",
      "            r=i\n",
      "        i+=1\n",
      "    return  \"sigma\", r\n"
     ],
     "language": "python",
     "metadata": {},
     "outputs": [],
     "prompt_number": 15
    },
    {
     "cell_type": "code",
     "collapsed": false,
     "input": [
      "intervalo_confianza(0.45)"
     ],
     "language": "python",
     "metadata": {},
     "outputs": [
      {
       "output_type": "pyout",
       "prompt_number": 16,
       "text": [
        "('sigma', 1)"
       ]
      }
     ],
     "prompt_number": 16
    },
    {
     "cell_type": "code",
     "collapsed": false,
     "input": [
      "intervalo_confianza(0.51)"
     ],
     "language": "python",
     "metadata": {},
     "outputs": [
      {
       "output_type": "pyout",
       "prompt_number": 17,
       "text": [
        "('sigma', 1)"
       ]
      }
     ],
     "prompt_number": 17
    },
    {
     "cell_type": "code",
     "collapsed": false,
     "input": [
      "intervalo_confianza(0.53)"
     ],
     "language": "python",
     "metadata": {},
     "outputs": [
      {
       "output_type": "pyout",
       "prompt_number": 18,
       "text": [
        "('sigma', 2)"
       ]
      }
     ],
     "prompt_number": 18
    },
    {
     "cell_type": "code",
     "collapsed": false,
     "input": [
      "intervalo_confianza(1.7)"
     ],
     "language": "python",
     "metadata": {},
     "outputs": [
      {
       "output_type": "pyout",
       "prompt_number": 19,
       "text": [
        "('sigma', 76)"
       ]
      }
     ],
     "prompt_number": 19
    },
    {
     "cell_type": "code",
     "collapsed": false,
     "input": [
      "def diferencia_caras_sellos(intervalo_lanzamientos,mediciones):\n",
      "    lanzamientos_total=[]\n",
      "    lanzamientos=100\n",
      "    lanzamientos_maximos = 100+intervalo_lanzamientos*mediciones\n",
      "    diferencia=[]\n",
      "    i=1\n",
      "    while lanzamientos<=lanzamientos_maximos:\n",
      "        i+=1\n",
      "        caras = moneda(lanzamientos,1)[0][0]\n",
      "        sellos = moneda(lanzamientos,1)[1][0]\n",
      "        x=abs(caras-sellos)\n",
      "        diferencia.append(x)\n",
      "        lanzamientos_total.append(lanzamientos)\n",
      "        lanzamientos+=intervalo_lanzamientos*i\n",
      "    return lanzamientos_total, diferencia\n"
     ],
     "language": "python",
     "metadata": {},
     "outputs": [],
     "prompt_number": 47
    },
    {
     "cell_type": "code",
     "collapsed": false,
     "input": [
      "diferencia_20 = diferencia_caras_sellos(100,20)"
     ],
     "language": "python",
     "metadata": {},
     "outputs": [],
     "prompt_number": 48
    },
    {
     "cell_type": "code",
     "collapsed": false,
     "input": [
      "diferencia_40 = diferencia_caras_sellos(100,40)"
     ],
     "language": "python",
     "metadata": {},
     "outputs": [],
     "prompt_number": 49
    },
    {
     "cell_type": "code",
     "collapsed": false,
     "input": [
      "x1,y1=diferencia_20\n",
      "x2,y2=diferencia_40\n",
      "plt.scatter(x1,y1,c='y', s=30)\n",
      "plt.scatter(x2,y2, c='r', s=30)"
     ],
     "language": "python",
     "metadata": {},
     "outputs": [
      {
       "output_type": "pyout",
       "prompt_number": 50,
       "text": [
        "<matplotlib.collections.PathCollection at 0x2e2aad0>"
       ]
      },
      {
       "output_type": "display_data",
       "png": "[encoded data removed]",
       "text": [
        "<matplotlib.figure.Figure at 0x2e2ac10>"
       ]
      }
     ],
     "prompt_number": 50
    },
    {
     "cell_type": "code",
     "collapsed": false,
     "input": [
      "def razon_caras_sellos(intervalo_lanzamientos,mediciones):\n",
      "    lanzamientos_total=[]\n",
      "    lanzamientos=100\n",
      "    lanzamientos_maximos = 100+intervalo_lanzamientos*mediciones\n",
      "    razon=[]\n",
      "    i=1\n",
      "    while lanzamientos<=lanzamientos_maximos:\n",
      "        i+=1\n",
      "        caras = moneda(lanzamientos,1)[0][0]\n",
      "        sellos = moneda(lanzamientos,1)[1][0]\n",
      "        x=caras/sellos\n",
      "        razon.append(x)\n",
      "        lanzamientos_total.append(lanzamientos)\n",
      "        lanzamientos+=intervalo_lanzamientos*i\n",
      "    return lanzamientos_total, razon"
     ],
     "language": "python",
     "metadata": {},
     "outputs": [],
     "prompt_number": 51
    },
    {
     "cell_type": "code",
     "collapsed": false,
     "input": [
      "razon_20 = razon_caras_sellos(100,20)"
     ],
     "language": "python",
     "metadata": {},
     "outputs": [],
     "prompt_number": 52
    },
    {
     "cell_type": "code",
     "collapsed": false,
     "input": [
      "razon_40 = razon_caras_sellos(100,40)"
     ],
     "language": "python",
     "metadata": {},
     "outputs": [],
     "prompt_number": 53
    },
    {
     "cell_type": "code",
     "collapsed": false,
     "input": [
      "x1,y1=razon_20\n",
      "x2,y2=razon_40\n",
      "plt.scatter(x1,y1,c='y', s=30)\n",
      "plt.scatter(x2,y2, c='r', s=30)"
     ],
     "language": "python",
     "metadata": {},
     "outputs": [
      {
       "output_type": "pyout",
       "prompt_number": 54,
       "text": [
        "<matplotlib.collections.PathCollection at 0x189e490>"
       ]
      },
      {
       "output_type": "display_data",
       "png": "[encoded data removed]",
       "text": [
        "<matplotlib.figure.Figure at 0x189e5d0>"
       ]
      }
     ],
     "prompt_number": 54
    },
    {
     "cell_type": "code",
     "collapsed": false,
     "input": [
      "x1,y1=diferencia_20\n",
      "x2,y2=diferencia_40\n",
      "plt.scatter(x1,y1,c='y', s=30)\n",
      "plt.scatter(x2,y2, c='r', s=30)\n",
      "plt.semilogy()"
     ],
     "language": "python",
     "metadata": {},
     "outputs": [
      {
       "output_type": "pyout",
       "prompt_number": 57,
       "text": [
        "[]"
       ]
      },
      {
       "output_type": "display_data",
       "png": "[encoded data removed]",
       "text": [
        "<matplotlib.figure.Figure at 0x22dbfd0>"
       ]
      }
     ],
     "prompt_number": 57
    },
    {
     "cell_type": "code",
     "collapsed": false,
     "input": [
      "x1,y1=razon_20\n",
      "x2,y2=razon_40\n",
      "plt.scatter(x1,y1,c='y', s=30)\n",
      "plt.scatter(x2,y2, c='r', s=30)\n",
      "plt.semilogy()"
     ],
     "language": "python",
     "metadata": {},
     "outputs": [
      {
       "output_type": "pyout",
       "prompt_number": 58,
       "text": [
        "[]"
       ]
      },
      {
       "output_type": "display_data",
       "png": "[encoded data removed]",
       "text": [
        "<matplotlib.figure.Figure at 0x37fcdd0>"
       ]
      }
     ],
     "prompt_number": 58
    },
    {
     "cell_type": "code",
     "collapsed": false,
     "input": [
      "def promedio_diferencia_caras_sellos(intervalo_lanzamientos,mediciones):\n",
      "    x,y=diferencia_caras_sellos(intervalo_lanzamientos,mediciones)\n",
      "    promedio_diferencia=[]\n",
      "    for item in y:\n",
      "        promedio=mean(y)\n",
      "        promedio_diferencia.append(promedio)\n",
      "    return x,promedio_diferencia\n",
      "\n",
      "    "
     ],
     "language": "python",
     "metadata": {},
     "outputs": [],
     "prompt_number": 60
    },
    {
     "cell_type": "code",
     "collapsed": false,
     "input": [
      "x,y=promedio_diferencia_caras_sellos(100,40)\n",
      "plt.scatter(x1,y1,c='y', s=30)\n"
     ],
     "language": "python",
     "metadata": {},
     "outputs": [
      {
       "output_type": "pyout",
       "prompt_number": 70,
       "text": [
        "<matplotlib.collections.PathCollection at 0x4181c50>"
       ]
      },
      {
       "output_type": "display_data",
       "png": "[encoded data removed]",
       "text": [
        "<matplotlib.figure.Figure at 0x31f0a90>"
       ]
      }
     ],
     "prompt_number": 70
    },
    {
     "cell_type": "code",
     "collapsed": false,
     "input": [
      "def promedio_razon_caras_sellos(intervalo_lanzamientos,mediciones):\n",
      "    x,y=razon_caras_sellos(intervalo_lanzamientos,mediciones)\n",
      "    promedio_razon=[]\n",
      "    for item in y:\n",
      "        promedio=mean(y)\n",
      "        promedio_razon.append(promedio)\n",
      "    return x,promedio_razon"
     ],
     "language": "python",
     "metadata": {},
     "outputs": [],
     "prompt_number": 71
    },
    {
     "cell_type": "code",
     "collapsed": false,
     "input": [
      "x,y=promedio_razon_caras_sellos(100,40)\n",
      "plt.scatter(x,y,c='y', s=30)\n"
     ],
     "language": "python",
     "metadata": {},
     "outputs": [
      {
       "output_type": "pyout",
       "prompt_number": 72,
       "text": [
        "<matplotlib.collections.PathCollection at 0x43088d0>"
       ]
      },
      {
       "output_type": "display_data",
       "png": "[encoded data removed]",
       "text": [
        "<matplotlib.figure.Figure at 0x4192710>"
       ]
      }
     ],
     "prompt_number": 72
    },
    {
     "cell_type": "code",
     "collapsed": false,
     "input": [],
     "language": "python",
     "metadata": {},
     "outputs": [],
     "prompt_number": 74
    },
    {
     "cell_type": "code",
     "collapsed": false,
     "input": [],
     "language": "python",
     "metadata": {},
     "outputs": []
    }
   ],
   "metadata": {}
  }
 ]
}