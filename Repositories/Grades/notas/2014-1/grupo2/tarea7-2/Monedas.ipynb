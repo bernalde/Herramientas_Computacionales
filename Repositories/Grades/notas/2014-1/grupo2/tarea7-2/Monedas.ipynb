{
 "metadata": {
  "name": "Monedas"
 },
 "nbformat": 3,
 "nbformat_minor": 0,
 "worksheets": [
  {
   "cells": [
    {
     "cell_type": "code",
     "collapsed": false,
     "input": [
      "%pylab inline"
     ],
     "language": "python",
     "metadata": {},
     "outputs": [
      {
       "output_type": "stream",
       "stream": "stdout",
       "text": [
        "\n",
        "Welcome to pylab, a matplotlib-based Python environment [backend: module://IPython.kernel.zmq.pylab.backend_inline].\n",
        "For more information, type 'help(pylab)'.\n"
       ]
      }
     ],
     "prompt_number": 2
    },
    {
     "cell_type": "code",
     "collapsed": false,
     "input": [
      "def Caras(n, N):\n",
      "    n=n/1.0\n",
      "    caras=0\n",
      "    sellos=0\n",
      "    i=0\n",
      "    j=0\n",
      "    cara=[]\n",
      "    sello=[]\n",
      "    while (i<N):\n",
      "        j=0\n",
      "        caras=0\n",
      "        while (j<n):\n",
      "            ran=random.randint(1, 3)\n",
      "            if(ran==1):\n",
      "                caras+=1\n",
      "            if(ran==2):\n",
      "                sellos+=1\n",
      "            j+=1\n",
      "        cara.append(caras)\n",
      "        i+=1\n",
      "    return cara"
     ],
     "language": "python",
     "metadata": {},
     "outputs": [],
     "prompt_number": 52
    },
    {
     "cell_type": "code",
     "collapsed": false,
     "input": [
      "def Sello(n, N):\n",
      "    n=n/1.0\n",
      "    caras=0\n",
      "    sellos=0\n",
      "    i=0\n",
      "    j=0\n",
      "    cara=[]\n",
      "    sello=[]\n",
      "    while (i<N):\n",
      "        j=0\n",
      "        sellos=0\n",
      "        caras=0\n",
      "        while (j<n):\n",
      "            ran=random.randint(1, 3)\n",
      "            if(ran==1):\n",
      "                caras+=1\n",
      "            if(ran==2):\n",
      "                sellos+=1\n",
      "            j+=1\n",
      "        sello.append(sellos)\n",
      "        cara.append(caras)\n",
      "        i+=1\n",
      "    return cara, sello"
     ],
     "language": "python",
     "metadata": {},
     "outputs": [],
     "prompt_number": 64
    },
    {
     "cell_type": "code",
     "collapsed": false,
     "input": [
      "x, y=Sello(1000, 20)"
     ],
     "language": "python",
     "metadata": {},
     "outputs": [],
     "prompt_number": 65
    },
    {
     "cell_type": "code",
     "collapsed": false,
     "input": [
      "def GraphA (n, N, M, color):\n",
      "    i=0\n",
      "    DataY=[]\n",
      "    DataX=[]\n",
      "    while (i<M):\n",
      "        x, y= Sello(n, N)\n",
      "        PromCara=mean(x)\n",
      "        PromSello=mean(y)\n",
      "        daty=abs(PromCara-PromSello)\n",
      "        DataY.append(daty)\n",
      "        DataX.append(M*(i+1))\n",
      "        i+=1\n",
      "    scatter(DataX, DataY, c=color)\n",
      "    ylabel(\"Abs (Prom.Caras - Prom.Sellos)\")\n",
      "    xlabel(\"Numero de Lanzamientos\")\n",
      "    title(\"Lanzamientos\")\n",
      "    "
     ],
     "language": "python",
     "metadata": {},
     "outputs": [],
     "prompt_number": 92
    },
    {
     "cell_type": "code",
     "collapsed": false,
     "input": [
      "GraphA (1000, 20, 20,'r')\n",
      "GraphA (1000, 40, 20,'g')"
     ],
     "language": "python",
     "metadata": {},
     "outputs": [
      {
       "output_type": "display_data",
       "png": "[encoded data removed]",
       "text": [
        "<matplotlib.figure.Figure at 0x21c4a90>"
       ]
      }
     ],
     "prompt_number": 93
    },
    {
     "cell_type": "code",
     "collapsed": false,
     "input": [
      "def ValorDeConfianza(p, t, h, K):\n",
      "    J=1\n",
      "    string=\"No hay calculo\"\n",
      "    sigma=0\n",
      "    while (J<K):\n",
      "        if ((p-(J*t))<h)and(h<(p+(J*t))):\n",
      "            string=\"El Valor esta en el sigma de orden\"\n",
      "            sigma=J\n",
      "        else:\n",
      "            J+=1\n",
      "    print string, sigma"
     ],
     "language": "python",
     "metadata": {},
     "outputs": [],
     "prompt_number": 178
    },
    {
     "cell_type": "code",
     "collapsed": false,
     "input": [
      "def GraphB (n, N, M, color, h, K):\n",
      "    i=0\n",
      "    DataY=[]\n",
      "    DataX=[]\n",
      "    PromedioC=0\n",
      "    PromedioS=0\n",
      "    while (i<M):\n",
      "        x, y= Sello(n, N)\n",
      "        PromCara=mean(x)\n",
      "        PromSello=mean(y)\n",
      "        daty=(PromCara/PromSello)\n",
      "        DataY.append(daty)\n",
      "        DataX.append(M*(i+1))\n",
      "        i+=1\n",
      "    scatter(DataX, DataY, c=color)\n",
      "    ylabel(\"Prom.Caras/Prom.Sellos\")\n",
      "    xlabel(\"Numero de Lanzamientos\")\n",
      "    title(\"Lanzamientos\")\n",
      "    FraccCaras=PromCara/float(n)\n",
      "    Std=std(FraccCaras)\n",
      "    ValorDeConfianza(FraccCaras, Std, h, K)"
     ],
     "language": "python",
     "metadata": {},
     "outputs": [],
     "prompt_number": 179
    },
    {
     "cell_type": "code",
     "collapsed": false,
     "input": [
      "GraphB (1000, 20, 20,'r', 45, 3000)\n",
      "GraphB (1000, 40, 20,'g', 15, 12000)"
     ],
     "language": "python",
     "metadata": {},
     "outputs": [
      {
       "output_type": "stream",
       "stream": "stdout",
       "text": [
        "No hay calculo 0\n",
        "No hay calculo"
       ]
      },
      {
       "output_type": "stream",
       "stream": "stdout",
       "text": [
        " 0\n"
       ]
      },
      {
       "output_type": "display_data",
       "png": "[encoded data removed]",
       "text": [
        "<matplotlib.figure.Figure at 0x2a311d0>"
       ]
      }
     ],
     "prompt_number": 182
    },
    {
     "cell_type": "code",
     "collapsed": false,
     "input": [],
     "language": "python",
     "metadata": {},
     "outputs": [],
     "prompt_number": 177
    },
    {
     "cell_type": "code",
     "collapsed": false,
     "input": [],
     "language": "python",
     "metadata": {},
     "outputs": [],
     "prompt_number": 100
    },
    {
     "cell_type": "code",
     "collapsed": false,
     "input": [],
     "language": "python",
     "metadata": {},
     "outputs": []
    }
   ],
   "metadata": {}
  }
 ]
}