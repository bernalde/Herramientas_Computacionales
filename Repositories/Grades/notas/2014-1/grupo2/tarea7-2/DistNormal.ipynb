{
 "metadata": {
  "name": "Dist.Normal"
 },
 "nbformat": 3,
 "nbformat_minor": 0,
 "worksheets": [
  {
   "cells": [
    {
     "cell_type": "code",
     "collapsed": false,
     "input": [
      "%pylab inline"
     ],
     "language": "python",
     "metadata": {},
     "outputs": [
      {
       "output_type": "stream",
       "stream": "stdout",
       "text": [
        "\n",
        "Welcome to pylab, a matplotlib-based Python environment [backend: module://IPython.kernel.zmq.pylab.backend_inline].\n",
        "For more information, type 'help(pylab)'.\n"
       ]
      }
     ],
     "prompt_number": 7
    },
    {
     "cell_type": "code",
     "collapsed": false,
     "input": [
      "def LanzaMoneda(n, N):\n",
      "    n=n/1.0\n",
      "    caras=0\n",
      "    sellos=0\n",
      "    i=0\n",
      "    j=0\n",
      "    cara=[]\n",
      "    sello=[]\n",
      "    while (i<N):\n",
      "        j=0\n",
      "        caras=0\n",
      "        while (j<n):\n",
      "            ran=random.randint(1, 3)\n",
      "            if(ran==1):\n",
      "                caras+=1\n",
      "            if(ran==2):\n",
      "                sellos+=1\n",
      "            j+=1\n",
      "        ycar=caras/n\n",
      "        cara.append(ycar)\n",
      "        i+=1\n",
      "    return cara\n",
      "        \n",
      "        "
     ],
     "language": "python",
     "metadata": {},
     "outputs": [],
     "prompt_number": 10
    },
    {
     "cell_type": "code",
     "collapsed": false,
     "input": [
      "LanzaMoneda(10, 10)"
     ],
     "language": "python",
     "metadata": {},
     "outputs": [
      {
       "output_type": "pyout",
       "prompt_number": 11,
       "text": [
        "[0.6, 0.8, 0.4, 0.4, 0.4, 0.7, 0.4, 0.5, 0.3, 0.5]"
       ]
      }
     ],
     "prompt_number": 11
    },
    {
     "cell_type": "code",
     "collapsed": false,
     "input": [
      "def Graph(x, y, h, K):\n",
      "    caras= LanzaMoneda(x, y)\n",
      "    return hist(caras, y)\n",
      "    ylabel(\"N\u00famero de caras\")\n",
      "    xlabel(\"Porcentaje de Caras\")\n",
      "    title(\"Porcentaje de Caras por Lanzamientos\")\n",
      "    J=1\n",
      "    string=\"No hay calculo\"\n",
      "    sigma=0\n",
      "    t=std(caras)\n",
      "    while (J<K):\n",
      "        if ((0.5-(J*t))<h)and(h<(0.5+(J*t))):\n",
      "            string=\"El Valor esta en el sigma de orden\"\n",
      "            sigma=J\n",
      "        J+=1\n",
      "    print string, sigma\n",
      "    show()"
     ],
     "language": "python",
     "metadata": {},
     "outputs": [],
     "prompt_number": 18
    },
    {
     "cell_type": "code",
     "collapsed": false,
     "input": [
      "Graph(1000, 1000, 13, 500)"
     ],
     "language": "python",
     "metadata": {},
     "outputs": [
      {
       "output_type": "pyout",
       "prompt_number": 19,
       "text": [
        "(array([ 1,  0,  0,  0,  0,  0,  0,  0,  0,  0,  0,  0,  0,  0,  0,  0,  0,\n",
        "        0,  0,  1,  0,  0,  0,  0,  0,  0,  0,  0,  0,  0,  0,  0,  0,  0,\n",
        "        0,  0,  0,  0,  0,  0,  0,  0,  0,  0,  0,  0,  0,  0,  0,  2,  0,\n",
        "        0,  0,  0,  0,  0,  0,  0,  0,  1,  0,  0,  0,  0,  0,  0,  0,  0,\n",
        "        0,  1,  0,  0,  0,  0,  0,  0,  0,  0,  0,  0,  0,  0,  0,  0,  0,\n",
        "        0,  0,  0,  0,  0,  0,  0,  0,  0,  0,  0,  0,  0,  0,  0,  0,  0,\n",
        "        0,  0,  0,  0,  0,  0,  0,  0,  0,  0,  0,  0,  0,  0,  0,  0,  1,\n",
        "        0,  0,  0,  0,  0,  0,  0,  0,  0,  1,  0,  0,  0,  0,  0,  0,  0,\n",
        "        0,  0,  3,  0,  0,  0,  0,  0,  0,  0,  0,  0,  0,  0,  0,  0,  0,\n",
        "        0,  0,  0,  0,  0,  0,  0,  0,  0,  0,  0,  0,  0,  0,  0,  1,  0,\n",
        "        0,  0,  0,  0,  0,  0,  0,  0,  2,  0,  0,  0,  0,  0,  0,  0,  0,\n",
        "        0,  1,  0,  0,  0,  0,  0,  0,  0,  0,  0,  4,  0,  0,  0,  0,  0,\n",
        "        0,  0,  0,  3,  0,  0,  0,  0,  0,  0,  0,  0,  0,  2,  0,  0,  0,\n",
        "        0,  0,  0,  0,  0,  0,  4,  0,  0,  0,  0,  0,  0,  0,  0,  0,  5,\n",
        "        0,  0,  0,  0,  0,  0,  0,  0,  0,  2,  0,  0,  0,  0,  0,  0,  0,\n",
        "        0,  0,  2,  0,  0,  0,  0,  0,  0,  0,  0,  0,  3,  0,  0,  0,  0,\n",
        "        0,  0,  0,  0,  0,  4,  0,  0,  0,  0,  0,  0,  0,  0,  0,  6,  0,\n",
        "        0,  0,  0,  0,  0,  0,  0,  0,  3,  0,  0,  0,  0,  0,  0,  0,  0,\n",
        "        8,  0,  0,  0,  0,  0,  0,  0,  0,  0,  7,  0,  0,  0,  0,  0,  0,\n",
        "        0,  0,  0,  5,  0,  0,  0,  0,  0,  0,  0,  0,  0,  5,  0,  0,  0,\n",
        "        0,  0,  0,  0,  0,  0,  9,  0,  0,  0,  0,  0,  0,  0,  0,  0, 11,\n",
        "        0,  0,  0,  0,  0,  0,  0,  0,  0, 23,  0,  0,  0,  0,  0,  0,  0,\n",
        "        0,  0, 11,  0,  0,  0,  0,  0,  0,  0,  0,  0, 15,  0,  0,  0,  0,\n",
        "        0,  0,  0,  0,  0, 19,  0,  0,  0,  0,  0,  0,  0,  0, 19,  0,  0,\n",
        "        0,  0,  0,  0,  0,  0,  0,  9,  0,  0,  0,  0,  0,  0,  0,  0,  0,\n",
        "       18,  0,  0,  0,  0,  0,  0,  0,  0,  0, 22,  0,  0,  0,  0,  0,  0,\n",
        "        0,  0,  0, 23,  0,  0,  0,  0,  0,  0,  0,  0,  0, 24,  0,  0,  0,\n",
        "        0,  0,  0,  0,  0,  0, 26,  0,  0,  0,  0,  0,  0,  0,  0,  0, 15,\n",
        "        0,  0,  0,  0,  0,  0,  0,  0,  0, 29,  0,  0,  0,  0,  0,  0,  0,\n",
        "        0,  0, 29,  0,  0,  0,  0,  0,  0,  0,  0, 19,  0,  0,  0,  0,  0,\n",
        "        0,  0,  0,  0, 27,  0,  0,  0,  0,  0,  0,  0,  0,  0, 22,  0,  0,\n",
        "        0,  0,  0,  0,  0,  0,  0, 27,  0,  0,  0,  0,  0,  0,  0,  0,  0,\n",
        "       20,  0,  0,  0,  0,  0,  0,  0,  0,  0, 25,  0,  0,  0,  0,  0,  0,\n",
        "        0,  0,  0, 30,  0,  0,  0,  0,  0,  0,  0,  0,  0, 26,  0,  0,  0,\n",
        "        0,  0,  0,  0,  0,  0, 31,  0,  0,  0,  0,  0,  0,  0,  0,  0, 20,\n",
        "        0,  0,  0,  0,  0,  0,  0,  0, 21,  0,  0,  0,  0,  0,  0,  0,  0,\n",
        "        0, 29,  0,  0,  0,  0,  0,  0,  0,  0,  0, 29,  0,  0,  0,  0,  0,\n",
        "        0,  0,  0,  0, 22,  0,  0,  0,  0,  0,  0,  0,  0,  0, 20,  0,  0,\n",
        "        0,  0,  0,  0,  0,  0,  0, 17,  0,  0,  0,  0,  0,  0,  0,  0,  0,\n",
        "       24,  0,  0,  0,  0,  0,  0,  0,  0,  0, 17,  0,  0,  0,  0,  0,  0,\n",
        "        0,  0,  0, 19,  0,  0,  0,  0,  0,  0,  0,  0,  0, 18,  0,  0,  0,\n",
        "        0,  0,  0,  0,  0, 17,  0,  0,  0,  0,  0,  0,  0,  0,  0, 11,  0,\n",
        "        0,  0,  0,  0,  0,  0,  0,  0, 12,  0,  0,  0,  0,  0,  0,  0,  0,\n",
        "        0, 15,  0,  0,  0,  0,  0,  0,  0,  0,  0,  8,  0,  0,  0,  0,  0,\n",
        "        0,  0,  0,  0,  6,  0,  0,  0,  0,  0,  0,  0,  0,  0, 12,  0,  0,\n",
        "        0,  0,  0,  0,  0,  0,  0, 10,  0,  0,  0,  0,  0,  0,  0,  0,  0,\n",
        "        7,  0,  0,  0,  0,  0,  0,  0,  0,  0,  7,  0,  0,  0,  0,  0,  0,\n",
        "        0,  0,  4,  0,  0,  0,  0,  0,  0,  0,  0,  0,  6,  0,  0,  0,  0,\n",
        "        0,  0,  0,  0,  0,  6,  0,  0,  0,  0,  0,  0,  0,  0,  0,  6,  0,\n",
        "        0,  0,  0,  0,  0,  0,  0,  0,  3,  0,  0,  0,  0,  0,  0,  0,  0,\n",
        "        0,  0,  0,  0,  0,  0,  0,  0,  0,  0,  0,  5,  0,  0,  0,  0,  0,\n",
        "        0,  0,  0,  0,  2,  0,  0,  0,  0,  0,  0,  0,  0,  0,  2,  0,  0,\n",
        "        0,  0,  0,  0,  0,  0,  0,  5,  0,  0,  0,  0,  0,  0,  0,  0,  0,\n",
        "        0,  0,  0,  0,  0,  0,  0,  0,  0,  2,  0,  0,  0,  0,  0,  0,  0,\n",
        "        0,  0,  4,  0,  0,  0,  0,  0,  0,  0,  0,  0,  2,  0,  0,  0,  0,\n",
        "        0,  0,  0,  0,  0,  0,  0,  0,  0,  0,  0,  0,  0,  0,  0,  1,  0,\n",
        "        0,  0,  0,  0,  0,  0,  0,  0,  0,  0,  0,  0,  0,  0,  0,  0,  0,\n",
        "        0,  0,  0,  0,  0,  0,  0,  0,  0,  0,  0,  1,  0,  0,  0,  0,  0,\n",
        "        0,  0,  0,  0,  2,  0,  0,  0,  0,  0,  0,  0,  0,  1]),\n",
        " array([ 0.444   ,  0.444101,  0.444202, ...,  0.544798,  0.544899,  0.545   ]),\n",
        " <a list of 1000 Patch objects>)"
       ]
      },
      {
       "output_type": "display_data",
       "png": "[encoded data removed]",
       "text": [
        "<matplotlib.figure.Figure at 0x3a1d5d0>"
       ]
      }
     ],
     "prompt_number": 19
    },
    {
     "cell_type": "code",
     "collapsed": false,
     "input": [],
     "language": "python",
     "metadata": {},
     "outputs": []
    }
   ],
   "metadata": {}
  }
 ]
}