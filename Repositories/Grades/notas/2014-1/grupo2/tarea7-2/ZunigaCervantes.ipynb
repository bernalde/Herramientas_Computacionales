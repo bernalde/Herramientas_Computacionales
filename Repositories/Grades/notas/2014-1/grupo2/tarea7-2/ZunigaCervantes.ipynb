{
 "metadata": {
  "name": "JavierZuniga_tarea8"
 },
 "nbformat": 3,
 "nbformat_minor": 0,
 "worksheets": [
  {
   "cells": [
    {
     "cell_type": "code",
     "collapsed": false,
     "input": [
      "%pylab inline\n",
      "import random\n",
      "import matplotlib.colors as colors\n",
      "from matplotlib.colors import colorConverter"
     ],
     "language": "python",
     "metadata": {},
     "outputs": [
      {
       "output_type": "stream",
       "stream": "stdout",
       "text": [
        "\n",
        "Welcome to pylab, a matplotlib-based Python environment [backend: module://IPython.kernel.zmq.pylab.backend_inline].\n",
        "For more information, type 'help(pylab)'.\n"
       ]
      }
     ],
     "prompt_number": 5
    },
    {
     "cell_type": "code",
     "collapsed": false,
     "input": [
      "def monedas(intentos, mediciones):\n",
      "    j =0\n",
      "    listamediciones = []\n",
      "    while j < mediciones:\n",
      "        j+=1\n",
      "        i =0\n",
      "        medicionactual  = 0.0\n",
      "        while i < intentos:\n",
      "            i+=1\n",
      "            cara = random.choice([0.0,1.0])\n",
      "            medicionactual += cara            \n",
      "        listamediciones.append(medicionactual/intentos)\n",
      "    return listamediciones"
     ],
     "language": "python",
     "metadata": {},
     "outputs": [],
     "prompt_number": 81
    },
    {
     "cell_type": "code",
     "collapsed": false,
     "input": [
      "\n",
      "#N\u00famero de medidas que se desean tomar\n",
      "mediqueridas=1000.0\n",
      "#N\u00famero de intentos que se desean saber por cada medida\n",
      "intentosqueridos= 4000.0\n",
      "#N\u00famero de datos en el cual est\u00e1n separado las fracciones\n",
      "barras = 18\n",
      "print \"El numero de intentos por medidda deseados a tomar es:\", intentosqueridos\n",
      "print \"El numero de medidas deseadas a tomar es:\", mediqueridas\n",
      "#Se utiliza la funci\u00f3n creada anteriormente\n",
      "datos = monedas(intentosqueridos,mediqueridas)\n",
      "#Para ponerle color a las barras:\n",
      "N, bins, patches = hist(datos, bins=barras)\n",
      "fracs = N.astype(float)/N.max()\n",
      "norm = colors.Normalize(fracs.min(), fracs.max())\n",
      "for thisfrac, thispatch in zip(fracs, patches):\n",
      "    color = cm.jet(norm(thisfrac))\n",
      "    thispatch.set_facecolor(color)\n",
      "#Requerimientos de presentaci\u00f3n de la gr\u00e1fica\n",
      "xlabel(\"fraccion de datos que Cara aparece\")\n",
      "ylabel (\"Numero de veces que salio un datos\")\n",
      "title (\"Distribucion de datos por fraccion\")\n",
      "\n"
     ],
     "language": "python",
     "metadata": {},
     "outputs": [
      {
       "output_type": "stream",
       "stream": "stdout",
       "text": [
        "El numero de intentos por medidda deseados a tomar es: 4000.0\n",
        "El numero de medidas deseadas a tomar es: 1000.0\n"
       ]
      },
      {
       "output_type": "pyout",
       "prompt_number": 82,
       "text": [
        "<matplotlib.text.Text at 0x25fdb50>"
       ]
      },
      {
       "output_type": "display_data",
       "png": "[encoded data removed]",
       "text": [
        "<matplotlib.figure.Figure at 0x21de1d0>"
       ]
      }
     ],
     "prompt_number": 82
    },
    {
     "cell_type": "code",
     "collapsed": false,
     "input": [
      "#Desviaci\u00f3n estandar\n",
      "np.std(datos)\n",
      "#Lista de los valores a calcular su intervalo de confianza\n",
      "Listaval = [0.1, 0.35, 0.4, 1.7]\n",
      "#Centrar la lista de valores en 0.5\n",
      "i =0\n",
      "listafinal=[]\n",
      "numero = 0\n",
      "for i in range(len(Listaval)):\n",
      "    numero = abs(Listaval[i]-0.5)\n",
      "    listafinal.append(numero)\n",
      "    i+=i\n",
      "\n",
      "#Cu\u00e1ntas veces caben esos valores en la desviaci\u00f3n (INTERVALO DE CONFIANZA)\n",
      "\n",
      "sigma = listafinal/(np.std(datos))\n",
      "\n",
      "print\"La desviaci\u00f3n estandar es de:\"\n",
      "print  np.std(datos)\n",
      "print\"El intervalo de confianza es de\"\n",
      "print listafinal, \"sigma, para los n\u00fameros\", Listaval\n",
      "\n"
     ],
     "language": "python",
     "metadata": {},
     "outputs": [
      {
       "output_type": "stream",
       "stream": "stdout",
       "text": [
        "La desviaci\u00f3n estandar es de:\n",
        "0.00773648498593\n",
        "El intervalo de confianza es de\n",
        "[0.4, 0.15000000000000002, 0.09999999999999998, 1.2] sigma, para los n\u00fameros [0.1, 0.35, 0.4, 1.7]\n"
       ]
      }
     ],
     "prompt_number": 83
    },
    {
     "cell_type": "code",
     "collapsed": false,
     "input": [
      "def carassesellos(intentos, mediciones, numeropuntos):\n",
      "    listaexportar = []\n",
      "    listacaras = []\n",
      "    listasellos =[]\n",
      "    listadatos = []\n",
      "    listagraficarx = []\n",
      "    listagraficary = []\n",
      "    j =0         \n",
      "    while j < numeropuntos:\n",
      "        j+=1\n",
      "            \n",
      "        i =0\n",
      "        sello = 0\n",
      "        numcaras = 0\n",
      "        while i < intentos:\n",
      "            i+=1\n",
      "            cara = random.choice([0.0,1.0])\n",
      "            if cara == 1.0:\n",
      "                sello = 0.0\n",
      "            else:\n",
      "                sello = 1.0\n",
      "            listasellos.append(sello)\n",
      "            listacaras.append(cara)\n",
      "        contadorcarasello =0\n",
      "        for contadorcarasello in range (len (listasellos)):\n",
      "            numcaras += listacaras[contadorcarasello]\n",
      "            sello += listasellos[contadorcarasello]\n",
      "        listadatos.append (numcaras/sello)\n",
      "        if j %100 ==0:\n",
      "            listagraficary.append(mean(listadatos))\n",
      "            listagraficarx.append(j)\n",
      "    listaexportar.append(listagraficarx)\n",
      "    listaexportar.append(listagraficary)    \n",
      "    return  listaexportar"
     ],
     "language": "python",
     "metadata": {},
     "outputs": [],
     "prompt_number": 25
    },
    {
     "cell_type": "code",
     "collapsed": false,
     "input": [
      "datos = carassesellos(10.0, 2.0,100)\n",
      "print datos"
     ],
     "language": "python",
     "metadata": {},
     "outputs": [
      {
       "output_type": "stream",
       "stream": "stdout",
       "text": [
        "[[100], [1.1038518991857658]]\n"
       ]
      }
     ],
     "prompt_number": 26
    },
    {
     "cell_type": "code",
     "collapsed": false,
     "input": [
      "datos = carassesellos(25, 2,2000)\n",
      "\n",
      "x = datos[0]\n",
      "y = datos[1]\n",
      "title(\"C/S vs datos\", fontsize=25)\n",
      "plt.ylim(-1,2)\n",
      "plt.ylabel('Promedio del cociente entre cara y sello')\n",
      "plt.xlim(0, 2000)\n",
      "plt.xlabel('Numero de datos')\n",
      "plt.scatter(x, y, c= 'r' )\n",
      "plt.show( )\n",
      "print y\n",
      "\n",
      "print \"La gr\u00e1fica debe permanecer cercana  a 1 pues si ambos datos tienen igual probabilidad, cociente entre ellos en una muestra grande, tiende a ser 1 y m\u00e1s aun cuando se le saca promedio.\""
     ],
     "language": "python",
     "metadata": {},
     "outputs": [
      {
       "output_type": "display_data",
       "png": "[encoded data removed]",
       "text": [
        "<matplotlib.figure.Figure at 0x1576f50>"
       ]
      },
      {
       "output_type": "stream",
       "stream": "stdout",
       "text": [
        "[1.0243353600770153, 1.0311763308560704, 1.028135506155621, 1.0194741452892644, 1.0139558666788069, 1.0093392767585652, 1.0064672105221872, 1.0039829623056991, 1.0016981849591762, 0.99995383343426414, 0.99869472349086852, 0.99774898802927092, 0.99688388263724237, 0.99603653510686962, 0.99518835703050645, 0.9944313163201115, 0.99371138472417464, 0.99294726461421012, 0.99210812998468623, 0.99136354107499058]\n",
        "La gr\u00e1fica debe permanecer cercana  a 1 pues si ambos datos tienen igual probabilidad, cociente entre ellos en una muestra grande, tiende a ser 1 y m\u00e1s aun cuando se le saca promedio.\n"
       ]
      }
     ],
     "prompt_number": 30
    },
    {
     "cell_type": "code",
     "collapsed": false,
     "input": [],
     "language": "python",
     "metadata": {},
     "outputs": []
    }
   ],
   "metadata": {}
  }
 ]
}