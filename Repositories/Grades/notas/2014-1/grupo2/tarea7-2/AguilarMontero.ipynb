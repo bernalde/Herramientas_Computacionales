{
 "metadata": {
  "name": "coinflip"
 },
 "nbformat": 3,
 "nbformat_minor": 0,
 "worksheets": [
  {
   "cells": [
    {
     "cell_type": "code",
     "collapsed": false,
     "input": [
      "%pylab inline"
     ],
     "language": "python",
     "metadata": {},
     "outputs": [
      {
       "output_type": "stream",
       "stream": "stdout",
       "text": [
        "\n",
        "Welcome to pylab, a matplotlib-based Python environment [backend: module://IPython.kernel.zmq.pylab.backend_inline].\n",
        "For more information, type 'help(pylab)'.\n"
       ]
      }
     ],
     "prompt_number": 8
    },
    {
     "cell_type": "code",
     "collapsed": false,
     "input": [
      "def lanzamientos(N_trials, M_measurements):\n",
      "    k=0\n",
      "    suma=[ ]\n",
      "    while k<M_measurements:\n",
      "        k+=1\n",
      "        cara=0\n",
      "        sello=0\n",
      "        i=0\n",
      "        while i<N_trials:\n",
      "            i+=1\n",
      "            num = np.random.randint(0,2)\n",
      "            if num==0:\n",
      "                cara+=1\n",
      "            elif num==1:\n",
      "                sello+=1\n",
      "        f=cara/N_trials\n",
      "        suma.append(f)\n",
      "    return suma"
     ],
     "language": "python",
     "metadata": {},
     "outputs": [],
     "prompt_number": 17
    },
    {
     "cell_type": "code",
     "collapsed": false,
     "input": [
      "suma=lanzamientos(20000.0,1000)"
     ],
     "language": "python",
     "metadata": {},
     "outputs": [],
     "prompt_number": 18
    },
    {
     "cell_type": "code",
     "collapsed": false,
     "input": [
      "hist(suma, bins=10)\n",
      "xlabel(\"Fracciones de porcentaje\")"
     ],
     "language": "python",
     "metadata": {},
     "outputs": [
      {
       "output_type": "pyout",
       "prompt_number": 19,
       "text": [
        "<matplotlib.text.Text at 0x27fce90>"
       ]
      },
      {
       "output_type": "display_data",
       "png": "[encoded data removed]",
       "text": [
        "<matplotlib.figure.Figure at 0x2571690>"
       ]
      }
     ],
     "prompt_number": 19
    },
    {
     "cell_type": "code",
     "collapsed": false,
     "input": [
      "sigma = np.std(suma)\n",
      "desv = 0.5+sigma\n",
      "\n",
      "num1 = 0.1\n",
      "num2= 0.35\n",
      "num3= 0.4\n",
      "num4= 1.7\n",
      "\n",
      "print num1/sigma \n",
      "print num2/sigma\n",
      "print num3/sigma\n",
      "print num4/sigma\n",
      "print sigma\n",
      "\n",
      "print \"sigma de 0.1 es 27, de 0.35 es 96, de 0.4 es 109 y de 1.7 es 464 (esto es un estimativo, pues los datos var\u00edan al ejecutar el m\u00e9todo.\""
     ],
     "language": "python",
     "metadata": {},
     "outputs": [
      {
       "output_type": "stream",
       "stream": "stdout",
       "text": [
        "27.3089006541\n",
        "95.5811522894\n",
        "109.235602616\n",
        "464.25131112\n",
        "0.00366180979845\n",
        "sigma de 0.1 es 27, de 0.35 es 96, de 0.4 es 109 y de 1.7 es 464.\n"
       ]
      }
     ],
     "prompt_number": 48
    },
    {
     "cell_type": "code",
     "collapsed": false,
     "input": [
      "print desv\n"
     ],
     "language": "python",
     "metadata": {},
     "outputs": [
      {
       "output_type": "stream",
       "stream": "stdout",
       "text": [
        "0.503661809798\n"
       ]
      }
     ],
     "prompt_number": 43
    },
    {
     "cell_type": "code",
     "collapsed": false,
     "input": [
      "def lanzamientos2(N_trials, M_measurements):\n",
      "    \n",
      "    lanz=[ ]\n",
      "    resta=[ ]\n",
      "    \n",
      "    \n",
      "    while N_trials<10001:\n",
      "    \n",
      "        k=0\n",
      "        suma2=[ ]\n",
      "        caras=[ ]\n",
      "        sellos=[ ]\n",
      "        while k<M_measurements:\n",
      "            k+=1\n",
      "            cara=0\n",
      "            sello=0\n",
      "            i=0\n",
      "            while i<N_trials:\n",
      "                i+=1\n",
      "                num = np.random.randint(0,2)\n",
      "                if num==0:\n",
      "                    cara+=1\n",
      "                elif num==1:\n",
      "                    sello+=1\n",
      "            caras.append(cara)\n",
      "            sellos.append(sello)\n",
      "        \n",
      "        x=mean(caras)\n",
      "        y=mean(sellos)\n",
      "        f=abs(x-y)\n",
      "        \n",
      "        resta.append(f)\n",
      "        lanz.append(N_trials)\n",
      "        \n",
      "        N_trials+=1000\n",
      "    \n",
      "    \n",
      "    return resta,lanz\n",
      "   \n"
     ],
     "language": "python",
     "metadata": {},
     "outputs": [],
     "prompt_number": 35
    },
    {
     "cell_type": "code",
     "collapsed": false,
     "input": [
      "a, b=lanzamientos2(1000.0,20)\n",
      "c, d=lanzamientos2(1000.0,40)\n",
      "\n",
      "\n",
      "\n",
      "scatter(b,a)\n",
      "scatter(d,c, c=\"r\")\n",
      "ylabel(\"abs(caras-sellos)\")\n",
      "xlabel(\"lanzamientos\")"
     ],
     "language": "python",
     "metadata": {},
     "outputs": [
      {
       "output_type": "pyout",
       "prompt_number": 38,
       "text": [
        "<matplotlib.text.Text at 0x39c6f90>"
       ]
      },
      {
       "output_type": "display_data",
       "png": "[encoded data removed]",
       "text": [
        "<matplotlib.figure.Figure at 0x3729b10>"
       ]
      }
     ],
     "prompt_number": 38
    },
    {
     "cell_type": "code",
     "collapsed": false,
     "input": [
      "def lanzamientos3(N_trials, M_measurements):\n",
      "    \n",
      "    lanz=[ ]\n",
      "    razon=[ ]\n",
      "    \n",
      "    \n",
      "    while N_trials<10001:\n",
      "    \n",
      "        k=0\n",
      "        suma2=[ ]\n",
      "        caras=[ ]\n",
      "        sellos=[ ]\n",
      "        while k<M_measurements:\n",
      "            k+=1\n",
      "            cara=0\n",
      "            sello=0\n",
      "            i=0\n",
      "            while i<N_trials:\n",
      "                i+=1\n",
      "                num = np.random.randint(0,2)\n",
      "                if num==0:\n",
      "                    cara+=1\n",
      "                elif num==1:\n",
      "                    sello+=1\n",
      "            caras.append(cara)\n",
      "            sellos.append(sello)\n",
      "        \n",
      "        x=mean(caras)\n",
      "        y=mean(sellos)\n",
      "        f=x/y\n",
      "        \n",
      "        razon.append(f)\n",
      "        lanz.append(N_trials)\n",
      "        \n",
      "        N_trials+=1000\n",
      "    \n",
      "    \n",
      "    return razon,lanz"
     ],
     "language": "python",
     "metadata": {},
     "outputs": [],
     "prompt_number": 39
    },
    {
     "cell_type": "code",
     "collapsed": false,
     "input": [
      "e, f=lanzamientos3(1000.0, 20)\n",
      "g, h=lanzamientos3(1000.0, 40)\n",
      "\n",
      "scatter(f,e)\n",
      "scatter(h,g, c=\"r\")\n",
      "ylabel(\"razon cara/sello\")\n",
      "xlabel(\"lanzamientos\")\n"
     ],
     "language": "python",
     "metadata": {},
     "outputs": [
      {
       "output_type": "pyout",
       "prompt_number": 41,
       "text": [
        "<matplotlib.text.Text at 0x3b2d090>"
       ]
      },
      {
       "output_type": "display_data",
       "png": "[encoded data removed]",
       "text": [
        "<matplotlib.figure.Figure at 0x37027d0>"
       ]
      }
     ],
     "prompt_number": 41
    },
    {
     "cell_type": "code",
     "collapsed": false,
     "input": [],
     "language": "python",
     "metadata": {},
     "outputs": []
    }
   ],
   "metadata": {}
  }
 ]
}