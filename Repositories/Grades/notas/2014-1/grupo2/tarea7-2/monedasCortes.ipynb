{
 "metadata": {
  "name": "monedasCortes"
 },
 "nbformat": 3,
 "nbformat_minor": 0,
 "worksheets": [
  {
   "cells": [
    {
     "cell_type": "code",
     "collapsed": false,
     "input": [
      "%pylab inline\n"
     ],
     "language": "python",
     "metadata": {},
     "outputs": [
      {
       "output_type": "stream",
       "stream": "stdout",
       "text": [
        "\n",
        "Welcome to pylab, a matplotlib-based Python environment [backend: module://IPython.kernel.zmq.pylab.backend_inline].\n",
        "For more information, type 'help(pylab)'.\n"
       ]
      }
     ],
     "prompt_number": 12
    },
    {
     "cell_type": "code",
     "collapsed": false,
     "input": [
      "def mediciones(Numerolanzamientos, NumeroMediciones):\n",
      "    i=0.0\n",
      "    z=0.0\n",
      "    y=0.0\n",
      "    moneda = []\n",
      "    moneda2 = []\n",
      "    while i < NumeroMediciones:\n",
      "        i+=1.0\n",
      "        c=0.0\n",
      "        s=0.0   \n",
      "        p=0.0 \n",
      "        while p < Numerolanzamientos:\n",
      "            p+=1.0\n",
      "            x = np.random.randint(0,2)\n",
      "            if x == 0:\n",
      "                c+=1.0\n",
      "            else:\n",
      "                s+=1.0\n",
      "        z= c/Numerolanzamientos\n",
      "        moneda.append(z)\n",
      "        y= s/Numerolanzamientos\n",
      "        moneda2.append(y)  \n",
      "    return moneda"
     ],
     "language": "python",
     "metadata": {},
     "outputs": [],
     "prompt_number": 54
    },
    {
     "cell_type": "code",
     "collapsed": false,
     "input": [
      "moneda = mediciones(1000.0, 10200.0)"
     ],
     "language": "python",
     "metadata": {},
     "outputs": [],
     "prompt_number": 36
    },
    {
     "cell_type": "code",
     "collapsed": false,
     "input": [
      "hist(moneda, bins=11)\n",
      "xlabel(\"fracciones de lanzamiento de moneda (Caras)\", fontsize=12)\n",
      "ylabel(\"total lanzamientos en todas las mediciones\", fontsize=12)\n",
      "title(\"Distribucion normal del lanzamiento de una moneda\", fontsize=15, color='r')"
     ],
     "language": "python",
     "metadata": {},
     "outputs": [
      {
       "output_type": "pyout",
       "prompt_number": 37,
       "text": [
        "<matplotlib.text.Text at 0x3e0ef10>"
       ]
      },
      {
       "output_type": "display_data",
       "png": "[encoded data removed]",
       "text": [
        "<matplotlib.figure.Figure at 0x3df7fd0>"
       ]
      }
     ],
     "prompt_number": 37
    },
    {
     "cell_type": "code",
     "collapsed": false,
     "input": [
      "w = np.std(moneda)\n",
      "print w"
     ],
     "language": "python",
     "metadata": {},
     "outputs": [
      {
       "output_type": "stream",
       "stream": "stdout",
       "text": [
        "0.0158328235549\n"
       ]
      }
     ],
     "prompt_number": 38
    },
    {
     "cell_type": "code",
     "collapsed": false,
     "input": [
      "z = (sum(moneda))/(len(moneda))\n",
      "print z"
     ],
     "language": "python",
     "metadata": {},
     "outputs": [
      {
       "output_type": "stream",
       "stream": "stdout",
       "text": [
        "0.499890490196\n"
       ]
      }
     ],
     "prompt_number": 39
    },
    {
     "cell_type": "code",
     "collapsed": false,
     "input": [
      "def intervalo(fraccion1):\n",
      "    a=0.0\n",
      "    b=0.0\n",
      "    while b == 0:\n",
      "        a+=1.0\n",
      "        if ((z-(a*w)) <= fraccion1 <= (z+(a*w))):\n",
      "            b+=1.0\n",
      "    print \"la fraccion\", fraccion1, \"esta en el\", a, \"intervalo de confianza\"\n",
      "            \n",
      "        \n",
      "        \n",
      "    "
     ],
     "language": "python",
     "metadata": {},
     "outputs": [],
     "prompt_number": 40
    },
    {
     "cell_type": "code",
     "collapsed": false,
     "input": [
      "intervalo(0.1)"
     ],
     "language": "python",
     "metadata": {},
     "outputs": [
      {
       "output_type": "stream",
       "stream": "stdout",
       "text": [
        "la fraccion 0.1 esta en el 26.0 intervalo de confianza\n"
       ]
      }
     ],
     "prompt_number": 41
    },
    {
     "cell_type": "code",
     "collapsed": false,
     "input": [
      "intervalo(0.35)\n"
     ],
     "language": "python",
     "metadata": {},
     "outputs": [
      {
       "output_type": "stream",
       "stream": "stdout",
       "text": [
        "la fraccion 0.35 esta en el 10.0 intervalo de confianza\n"
       ]
      }
     ],
     "prompt_number": 42
    },
    {
     "cell_type": "code",
     "collapsed": false,
     "input": [
      "intervalo(0.4)"
     ],
     "language": "python",
     "metadata": {},
     "outputs": [
      {
       "output_type": "stream",
       "stream": "stdout",
       "text": [
        "la fraccion 0.4 esta en el 7.0 intervalo de confianza\n"
       ]
      }
     ],
     "prompt_number": 43
    },
    {
     "cell_type": "code",
     "collapsed": false,
     "input": [
      "intervalo(1.7)"
     ],
     "language": "python",
     "metadata": {},
     "outputs": [
      {
       "output_type": "stream",
       "stream": "stdout",
       "text": [
        "la fraccion 1.7 esta en el 76.0 intervalo de confianza\n"
       ]
      }
     ],
     "prompt_number": 44
    },
    {
     "cell_type": "code",
     "collapsed": false,
     "input": [
      "hist(moneda, bins=11)\n",
      "xlabel(\"fracciones de lanzamiento de moneda (Caras)\", fontsize=12)\n",
      "ylabel(\"total lanzamientos en todas las mediciones\", fontsize=12)\n",
      "title(\"Distribucion normal del lanzamiento de una moneda\", fontsize=15, color='r')\n",
      "axvline((z+w), c='y', linewidth=2.5)\n",
      "axvline((z-w), c ='y', linewidth=2.5)\n",
      "axvline((z+(2*w)), c='r', linewidth=2.5)\n",
      "axvline((z-(2*w)), c ='r', linewidth=2.5)\n",
      "axvline((z+(3*w)), c='g', linewidth=2.5)\n",
      "axvline((z-(3*w)), c ='g', linewidth=2.5)"
     ],
     "language": "python",
     "metadata": {},
     "outputs": [
      {
       "output_type": "pyout",
       "prompt_number": 48,
       "text": [
        "<matplotlib.lines.Line2D at 0x4485250>"
       ]
      },
      {
       "output_type": "display_data",
       "png": "[encoded data removed]",
       "text": [
        "<matplotlib.figure.Figure at 0x4255810>"
       ]
      }
     ],
     "prompt_number": 48
    },
    {
     "cell_type": "code",
     "collapsed": false,
     "input": [
      "def mediciones2(Numerolanzamientos, NumeroMediciones, repetir, mascuanto):\n",
      "    f=0.0\n",
      "    d=0.0\n",
      "    e=0.0\n",
      "    h= []\n",
      "    k= []\n",
      "    while f <= repetir:\n",
      "        f+=1\n",
      "        i=0.0\n",
      "        while i < NumeroMediciones:\n",
      "            i+=1.0\n",
      "            c=0.0\n",
      "            s=0.0   \n",
      "            p=0.0 \n",
      "            while p < (Numerolanzamientos+((f-1)*mascuanto)):\n",
      "                p+=1.0\n",
      "                o = np.random.randint(0,2)\n",
      "                if o == 0:\n",
      "                    c+=1.0\n",
      "                else:\n",
      "                    s+=1.0\n",
      "            d+=c\n",
      "            e+=s\n",
      "        h.append(abs(d-e))\n",
      "        k.append(f)\n",
      "    return h,k\n",
      "        \n",
      "\n",
      "        "
     ],
     "language": "python",
     "metadata": {},
     "outputs": [],
     "prompt_number": 69
    },
    {
     "cell_type": "code",
     "collapsed": false,
     "input": [
      "v, n = mediciones2(1000.0, 10000.0, 20.0, 100.0)"
     ],
     "language": "python",
     "metadata": {},
     "outputs": [
      {
       "ename": "KeyboardInterrupt",
       "evalue": "",
       "output_type": "pyerr",
       "traceback": [
        "\u001b[1;31m---------------------------------------------------------------------------\u001b[0m\n\u001b[1;31mKeyboardInterrupt\u001b[0m                         Traceback (most recent call last)",
        "\u001b[1;32m<ipython-input-70-be23ea89715b>\u001b[0m in \u001b[0;36m<module>\u001b[1;34m()\u001b[0m\n\u001b[1;32m----> 1\u001b[1;33m \u001b[0mv\u001b[0m\u001b[1;33m,\u001b[0m \u001b[0mn\u001b[0m \u001b[1;33m=\u001b[0m \u001b[0mmediciones2\u001b[0m\u001b[1;33m(\u001b[0m\u001b[1;36m1000.0\u001b[0m\u001b[1;33m,\u001b[0m \u001b[1;36m10000.0\u001b[0m\u001b[1;33m,\u001b[0m \u001b[1;36m20.0\u001b[0m\u001b[1;33m,\u001b[0m \u001b[1;36m100.0\u001b[0m\u001b[1;33m)\u001b[0m\u001b[1;33m\u001b[0m\u001b[0m\n\u001b[0m",
        "\u001b[1;32m<ipython-input-69-69e78cd8870e>\u001b[0m in \u001b[0;36mmediciones2\u001b[1;34m(Numerolanzamientos, NumeroMediciones, repetir, mascuanto)\u001b[0m\n\u001b[0;32m     13\u001b[0m             \u001b[0ms\u001b[0m\u001b[1;33m=\u001b[0m\u001b[1;36m0.0\u001b[0m\u001b[1;33m\u001b[0m\u001b[0m\n\u001b[0;32m     14\u001b[0m             \u001b[0mp\u001b[0m\u001b[1;33m=\u001b[0m\u001b[1;36m0.0\u001b[0m\u001b[1;33m\u001b[0m\u001b[0m\n\u001b[1;32m---> 15\u001b[1;33m             \u001b[1;32mwhile\u001b[0m \u001b[0mp\u001b[0m \u001b[1;33m<\u001b[0m \u001b[1;33m(\u001b[0m\u001b[0mNumerolanzamientos\u001b[0m\u001b[1;33m+\u001b[0m\u001b[1;33m(\u001b[0m\u001b[1;33m(\u001b[0m\u001b[0mf\u001b[0m\u001b[1;33m-\u001b[0m\u001b[1;36m1\u001b[0m\u001b[1;33m)\u001b[0m\u001b[1;33m*\u001b[0m\u001b[0mmascuanto\u001b[0m\u001b[1;33m)\u001b[0m\u001b[1;33m)\u001b[0m\u001b[1;33m:\u001b[0m\u001b[1;33m\u001b[0m\u001b[0m\n\u001b[0m\u001b[0;32m     16\u001b[0m                 \u001b[0mp\u001b[0m\u001b[1;33m+=\u001b[0m\u001b[1;36m1.0\u001b[0m\u001b[1;33m\u001b[0m\u001b[0m\n\u001b[0;32m     17\u001b[0m                 \u001b[0mo\u001b[0m \u001b[1;33m=\u001b[0m \u001b[0mnp\u001b[0m\u001b[1;33m.\u001b[0m\u001b[0mrandom\u001b[0m\u001b[1;33m.\u001b[0m\u001b[0mrandint\u001b[0m\u001b[1;33m(\u001b[0m\u001b[1;36m0\u001b[0m\u001b[1;33m,\u001b[0m\u001b[1;36m2\u001b[0m\u001b[1;33m)\u001b[0m\u001b[1;33m\u001b[0m\u001b[0m\n",
        "\u001b[1;31mKeyboardInterrupt\u001b[0m: "
       ]
      }
     ],
     "prompt_number": 70
    },
    {
     "cell_type": "code",
     "collapsed": false,
     "input": [
      "plt.scatter(v, n)"
     ],
     "language": "python",
     "metadata": {},
     "outputs": []
    },
    {
     "cell_type": "code",
     "collapsed": false,
     "input": [],
     "language": "python",
     "metadata": {},
     "outputs": []
    },
    {
     "cell_type": "code",
     "collapsed": false,
     "input": [],
     "language": "python",
     "metadata": {},
     "outputs": []
    }
   ],
   "metadata": {}
  }
 ]
}