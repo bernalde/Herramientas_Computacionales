{
 "metadata": {
  "name": "Ber\u00f3nOrtiz"
 },
 "nbformat": 3,
 "nbformat_minor": 0,
 "worksheets": [
  {
   "cells": [
    {
     "cell_type": "code",
     "collapsed": false,
     "input": [
      "%pylab inline"
     ],
     "language": "python",
     "metadata": {},
     "outputs": [
      {
       "output_type": "stream",
       "stream": "stdout",
       "text": [
        "\n",
        "Welcome to pylab, a matplotlib-based Python environment [backend: module://IPython.kernel.zmq.pylab.backend_inline].\n",
        "For more information, type 'help(pylab)'.\n"
       ]
      }
     ],
     "prompt_number": 2
    },
    {
     "cell_type": "code",
     "collapsed": false,
     "input": [
      "def bisection(x, n, epsilon):\n",
      "    min_number = 0.0\n",
      "    max_number = max(1.0,x)\n",
      "    root = (min_number + max_number)/2.0\n",
      "    print root\n",
      "    iterations = 0\n",
      "\n",
      "    while abs(root**n - x)> epsilon:\n",
      "        iterations += 1\n",
      "        if root**n < x:\n",
      "            min_number = root\n",
      "        elif root**n > x:\n",
      "            max_number = root\n",
      "        root = (min_number + max_number)/2.0\n",
      "    print \"La raiz \", n,\" de\", x, \"es: \",root \n",
      "    print \"El numero de iteraciones para encontrar esta raiz fueron: \", iterations\n",
      "    \n",
      "    #El valor m\u00e1ximo va de 1 a x porque si el n\u00f9mero al que se le est\u00e1 buscando la raiz es menor a 1 siempre la raiz ser\u00e0 menor que 1"
     ],
     "language": "python",
     "metadata": {},
     "outputs": [],
     "prompt_number": 37
    },
    {
     "cell_type": "code",
     "collapsed": false,
     "input": [
      "bisection (0.5, 3, 0.0000001)"
     ],
     "language": "python",
     "metadata": {},
     "outputs": [
      {
       "output_type": "stream",
       "stream": "stdout",
       "text": [
        "0.5\n",
        "La raiz  3  de 0.5 es:  0.793700575829\n",
        "El numero de iteraciones para encontrar esta raiz fueron:  22\n"
       ]
      }
     ],
     "prompt_number": 39
    },
    {
     "cell_type": "code",
     "collapsed": false,
     "input": [],
     "language": "python",
     "metadata": {},
     "outputs": []
    }
   ],
   "metadata": {}
  }
 ]
}