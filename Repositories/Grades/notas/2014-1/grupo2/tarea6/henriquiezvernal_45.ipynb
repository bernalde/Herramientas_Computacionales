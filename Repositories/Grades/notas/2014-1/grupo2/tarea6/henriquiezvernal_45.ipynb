{
 "metadata": {
  "name": "henriquez bernal"
 },
 "nbformat": 3,
 "nbformat_minor": 0,
 "worksheets": [
  {
   "cells": [
    {
     "cell_type": "code",
     "collapsed": false,
     "input": "def raiz(x, y, n):\n    xmin = 0.0\n    xmax = x\n    r = (xmin + xmax)/2.0\n    i = 0\n\n    while abs(r**n - x)> y:\n        i += 1\n        if r**n < x:\n           xmin = r\n        elif r**n > x:\n            xmax = r\n        r = (xmax + xmin)/2.0\n    print \"La raiz\" , n, \"de\", x, \"es: \",r\n    print \"El numero de iteraciones para encontrar esta raiz fueron: \", i",
     "language": "python",
     "metadata": {},
     "outputs": [],
     "prompt_number": 6
    },
    {
     "cell_type": "code",
     "collapsed": false,
     "input": "raiz(27, 0.001, 3)",
     "language": "python",
     "metadata": {},
     "outputs": [
      {
       "output_type": "stream",
       "stream": "stdout",
       "text": "La raiz 3 de 27 es:  2.99998855591\nEl numero de iteraciones para encontrar esta raiz fueron:  17\n"
      }
     ],
     "prompt_number": 7
    },
    {
     "cell_type": "code",
     "collapsed": false,
     "input": "",
     "language": "python",
     "metadata": {},
     "outputs": []
    }
   ],
   "metadata": {}
  }
 ]
}