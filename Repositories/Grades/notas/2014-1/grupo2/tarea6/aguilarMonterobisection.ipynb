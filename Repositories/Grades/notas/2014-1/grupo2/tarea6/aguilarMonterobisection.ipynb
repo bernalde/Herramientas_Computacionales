{
 "metadata": {
  "name": "juan guillermo aguilar - bisection"
 },
 "nbformat": 3,
 "nbformat_minor": 0,
 "worksheets": [
  {
   "cells": [
    {
     "cell_type": "code",
     "collapsed": false,
     "input": [
      "\n",
      "%pylab inline\n"
     ],
     "language": "python",
     "metadata": {},
     "outputs": [],
     "prompt_number": 1
    },
    {
     "cell_type": "code",
     "collapsed": false,
     "input": [
      "def bisection(x, epsilon, N):\n",
      "    min_number = 0.0\n",
      "    max_number = max(1.0,x)\n",
      "    root = (min_number + max_number)/2.0\n",
      "    print root\n",
      "    iterations = 0\n",
      "\n",
      "    while abs(root**N - x)> epsilon:\n",
      "        iterations += 1\n",
      "        if root**N < x:\n",
      "            min_number = root\n",
      "        elif root**N > x:\n",
      "            max_number = root\n",
      "        root = (min_number + max_number)/2.0\n",
      "    print \"La raiz \",N, \" de\", x, \"es: \",root \n",
      "    print \"El numero de iteraciones para encontrar esta raiz fueron: \", iterations\n",
      "    \n",
      "    \n",
      "   \n"
     ],
     "language": "python",
     "metadata": {},
     "outputs": [],
     "prompt_number": 10
    },
    {
     "cell_type": "raw",
     "metadata": {},
     "source": [
      "La raz\u00f2n por la cual max_number es igual a max(1.0,x) es "
     ]
    },
    {
     "cell_type": "code",
     "collapsed": false,
     "input": [
      "bisection(0.2,0.000000001,2)"
     ],
     "language": "python",
     "metadata": {},
     "outputs": [
      {
       "output_type": "stream",
       "stream": "stdout",
       "text": [
        "0.5\n",
        "La raiz  2  de 0.2 es:  0.447213595733\n",
        "El numero de iteraciones para encontrar esta raiz fueron:  28\n"
       ]
      }
     ],
     "prompt_number": 11
    },
    {
     "cell_type": "code",
     "collapsed": false,
     "input": [],
     "language": "python",
     "metadata": {},
     "outputs": []
    }
   ],
   "metadata": {}
  }
 ]
}