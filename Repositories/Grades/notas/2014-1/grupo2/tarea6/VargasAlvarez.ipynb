{
 "metadata": {
  "name": "raizn-\u00e9simaVargasAlvarez"
 },
 "nbformat": 3,
 "nbformat_minor": 0,
 "worksheets": [
  {
   "cells": [
    {
     "cell_type": "code",
     "collapsed": false,
     "input": [
      "%pylab inline\n"
     ],
     "language": "python",
     "metadata": {},
     "outputs": [
      {
       "output_type": "stream",
       "stream": "stdout",
       "text": [
        "\n",
        "Welcome to pylab, a matplotlib-based Python environment [backend: module://IPython.kernel.zmq.pylab.backend_inline].\n",
        "For more information, type 'help(pylab)'.\n"
       ]
      }
     ],
     "prompt_number": 43
    },
    {
     "cell_type": "code",
     "collapsed": false,
     "input": [
      "def bisection(x, eps, n):\n",
      "    xmin = 0.0\n",
      "    xmax = max(1.0, x)\n",
      "    r = (xmax + xmin)/2.0\n",
      "    \n",
      "    while(abs(r**n - x) > eps):\n",
      "        if(r**n < x):\n",
      "            xmin = r\n",
      "        elif(r**n > x):\n",
      "            xmax = r\n",
      "        r = (xmax + xmin)/2.0\n",
      "    print \"la ra\u00edz \", n, \" de \", x, \" es: \", r"
     ],
     "language": "python",
     "metadata": {},
     "outputs": [],
     "prompt_number": 46
    },
    {
     "cell_type": "raw",
     "metadata": {},
     "source": [
      "**Se toma desde 1.0 porque cualquier n\u00famero menor que 1.0 al cuadrado es menor que 1.0."
     ]
    },
    {
     "cell_type": "code",
     "collapsed": false,
     "input": [
      "bisection(27, 0.001, 3)"
     ],
     "language": "python",
     "metadata": {},
     "outputs": [
      {
       "output_type": "stream",
       "stream": "stdout",
       "text": [
        "la ra\u00edz  3  de  27  es:  2.99998855591\n"
       ]
      }
     ],
     "prompt_number": 48
    },
    {
     "cell_type": "code",
     "collapsed": false,
     "input": [],
     "language": "python",
     "metadata": {},
     "outputs": []
    }
   ],
   "metadata": {}
  }
 ]
}