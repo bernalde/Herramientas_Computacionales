{
 "metadata": {
  "name": "patinopazbiseccion"
 },
 "nbformat": 3,
 "nbformat_minor": 0,
 "worksheets": [
  {
   "cells": [
    {
     "cell_type": "code",
     "collapsed": false,
     "input": [
      "%pylab inline"
     ],
     "language": "python",
     "metadata": {},
     "outputs": [
      {
       "output_type": "stream",
       "stream": "stdout",
       "text": [
        "\n",
        "Welcome to pylab, a matplotlib-based Python environment [backend: module://IPython.kernel.zmq.pylab.backend_inline].\n",
        "For more information, type 'help(pylab)'.\n"
       ]
      }
     ],
     "prompt_number": 1
    },
    {
     "cell_type": "code",
     "collapsed": false,
     "input": [
      "def bisection(x, epsilon, n):\n",
      "    min_number = 0.0\n",
      "    max_number = max(1.0,x)\n",
      "    root = (min_number + max_number)/2.0\n",
      "    print root\n",
      "    iterations = 0\n",
      "\n",
      "    while abs(root**n - x)> epsilon:\n",
      "        iterations += 1\n",
      "        if root**n < x:\n",
      "            min_number = root\n",
      "        elif root**n > x:\n",
      "            max_number = root\n",
      "        root = (min_number + max_number)/2.0\n",
      "    print \"La raiz\", n, \"de\", x, \"es: \",root \n",
      "    print \"El numero de iteraciones para encontrar esta raiz fueron: \", iterations\n",
      "    print \"Se debe escoger para el numero m\u00e1ximo de la bisecci\u00f3n entre 1 y x porque si x es menor a 1 el la raiz va a ser mayor a x. Es por esto que en la definici\u00f3n de root inicial se debe tomar en cuenta 1 para empezar desde un n\u00famero mayor a x si x es menor a 1.\"\n",
      "    "
     ],
     "language": "python",
     "metadata": {},
     "outputs": [],
     "prompt_number": 15
    },
    {
     "cell_type": "code",
     "collapsed": false,
     "input": [
      "bisection (0.25, 0.01, 2)"
     ],
     "language": "python",
     "metadata": {},
     "outputs": [
      {
       "output_type": "stream",
       "stream": "stdout",
       "text": [
        "0.5\n",
        "La raiz 2 de 0.25 es:  0.5\n",
        "El numero de iteraciones para encontrar esta raiz fueron:  0\n",
        "Se debe escoger para el numero m\u00e1ximo de la bisecci\u00f3n entre 1 y x porque si x es menor a 1 el la raiz va a ser mayor a x. Es por esto que en la definici\u00f3n de root inicial se debe tomar en cuenta 1 para empezar desde un n\u00famero mayor a x si x es menor a 1.\n"
       ]
      }
     ],
     "prompt_number": 17
    },
    {
     "cell_type": "code",
     "collapsed": false,
     "input": [],
     "language": "python",
     "metadata": {},
     "outputs": []
    }
   ],
   "metadata": {}
  }
 ]
}