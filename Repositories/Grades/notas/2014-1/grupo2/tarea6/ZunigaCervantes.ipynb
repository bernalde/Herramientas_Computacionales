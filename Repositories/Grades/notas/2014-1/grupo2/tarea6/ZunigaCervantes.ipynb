{
 "metadata": {
  "name": "Untitled4"
 },
 "nbformat": 3,
 "nbformat_minor": 0,
 "worksheets": [
  {
   "cells": [
    {
     "cell_type": "code",
     "collapsed": false,
     "input": [
      "def bisection(x, epsilon, indiceraiz):\n",
      "    N = x\n",
      "    xmin = 0\n",
      "    xmax = max(1.0,x)\n",
      "    xfi= 0\n",
      "    x0 = (xmin+xmax)/2.0\n",
      "    while (abs(x0**indiceraiz - N)>epsilon ):\n",
      "        if (x0**indiceraiz > N):\n",
      "            xmax = x0\n",
      "        elif(x0**indiceraiz<N):\n",
      "            xmin = x0\n",
      "        x0 = (xmin+xmax)/2.0\n",
      "    print \"La raiz cuadrada del numero es:\", x0\n",
      "    print \"Est\u00e1 entre 1 y x el rango de xmax porque: si est\u00e1 entre 0 y 1 la ra\u00edz cudrada es m\u00e1s grande que el n\u00famero al que se le desea sacar la ra\u00edz cuadrada\"  \n",
      "    \n",
      "    \n"
     ],
     "language": "python",
     "metadata": {},
     "outputs": [],
     "prompt_number": 32
    },
    {
     "cell_type": "code",
     "collapsed": false,
     "input": [
      "bisection(0.1,0.00001, 2)"
     ],
     "language": "python",
     "metadata": {},
     "outputs": [
      {
       "output_type": "stream",
       "stream": "stdout",
       "text": [
        "La raiz cuadrada del numero es: 0.316223144531\n",
        "Est\u00e1 entre 1 y x el rango de xmax porque: si est\u00e1 entre 0 y 1 la ra\u00edz cudrada es m\u00e1s grande que el n\u00famero al que se le desea sacar la ra\u00edz cuadrada\n"
       ]
      }
     ],
     "prompt_number": 33
    },
    {
     "cell_type": "code",
     "collapsed": false,
     "input": [],
     "language": "python",
     "metadata": {},
     "outputs": [],
     "prompt_number": 12
    },
    {
     "cell_type": "code",
     "collapsed": false,
     "input": [
      "c"
     ],
     "language": "python",
     "metadata": {},
     "outputs": [],
     "prompt_number": "*"
    },
    {
     "cell_type": "code",
     "collapsed": false,
     "input": [
      "\n"
     ],
     "language": "python",
     "metadata": {},
     "outputs": [
      {
       "output_type": "stream",
       "stream": "stdout",
       "text": [
        "5\n"
       ]
      }
     ],
     "prompt_number": 36
    },
    {
     "cell_type": "code",
     "collapsed": false,
     "input": [],
     "language": "python",
     "metadata": {},
     "outputs": []
    }
   ],
   "metadata": {}
  }
 ]
}