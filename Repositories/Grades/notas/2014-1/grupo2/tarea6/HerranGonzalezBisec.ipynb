{
 "metadata": {
  "name": "HerranGonzalezBisec"
 },
 "nbformat": 3,
 "nbformat_minor": 0,
 "worksheets": [
  {
   "cells": [
    {
     "cell_type": "code",
     "collapsed": false,
     "input": [
      "def bisection(x, epsilon, n):\n",
      "    min_number = 0.0\n",
      "    max_number = max(1.0,x)\n",
      "    root = (min_number + max_number)/2.0\n",
      "    print root\n",
      "    iterations = 0\n",
      "\n",
      "    while abs(root**n - x)> epsilon:\n",
      "        iterations += 1\n",
      "        if root**n < x:\n",
      "            min_number = root\n",
      "        elif root**n > x:\n",
      "            max_number = root\n",
      "        root = (min_number + max_number)/2.0\n",
      "    print \"La raiz\", n,  \"de\", x, \"es: \",root \n",
      "    print \"El numero de iteraciones para encontrar esta raiz fueron: \", iterations\n",
      "    print \"La funcion 'max' escoge los intervalos entre 1 y x porque las raices de un numero menor a 1 son mayores a ese mismo numero. Por lo tanto se define desde 1 \""
     ],
     "language": "python",
     "metadata": {},
     "outputs": [],
     "prompt_number": 4
    },
    {
     "cell_type": "code",
     "collapsed": false,
     "input": [
      "bisection(0.5,0.00001,2)"
     ],
     "language": "python",
     "metadata": {},
     "outputs": [
      {
       "output_type": "stream",
       "stream": "stdout",
       "text": [
        "0.5\n",
        "La raiz 2 de 0.5 es:  0.707107543945\n",
        "El numero de iteraciones para encontrar esta raiz fueron:  15\n"
       ]
      }
     ],
     "prompt_number": 15
    },
    {
     "cell_type": "code",
     "collapsed": false,
     "input": [],
     "language": "python",
     "metadata": {},
     "outputs": []
    }
   ],
   "metadata": {}
  }
 ]
}