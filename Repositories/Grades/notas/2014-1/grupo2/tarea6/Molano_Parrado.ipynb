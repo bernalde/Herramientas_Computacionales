{
 "metadata": {
  "name": "Untitled3"
 },
 "nbformat": 3,
 "nbformat_minor": 0,
 "worksheets": [
  {
   "cells": [
    {
     "cell_type": "code",
     "collapsed": false,
     "input": "%pylab inline",
     "language": "python",
     "metadata": {},
     "outputs": [
      {
       "output_type": "stream",
       "stream": "stdout",
       "text": "\nWelcome to pylab, a matplotlib-based Python environment [backend: module://IPython.kernel.zmq.pylab.backend_inline].\nFor more information, type 'help(pylab)'.\n"
      }
     ],
     "prompt_number": 3
    },
    {
     "cell_type": "code",
     "collapsed": false,
     "input": "def bisection(x, epsilon, n):\n    min_number = 0.0\n    max_number = max(0.0,x)\n    root = (min_number + max_number)/2.0\n    print root\n    iterations = 0\n\n    while abs(root**n - x)> epsilon:\n        iterations += 1\n        if root**n < x:\n            min_number = root\n        elif root**n > x:\n            max_number = root\n        root = (min_number + max_number)/2.0\n    print \"La raiz\", n,  \"de\", x, \"es: \",root \n    print \"El numero de iteraciones para encontrar esta raiz fueron: \", iterations\n    \n",
     "language": "python",
     "metadata": {},
     "outputs": [],
     "prompt_number": 24
    },
    {
     "cell_type": "code",
     "collapsed": false,
     "input": "bisection(8, 0.01, 3)\n\n",
     "language": "python",
     "metadata": {},
     "outputs": [
      {
       "output_type": "stream",
       "stream": "stdout",
       "text": "4.0\nLa raiz 3 de 8 es:  2.0\nEl numero de iteraciones para encontrar esta raiz fueron:  1\n"
      }
     ],
     "prompt_number": 25
    },
    {
     "cell_type": "code",
     "collapsed": false,
     "input": "#",
     "language": "python",
     "metadata": {},
     "outputs": [],
     "prompt_number": 12
    },
    {
     "cell_type": "code",
     "collapsed": false,
     "input": "",
     "language": "python",
     "metadata": {},
     "outputs": []
    }
   ],
   "metadata": {}
  }
 ]
}