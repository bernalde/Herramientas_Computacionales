{
 "metadata": {
  "name": "Velasquez"
 },
 "nbformat": 3,
 "nbformat_minor": 0,
 "worksheets": [
  {
   "cells": [
    {
     "cell_type": "code",
     "collapsed": false,
     "input": [
      "import numpy as np"
     ],
     "language": "python",
     "metadata": {},
     "outputs": [],
     "prompt_number": 8
    },
    {
     "cell_type": "code",
     "collapsed": false,
     "input": [
      "N = 25\n",
      "xmin = 0\n",
      "xmax = N\n",
      "x = (xmin+xmax)/2.0\n",
      "while abs(x**2-N)>=0.01:\n",
      "    if x**2>N:\n",
      "        xmax = x\n",
      "    if x**2<N:\n",
      "        xmin = x\n",
      "    x = (xmin+xmax)/2.0\n",
      "print x"
     ],
     "language": "python",
     "metadata": {},
     "outputs": [
      {
       "output_type": "stream",
       "stream": "stdout",
       "text": [
        "5.00030517578\n"
       ]
      }
     ],
     "prompt_number": 22
    },
    {
     "cell_type": "code",
     "collapsed": false,
     "input": [
      "def bisection(x, nroot, epsilon):\n",
      "    min_number = 0.0\n",
      "    max_number = max(1.0,x)\n",
      "    root = (min_number + max_number)/2.0\n",
      "    iterations = 0\n",
      "\n",
      "    while abs(root**nroot - x)> epsilon:\n",
      "        iterations += 1\n",
      "        if root**nroot < x:\n",
      "            min_number = root\n",
      "        elif root**nroot > x:\n",
      "            max_number = root\n",
      "        root = (min_number + max_number)/2.0\n",
      "    print \"La raiz\", nroot, \"de\", x, \"es: \",root \n",
      "    print \"El numero de iteraciones para encontrar esta raiz fueron: \", iterations"
     ],
     "language": "python",
     "metadata": {},
     "outputs": [],
     "prompt_number": 34
    },
    {
     "cell_type": "code",
     "collapsed": false,
     "input": [
      "bisection(8, 3, 0.01)"
     ],
     "language": "python",
     "metadata": {},
     "outputs": [
      {
       "output_type": "stream",
       "stream": "stdout",
       "text": [
        "La raiz 3 de 8 es:  2.0\n",
        "El numero de iteraciones para encontrar esta raiz fueron:  1\n"
       ]
      }
     ],
     "prompt_number": 35
    },
    {
     "cell_type": "code",
     "collapsed": false,
     "input": [],
     "language": "python",
     "metadata": {},
     "outputs": []
    }
   ],
   "metadata": {}
  }
 ]
}