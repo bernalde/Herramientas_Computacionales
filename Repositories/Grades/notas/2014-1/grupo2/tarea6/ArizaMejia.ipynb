{
 "metadata": {
  "name": "Juan Felipe Ariza Mejia"
 },
 "nbformat": 3,
 "nbformat_minor": 0,
 "worksheets": [
  {
   "cells": [
    {
     "cell_type": "code",
     "collapsed": false,
     "input": [
      "N = 6954849159561456464123234151565863115641561564231654651151531\n",
      "Xmin = 0\n",
      "Xmax = N\n",
      "X = (Xmax + Xmin)/2.0\n",
      "while (abs(X**2 - N) >= 1):\n",
      "    X = (Xmax + Xmin)/2.0\n",
      "    if (X**2 > N):\n",
      "        Xmax = X\n",
      "    if (X**2 < N):\n",
      "        Xmin = X\n",
      "X"
     ],
     "language": "python",
     "metadata": {},
     "outputs": [
      {
       "output_type": "pyout",
       "prompt_number": 64,
       "text": [
        "2.637204800458519e+30"
       ]
      }
     ],
     "prompt_number": 64
    },
    {
     "cell_type": "code",
     "collapsed": false,
     "input": [
      "%pylab inline"
     ],
     "language": "python",
     "metadata": {},
     "outputs": [
      {
       "output_type": "stream",
       "stream": "stdout",
       "text": [
        "\n",
        "Welcome to pylab, a matplotlib-based Python environment [backend: module://IPython.kernel.zmq.pylab.backend_inline].\n",
        "For more information, type 'help(pylab)'.\n"
       ]
      }
     ],
     "prompt_number": 65
    },
    {
     "cell_type": "code",
     "collapsed": false,
     "input": [
      "def bisection(raiz_n, x, epsilon):\n",
      "    min_number = 0.0\n",
      "    max_number = max(1.0,x)\n",
      "    root = (min_number + max_number)/2.0\n",
      "    iterations = 0\n",
      "\n",
      "    while abs(root**raiz_n - x)> epsilon:\n",
      "        iterations += 1\n",
      "        if root**raiz_n < x:\n",
      "            min_number = root\n",
      "        elif root**raiz_n > x:\n",
      "            max_number = root\n",
      "        root = (min_number + max_number)/2.0\n",
      "    print \"La raiz \", raiz_n,\"-esima de\", x, \"es: \",root \n",
      "    print \"El numero de iteraciones para encontrar esta raiz fueron: \", iterations"
     ],
     "language": "python",
     "metadata": {},
     "outputs": [],
     "prompt_number": 84
    },
    {
     "cell_type": "code",
     "collapsed": false,
     "input": [
      "bisection(10,10143546515024,1)"
     ],
     "language": "python",
     "metadata": {},
     "outputs": [
      {
       "output_type": "stream",
       "stream": "stdout",
       "text": [
        "La raiz  10 -esima de 10143546515024 es:  19.9810810984\n",
        "El numero de iteraciones para encontrar esta raiz fueron:  84\n"
       ]
      }
     ],
     "prompt_number": 90
    },
    {
     "cell_type": "code",
     "collapsed": false,
     "input": [
      "bisection(4, 16, 1)"
     ],
     "language": "python",
     "metadata": {},
     "outputs": [
      {
       "output_type": "stream",
       "stream": "stdout",
       "text": [
        "La raiz  4 -esima de 16 es:  2.0\n",
        "El numero de iteraciones para encontrar esta raiz fueron:  2\n"
       ]
      }
     ],
     "prompt_number": 91
    },
    {
     "cell_type": "code",
     "collapsed": false,
     "input": [],
     "language": "python",
     "metadata": {},
     "outputs": []
    }
   ],
   "metadata": {}
  }
 ]
}