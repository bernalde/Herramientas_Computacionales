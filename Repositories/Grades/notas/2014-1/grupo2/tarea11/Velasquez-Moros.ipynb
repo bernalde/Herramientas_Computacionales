{
 "metadata": {
  "name": "Metropolis-Hastings"
 },
 "nbformat": 3,
 "nbformat_minor": 0,
 "worksheets": [
  {
   "cells": [
    {
     "cell_type": "code",
     "collapsed": false,
     "input": [
      "%pylab inline\n",
      "import math"
     ],
     "language": "python",
     "metadata": {},
     "outputs": [
      {
       "output_type": "stream",
       "stream": "stdout",
       "text": [
        "\n",
        "Welcome to pylab, a matplotlib-based Python environment [backend: module://IPython.kernel.zmq.pylab.backend_inline].\n",
        "For more information, type 'help(pylab)'.\n"
       ]
      }
     ],
     "prompt_number": 1
    },
    {
     "cell_type": "code",
     "collapsed": false,
     "input": [
      "def function(x):\n",
      "    y = (exp(-(x**2)))/((x-3)**2+(0.01)**2)\n",
      "    return y"
     ],
     "language": "python",
     "metadata": {},
     "outputs": [],
     "prompt_number": 5
    },
    {
     "cell_type": "code",
     "collapsed": false,
     "input": [
      "X = linspace(-5, 5, 100)\n",
      "Y = function(X)"
     ],
     "language": "python",
     "metadata": {},
     "outputs": [],
     "prompt_number": 87
    },
    {
     "cell_type": "code",
     "collapsed": false,
     "input": [
      "plot(X, Y)"
     ],
     "language": "python",
     "metadata": {},
     "outputs": [
      {
       "output_type": "pyout",
       "prompt_number": 88,
       "text": [
        "[<matplotlib.lines.Line2D at 0xcd29290>]"
       ]
      },
      {
       "output_type": "display_data",
       "png": "[encoded data removed]",
       "text": [
        "<matplotlib.figure.Figure at 0xb4cbe50>"
       ]
      }
     ],
     "prompt_number": 88
    },
    {
     "cell_type": "code",
     "collapsed": false,
     "input": [
      "pasos = []\n",
      "x = random.random()*8-4\n",
      "pasos.append(x)"
     ],
     "language": "python",
     "metadata": {},
     "outputs": [],
     "prompt_number": 89
    },
    {
     "cell_type": "code",
     "collapsed": false,
     "input": [
      "for i in range(200000):\n",
      "    x = random.random()*2-1 \n",
      "    a = function(x + pasos[len(pasos)-1])/function(pasos[len(pasos)-1])\n",
      "\n",
      "    if a>=1.0:\n",
      "        pasos.append(pasos[len(pasos)-1]+x)\n",
      "    else:\n",
      "        b = random.random()\n",
      "        if(b<=a):\n",
      "            pasos.append(pasos[len(pasos)-1]+x)\n",
      "        if(b>a):\n",
      "            pasos.append(pasos[len(pasos)-1])"
     ],
     "language": "python",
     "metadata": {},
     "outputs": [],
     "prompt_number": 90
    },
    {
     "cell_type": "code",
     "collapsed": false,
     "input": [
      "histo = hist(walk, bins=75, normed=True, color ='purple')\n",
      "f = function(X)\n",
      "norma=sum(f*(X[1]-X[0]))\n",
      "plot(X, f/norma, color='purple')\n"
     ],
     "language": "python",
     "metadata": {},
     "outputs": [
      {
       "output_type": "pyout",
       "prompt_number": 93,
       "text": [
        "[<matplotlib.lines.Line2D at 0xcf38d90>]"
       ]
      },
      {
       "output_type": "display_data",
       "png": "[encoded data removed]",
       "text": [
        "<matplotlib.figure.Figure at 0xcf38ed0>"
       ]
      }
     ],
     "prompt_number": 93
    },
    {
     "cell_type": "code",
     "collapsed": false,
     "input": [],
     "language": "python",
     "metadata": {},
     "outputs": []
    }
   ],
   "metadata": {}
  }
 ]
}