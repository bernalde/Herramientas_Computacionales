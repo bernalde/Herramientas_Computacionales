{
 "metadata": {
  "name": "MCMC- Aguilar Montero"
 },
 "nbformat": 3,
 "nbformat_minor": 0,
 "worksheets": [
  {
   "cells": [
    {
     "cell_type": "code",
     "collapsed": false,
     "input": [
      "%pylab inline\n",
      "import math"
     ],
     "language": "python",
     "metadata": {},
     "outputs": [
      {
       "output_type": "stream",
       "stream": "stdout",
       "text": [
        "\n",
        "Welcome to pylab, a matplotlib-based Python environment [backend: module://IPython.kernel.zmq.pylab.backend_inline].\n",
        "For more information, type 'help(pylab)'.\n"
       ]
      }
     ],
     "prompt_number": 1
    },
    {
     "cell_type": "code",
     "collapsed": false,
     "input": [
      "\n",
      "\n",
      "def function(x):\n",
      "    y = exp((-((x)**2)))/(((x-3)**2)+(0.01**2))\n",
      "    return y\n",
      "\n",
      "\n",
      "\n",
      "X = linspace(-3, 4, 100)\n",
      "Y = function(X)\n",
      "\n",
      "plot(X, Y)\n",
      "\n",
      "\n"
     ],
     "language": "python",
     "metadata": {},
     "outputs": [
      {
       "output_type": "pyout",
       "prompt_number": 23,
       "text": [
        "[<matplotlib.lines.Line2D at 0x4666b10>]"
       ]
      },
      {
       "output_type": "display_data",
       "png": "[encoded data removed]",
       "text": [
        "<matplotlib.figure.Figure at 0x3ebabd0>"
       ]
      }
     ],
     "prompt_number": 23
    },
    {
     "cell_type": "code",
     "collapsed": false,
     "input": [
      "\n",
      "\n",
      "w = []\n",
      "x = random.random()*8-4 \n",
      "w.append(x)\n",
      "\n",
      "\n",
      "\n",
      "for i in range(200000):\n",
      "    x = random.random()*2-1 \n",
      "    a = function(x + w[-1])/function(w[-1])\n",
      "\n",
      "    if a>=1.0:\n",
      "        w.append(w[-1]+x)\n",
      "    else:\n",
      "        b = random.random()\n",
      "        if(b<=a):\n",
      "            w.append(w[-1]+x)\n",
      "        else:\n",
      "            w.append(w[-1])\n",
      "\n",
      "\n",
      "\n",
      "histo = hist(w, bins=150, normed=True, color=\"c\")\n",
      "f = function(X)\n",
      "norm = sum(f*(X[1]-X[0]))\n",
      "plot(X,f/norm, linewidth=1, color='b')\n",
      "\n",
      "\n"
     ],
     "language": "python",
     "metadata": {},
     "outputs": [
      {
       "output_type": "pyout",
       "prompt_number": 35,
       "text": [
        "[<matplotlib.lines.Line2D at 0x923bcd0>]"
       ]
      },
      {
       "output_type": "display_data",
       "png": "[encoded data removed]",
       "text": [
        "<matplotlib.figure.Figure at 0x923bd50>"
       ]
      }
     ],
     "prompt_number": 35
    },
    {
     "cell_type": "code",
     "collapsed": false,
     "input": [],
     "language": "python",
     "metadata": {},
     "outputs": []
    }
   ],
   "metadata": {}
  }
 ]
}